{
 "cells": [
  {
   "cell_type": "markdown",
   "metadata": {},
   "source": [
    "ITI - 4 Month Intensive Program - DevOps"
   ]
  },
  {
   "cell_type": "markdown",
   "metadata": {},
   "source": [
    "Python - Lab 02"
   ]
  },
  {
   "cell_type": "markdown",
   "metadata": {},
   "source": [
    "###########################################################################################"
   ]
  },
  {
   "cell_type": "markdown",
   "metadata": {},
   "source": [
    "###########################################################################################"
   ]
  },
  {
   "cell_type": "markdown",
   "metadata": {},
   "source": [
    "How are data types immutable? Hint: Hashing and Caching and Encryption"
   ]
  },
  {
   "cell_type": "markdown",
   "metadata": {},
   "source": [
    "###########################################################################################"
   ]
  },
  {
   "cell_type": "markdown",
   "metadata": {},
   "source": [
    "###########################################################################################"
   ]
  },
  {
   "cell_type": "markdown",
   "metadata": {},
   "source": [
    "Question 01: Write a function that accepts two arguments (length, start) to generate an array of a specific length filled with integer numbers increased by one from start."
   ]
  },
  {
   "cell_type": "code",
   "execution_count": 11,
   "metadata": {},
   "outputs": [
    {
     "name": "stdout",
     "output_type": "stream",
     "text": [
      "The array you entered is: [4, 5, 6, 7, 8]\n"
     ]
    }
   ],
   "source": [
    "import tkinter as tk\n",
    "from tkinter import simpledialog, messagebox\n",
    "\n",
    "root = tk.Tk() # Create the Tkinter root window\n",
    "root.withdraw()  # Hide the root window\n",
    "\n",
    "def arrayGenerator(length=None, start=None):\n",
    "    retries = 3\n",
    "    attempts = 0\n",
    "    while attempts < retries:\n",
    "        if length is None:\n",
    "            length = simpledialog.askstring(\"Input\", f\"Enter the size of the array (attempts remaining: {retries - attempts}):\")\n",
    "        if start is None:\n",
    "            start = simpledialog.askstring(\"Input\", f\"Enter the start point of the array (attempts remaining {retries - attempts}):\")\n",
    "        \n",
    "        # Check if inputs are valid integers\n",
    "        if length.isdigit() and start.isdigit():\n",
    "            length = int(length)\n",
    "            start = int(start)\n",
    "            \n",
    "            targetArray = []\n",
    "            \n",
    "            # Generate the array\n",
    "            for i in range(start, start + length):\n",
    "                targetArray.append(i)\n",
    "            \n",
    "            # Display the final array in a messagebox\n",
    "            tk.messagebox.showinfo(\"Result\", f\"The array you entered is: {targetArray}\")\n",
    "            # Display the final array\n",
    "            print(\"The array you entered is:\", targetArray)\n",
    "            break\n",
    "        else:\n",
    "            attempts += 1\n",
    "            messagebox.showerror(\"Error\", f\"Invalid inputs. You have {retries - attempts} attempts remaining.\")\n",
    "            length, start = None, None # Reset length and start to re-prompt\n",
    "\n",
    "    if attempts == retries:\n",
    "        messagebox.showwarning(\"Warning\", \"Maximum retries reached. Exiting the program...\")\n",
    "        \n",
    "#############################################\n",
    "# Call the function to start the program\n",
    "\n",
    "arrayLength = simpledialog.askstring(\"Input\", f\"Enter the size of the array: \")\n",
    "arrayStart = simpledialog.askstring(\"Input\", f\"Enter the start point of the array: \")\n",
    "\n",
    "arrayGenerator(arrayLength, arrayStart)\n",
    "###########################################"
   ]
  },
  {
   "cell_type": "markdown",
   "metadata": {},
   "source": [
    "###########################################################################################"
   ]
  },
  {
   "cell_type": "markdown",
   "metadata": {},
   "source": [
    "###########################################################################################"
   ]
  },
  {
   "cell_type": "markdown",
   "metadata": {},
   "source": [
    "Question 02: Write a function that takes a number as an argument and if the number divisible by 3 return \"Fizz\" and if it is divisible by 5 return \"buzz\" and if is is divisible by both return \"FizzBuzz\""
   ]
  },
  {
   "cell_type": "code",
   "execution_count": 6,
   "metadata": {},
   "outputs": [
    {
     "name": "stdout",
     "output_type": "stream",
     "text": [
      "The number of vowels I have in the given string is:  16\n",
      "And their indexes are @:\n",
      "\n",
      "Character:    i,    Index:    2\n",
      "Character:    i,    Index:    8\n",
      "Character:    o,    Index:    13\n",
      "Character:    a,    Index:    16\n",
      "Character:    i,    Index:    17\n",
      "Character:    a,    Index:    21\n",
      "Character:    i,    Index:    24\n",
      "Character:    u,    Index:    27\n",
      "Character:    e,    Index:    29\n",
      "Character:    o,    Index:    31\n",
      "Character:    o,    Index:    35\n",
      "Character:    e,    Index:    37\n",
      "Character:    o,    Index:    46\n",
      "Character:    u,    Index:    47\n",
      "Character:    i,    Index:    52\n",
      "Character:    e,    Index:    58\n"
     ]
    }
   ],
   "source": [
    "import tkinter as tk\n",
    "from tkinter import simpledialog\n",
    "\n",
    "root = tk.Tk() # Create the Tkinter root window\n",
    "root.withdraw()  # Hide the root window\n",
    "\n",
    "def arrayGenerator(input=None):\n",
    "    retries = 3\n",
    "    attempts = 0\n",
    "    while attempts < retries:\n",
    "        if input is None:\n",
    "            input = simpledialog.askstring(\"Input\", f\"Enter the value (attempts remaining: {retries - attempts}):\")\n",
    "       \n",
    "        # Check if the input is a valid integer\n",
    "        if input.isdigit():\n",
    "            input = int(input)\n",
    "            \n",
    "            if (input % 3) == 0:\n",
    "                \n",
    "        \n",
    "            for i in range(start, start + length):\n",
    "                targetArray.append(i)\n",
    "            \n",
    "            # Display the final array\n",
    "            print(\"The array you entered is:\", targetArray)\n",
    "            print(\"\\n\")\n",
    "\n",
    "            # Display the final array in a messagebox\n",
    "            tk.messagebox.showinfo(\"Result\", f\"The array you entered is: {targetArray}\")\n",
    "            # Display the final array\n",
    "            print(\"The array you entered is:\", targetArray)\n",
    "            break\n",
    "        else:\n",
    "            attempts += 1\n",
    "            messagebox.showerror(\"Error\", f\"Invalid inputs. You have {retries - attempts} attempts remaining.\")\n",
    "            length, start = None, None # Reset length and start to re-prompt\n",
    "\n",
    "    if attempts == retries:\n",
    "        messagebox.showwarning(\"Warning\", \"Maximum retries reached. Exiting the program...\")\n",
    "        \n",
    "#############################################\n",
    "# Call the function to start the program\n",
    "\n",
    "arrayLength = simpledialog.askstring(\"Input\", f\"Enter the size of the array: \")\n",
    "arrayStart = simpledialog.askstring(\"Input\", f\"Enter the start point of the array: \")\n",
    "\n",
    "arrayGenerator(arrayLength, arrayStart)\n",
    "###########################################"
   ]
  },
  {
   "cell_type": "markdown",
   "metadata": {},
   "source": [
    "###########################################################################################"
   ]
  },
  {
   "cell_type": "markdown",
   "metadata": {},
   "source": [
    "###########################################################################################"
   ]
  },
  {
   "cell_type": "markdown",
   "metadata": {},
   "source": [
    "Question 03: Fill an array of 5 elements from the user, Sort it in descending and ascending orders then display the output."
   ]
  },
  {
   "cell_type": "code",
   "execution_count": 5,
   "metadata": {},
   "outputs": [
    {
     "name": "stdout",
     "output_type": "stream",
     "text": [
      "Please enter 4 elements:\n",
      "The array you entered is: ['hsoas', 'riyad', 'cairo', 'ziyad']\n",
      "The array in descending is:  ['ziyad', 'riyad', 'hsoas', 'cairo']\n",
      "The array in ascending is:  ['cairo', 'hsoas', 'riyad', 'ziyad']\n"
     ]
    }
   ],
   "source": [
    "import tkinter as tk\n",
    "from tkinter import simpledialog\n",
    "\n",
    "root = tk.Tk() # Create the Tkinter root window\n",
    "root.withdraw()  # Hide the root window\n",
    "\n",
    "size = int(simpledialog.askstring(\"Input\", f\"Enter the size of the array: \"))\n",
    "\n",
    "testArray = []\n",
    "\n",
    "# Now fill the array elements\n",
    "print(f\"Please enter {size} elements:\")\n",
    "\n",
    "for i in range(size):\n",
    "    element = simpledialog.askstring(\"Input\", f\"Enter element {i + 1}:\")\n",
    "    testArray.append(element)\n",
    "\n",
    "# Display the final array\n",
    "print(\"The array you entered is:\", testArray)\n",
    "print(\"\\n\")\n",
    "\n",
    "# Display the array in a descending order\n",
    "testArray.sort(reverse=True)\n",
    "print(\"The array in descending is: \", testArray)\n",
    "\n",
    "# Display the array in a ascending order\n",
    "testArray.sort(reverse=False)\n",
    "print(\"The array in ascending is: \", testArray)\n",
    "###########################################"
   ]
  },
  {
   "cell_type": "markdown",
   "metadata": {},
   "source": [
    "###########################################################################################"
   ]
  },
  {
   "cell_type": "markdown",
   "metadata": {},
   "source": [
    "###########################################################################################"
   ]
  },
  {
   "cell_type": "markdown",
   "metadata": {},
   "source": [
    "Question 04: Write a program that prints the number of times the string 'iti' occurs in any order in a given string."
   ]
  },
  {
   "cell_type": "code",
   "execution_count": 7,
   "metadata": {},
   "outputs": [
    {
     "name": "stdout",
     "output_type": "stream",
     "text": [
      "The original string is:  This string will contain iti several iti times, should print iti 3 times!\n",
      "The number of times the word iti appeared is:  3\n",
      "And their indexes are @:\n",
      "\n",
      "Word:    iti,    Index:    4\n",
      "Word:    iti,    Index:    6\n",
      "Word:    iti,    Index:    10\n"
     ]
    }
   ],
   "source": [
    "testString = \"This string will contain iti several iti times, should print iti 3 times!\"\n",
    "counter = 0\n",
    "\n",
    "splittedString = testString.split()\n",
    "requiredWord = \"iti\"\n",
    "\n",
    "for word in splittedString:\n",
    "    if word == requiredWord:\n",
    "        counter += 1\n",
    "\n",
    "print(\"The original string is: \", testString)\n",
    "print(\"The number of times the word iti appeared is: \", counter);\n",
    "print(\"And their indexes are @:\\n\");\n",
    "\n",
    "for index, word in enumerate(splittedString):\n",
    "    if word == requiredWord:\n",
    "        print(f\"Word:    {word},    Index:    {index}\")\n",
    "###########################################"
   ]
  },
  {
   "cell_type": "markdown",
   "metadata": {},
   "source": [
    "###########################################################################################"
   ]
  },
  {
   "cell_type": "markdown",
   "metadata": {},
   "source": [
    "###########################################################################################"
   ]
  },
  {
   "cell_type": "markdown",
   "metadata": {},
   "source": [
    "Question 05: Write a program that remove all vowels from the input word and\n",
    "generate a brief version of it"
   ]
  },
  {
   "cell_type": "code",
   "execution_count": 16,
   "metadata": {},
   "outputs": [
    {
     "name": "stdout",
     "output_type": "stream",
     "text": [
      "The word before updating is:  hossammeuiabdo\n",
      "The word after updating is:  hssmmbd\n"
     ]
    }
   ],
   "source": [
    "import tkinter as tk\n",
    "from tkinter import simpledialog\n",
    "\n",
    "root = tk.Tk() # Create the Tkinter root window\n",
    "root.withdraw()  # Hide the root window\n",
    "\n",
    "word = simpledialog.askstring(\"Input\", f\"Enter the word: \")\n",
    "\n",
    "newWord = \"\";\n",
    "vowels = \"aeiou\"\n",
    "\n",
    "for index, char in enumerate(word):\n",
    "    if char not in vowels:\n",
    "        newWord += char;\n",
    "        \n",
    "print(\"The word before updating is: \", word);\n",
    "print(\"The word after updating is: \", newWord);\n",
    "###########################################"
   ]
  },
  {
   "cell_type": "markdown",
   "metadata": {},
   "source": [
    "###########################################################################################"
   ]
  },
  {
   "cell_type": "markdown",
   "metadata": {},
   "source": [
    "###########################################################################################"
   ]
  },
  {
   "cell_type": "markdown",
   "metadata": {},
   "source": [
    "Question 06: Write a program that prints the locations of \"i\" character in any string you added"
   ]
  },
  {
   "cell_type": "code",
   "execution_count": 17,
   "metadata": {},
   "outputs": [
    {
     "name": "stdout",
     "output_type": "stream",
     "text": [
      "The number of vowels I have in the given string is:  5\n",
      "And their indexes are @:\n",
      "\n",
      "Character:    i,    Index:    2\n",
      "Character:    i,    Index:    8\n",
      "Character:    i,    Index:    17\n",
      "Character:    i,    Index:    24\n",
      "Character:    i,    Index:    52\n"
     ]
    }
   ],
   "source": [
    "testString = \"This string contains a mixture of vowels, I should find them.\"\n",
    "counter = 0\n",
    "\n",
    "for char in testString:\n",
    "    if char in 'i':\n",
    "        counter += 1\n",
    "\n",
    "print(\"The number of vowels I have in the given string is: \", counter);\n",
    "print(\"And their indexes are @:\\n\");\n",
    "\n",
    "for index, char in enumerate(testString):\n",
    "    if char in 'i':\n",
    "        print(f\"Character:    {char},    Index:    {index}\")\n",
    "###########################################"
   ]
  },
  {
   "cell_type": "markdown",
   "metadata": {},
   "source": [
    "###########################################################################################"
   ]
  },
  {
   "cell_type": "markdown",
   "metadata": {},
   "source": [
    "###########################################################################################"
   ]
  },
  {
   "cell_type": "markdown",
   "metadata": {},
   "source": [
    "Question 07: Write a program that generate a multiplication table from 1 to the\n",
    "number passed"
   ]
  },
  {
   "cell_type": "code",
   "execution_count": 24,
   "metadata": {},
   "outputs": [
    {
     "name": "stdout",
     "output_type": "stream",
     "text": [
      "The List of Lists is:  [[1], [2, 4], [3, 6, 9], [4, 8, 12, 16], [5, 10, 15, 20, 25], [6, 12, 18, 24, 30, 36]]\n"
     ]
    }
   ],
   "source": [
    "import tkinter as tk\n",
    "from tkinter import simpledialog\n",
    "\n",
    "root = tk.Tk() # Create the Tkinter root window\n",
    "root.withdraw()  # Hide the root window\n",
    "\n",
    "inputNumber = simpledialog.askstring(\"Input\", f\"Enter the number you want to create the multiplication table for: \")\n",
    "\n",
    "\n",
    "if inputNumber.isdigit():\n",
    "    inputNumber = int(inputNumber)\n",
    "    \n",
    "    listOfLists = []\n",
    "    \n",
    "    for index in range(1, inputNumber + 1):\n",
    "        newList = []\n",
    "        for j in range(1, index + 1):\n",
    "            newList.append(j*index)\n",
    "        listOfLists.append(newList)\n",
    "\n",
    "print(\"The List of Lists is: \", listOfLists);\n",
    "###########################################"
   ]
  },
  {
   "cell_type": "markdown",
   "metadata": {},
   "source": [
    "###########################################################################################"
   ]
  },
  {
   "cell_type": "markdown",
   "metadata": {},
   "source": [
    "###########################################################################################"
   ]
  },
  {
   "cell_type": "markdown",
   "metadata": {},
   "source": [
    "Question 08: Write a program that build a Mario pyramid like below"
   ]
  },
  {
   "cell_type": "code",
   "execution_count": 35,
   "metadata": {},
   "outputs": [
    {
     "name": "stdout",
     "output_type": "stream",
     "text": [
      "Here is a pyramid of size:  5 \n",
      "\n",
      "        *\n",
      "      **\n",
      "    ***\n",
      "  ****\n",
      "*****\n"
     ]
    }
   ],
   "source": [
    "import tkinter as tk\n",
    "from tkinter import simpledialog\n",
    "\n",
    "root = tk.Tk() # Create the Tkinter root window\n",
    "root.withdraw()  # Hide the root window\n",
    "\n",
    "inputNumber = simpledialog.askstring(\"Input\", f\"Enter the size of Mario Pyramid: \")\n",
    "\n",
    "variable = \"\";\n",
    "\n",
    "if inputNumber.isdigit():\n",
    "    inputNumber = int(inputNumber)\n",
    "    \n",
    "    print(\"Here is a pyramid of size: \", inputNumber, \"\\n\")\n",
    "    \n",
    "    for index in range(1, inputNumber + 1):\n",
    "        variable = (\"  \" * (inputNumber - index)) + (\"*\" * (index))\n",
    "        print(variable)\n",
    "###########################################"
   ]
  }
 ],
 "metadata": {
  "kernelspec": {
   "display_name": "Python 3",
   "language": "python",
   "name": "python3"
  },
  "language_info": {
   "codemirror_mode": {
    "name": "ipython",
    "version": 3
   },
   "file_extension": ".py",
   "mimetype": "text/x-python",
   "name": "python",
   "nbconvert_exporter": "python",
   "pygments_lexer": "ipython3",
   "version": "3.13.1"
  }
 },
 "nbformat": 4,
 "nbformat_minor": 2
}
