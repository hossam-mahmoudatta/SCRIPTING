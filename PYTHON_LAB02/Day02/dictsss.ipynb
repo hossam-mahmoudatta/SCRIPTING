{
 "cells": [
  {
   "metadata": {},
   "cell_type": "markdown",
   "source": "<h1 style='color:green'>Dictionary</h1>",
   "id": "580c6538a4ea45f2"
  },
  {
   "cell_type": "code",
   "id": "initial_id",
   "metadata": {
    "collapsed": true
   },
   "source": [
    "# dict comma seperated key:value pair\n",
    "\"1- define the dict \"\n",
    "d = {}\n",
    "myd = dict ()"
   ],
   "outputs": [],
   "execution_count": null
  },
  {
   "metadata": {},
   "cell_type": "code",
   "source": [
    "# dict --> doesn't allow key duplication\n",
    "\n",
    "myd= {\n",
    "    \"name\":\"Ahmed\", \n",
    "    'track':\"Devops\",\n",
    "    'name': \"Ahmed Hamdy\"\n",
    "}\n",
    "print(myd)"
   ],
   "id": "ad51aced965c84bb",
   "outputs": [],
   "execution_count": null
  },
  {
   "metadata": {},
   "cell_type": "code",
   "source": [
    "info = ['noha', 'ai', 'iti', 'mansoura', 2014, 2019]\n",
    "# info \n",
    "info ={\n",
    "    \"name\":\"noha\",\n",
    "    'track': 'ai',\n",
    "    \"work\": 'iti',\n",
    "    'city': \"mansoura\",\n",
    "    'grad': 2014, \n",
    "    'workyear': 2019 \n",
    "}"
   ],
   "id": "b5e8002678b3f1f9",
   "outputs": [],
   "execution_count": null
  },
  {
   "metadata": {},
   "cell_type": "markdown",
   "source": [
    "struct Emp{\n",
    "    int id;\n",
    "    char [] name;\n",
    "};"
   ],
   "id": "f1ea1b45e93c43a9"
  },
  {
   "metadata": {},
   "cell_type": "code",
   "source": "print(info)",
   "id": "693be29b1669d360",
   "outputs": [],
   "execution_count": null
  },
  {
   "metadata": {},
   "cell_type": "code",
   "source": "print(len(info))",
   "id": "a28b2067a4609c97",
   "outputs": [],
   "execution_count": null
  },
  {
   "metadata": {},
   "cell_type": "code",
   "source": [
    "# access dict using key  \n",
    "print(info['name'])"
   ],
   "id": "740cccc11848d897",
   "outputs": [],
   "execution_count": null
  },
  {
   "metadata": {},
   "cell_type": "code",
   "source": [
    "# mutable datatypes ?\n",
    "info['name']='Noha Shehab'  # update the value\n",
    "print(info)"
   ],
   "id": "c996b7018d9c5774",
   "outputs": [],
   "execution_count": null
  },
  {
   "metadata": {},
   "cell_type": "code",
   "source": [
    "info['salary']= 3000  # add this key:value pair at the end of the dict\n",
    "print(info)"
   ],
   "id": "22bf1d566470b079",
   "outputs": [],
   "execution_count": null
  },
  {
   "metadata": {},
   "cell_type": "code",
   "source": [
    "info[\"courses\"]=[\"python\", \"linux\", \"ml\"]\n",
    "print(info)"
   ],
   "id": "26014154e58c474a",
   "outputs": [],
   "execution_count": null
  },
  {
   "metadata": {},
   "cell_type": "code",
   "source": "",
   "id": "8df246bfe8cc13e1",
   "outputs": [],
   "execution_count": null
  },
  {
   "metadata": {},
   "cell_type": "markdown",
   "source": " len of the dict ?",
   "id": "c09bcede73aec442"
  },
  {
   "metadata": {},
   "cell_type": "code",
   "source": "print(len(info))",
   "id": "f579d6fc188c23a0",
   "outputs": [],
   "execution_count": null
  },
  {
   "metadata": {},
   "cell_type": "code",
   "source": [
    "# pop element from dict ?? --> I need to know the key \n",
    "popped_val = info.pop(\"courses\")\n",
    "print(popped_val)\n",
    "print(info)"
   ],
   "id": "449c00007f7be50f",
   "outputs": [],
   "execution_count": null
  },
  {
   "metadata": {},
   "cell_type": "markdown",
   "source": [
    "# dict is iterable \n",
    "<img src=\"mared.jpeg\" width='200' height='200'>"
   ],
   "id": "31dee38ab2ade77f"
  },
  {
   "metadata": {},
   "cell_type": "code",
   "source": [
    "for mared in info:\n",
    "    print(f'mared= {mared}')\n"
   ],
   "id": "8a772df998a3a72a",
   "outputs": [],
   "execution_count": null
  },
  {
   "metadata": {},
   "cell_type": "code",
   "source": [
    "# get keys, values \n",
    "for mared in info:\n",
    "    print(f\"key={mared}, value={info[mared]}\")\n"
   ],
   "id": "61937c852036d11a",
   "outputs": [],
   "execution_count": null
  },
  {
   "metadata": {},
   "cell_type": "markdown",
   "source": "get dict keys ",
   "id": "6cce348e7dd97423"
  },
  {
   "metadata": {},
   "cell_type": "code",
   "source": [
    "keys = info.keys()\n",
    "print(keys)  # dict_keys\n",
    "keys_list= list(keys)\n",
    "print(keys_list)"
   ],
   "id": "f2d4418db4cc0c4c",
   "outputs": [],
   "execution_count": null
  },
  {
   "metadata": {},
   "cell_type": "code",
   "source": [
    "# get values \n",
    "values = info.values()  # dict_values\n",
    "print(values)\n",
    "values_tuple  = tuple(values)\n",
    "print(values_tuple)"
   ],
   "id": "2316de5707500b07",
   "outputs": [],
   "execution_count": null
  },
  {
   "metadata": {
    "ExecuteTime": {
     "end_time": "2025-01-02T08:29:46.988268Z",
     "start_time": "2025-01-02T08:29:46.984004Z"
    }
   },
   "cell_type": "code",
   "source": [
    "# get keys , values \n",
    "items =  info.items() #dict_items\n",
    "print(items)"
   ],
   "id": "fbe246381b022dfd",
   "outputs": [
    {
     "name": "stdout",
     "output_type": "stream",
     "text": [
      "dict_items([('name', 'Noha Shehab'), ('track', 'ai'), ('work', 'iti'), ('city', 'mansoura'), ('grad', 2014), ('workyear', 2019), ('salary', 3000)])\n"
     ]
    }
   ],
   "execution_count": 20
  },
  {
   "metadata": {
    "ExecuteTime": {
     "end_time": "2025-01-02T08:32:31.996377Z",
     "start_time": "2025-01-02T08:32:31.982134Z"
    }
   },
   "cell_type": "code",
   "source": [
    "items_list= list(items)\n",
    "print(items_list)"
   ],
   "id": "d8020c4bfb52feaf",
   "outputs": [
    {
     "name": "stdout",
     "output_type": "stream",
     "text": [
      "[('name', 'Noha Shehab'), ('track', 'ai'), ('work', 'iti'), ('city', 'mansoura'), ('grad', 2014), ('workyear', 2019), ('salary', 3000)]\n"
     ]
    }
   ],
   "execution_count": 21
  },
  {
   "metadata": {},
   "cell_type": "markdown",
   "source": "",
   "id": "82f97d05092f060e"
  },
  {
   "metadata": {},
   "cell_type": "code",
   "source": [
    "for index , item in enumerate(info):\n",
    "    print(f'{index}: {item}')"
   ],
   "id": "89fc595bdd580a1d",
   "outputs": [],
   "execution_count": null
  },
  {
   "metadata": {
    "ExecuteTime": {
     "end_time": "2025-01-02T08:36:11.575368Z",
     "start_time": "2025-01-02T08:36:11.567792Z"
    }
   },
   "cell_type": "code",
   "source": [
    "additional_info ={\n",
    "    \"hoppy\":'reading',\n",
    "    'age': 32,\n",
    "    \"name\": \"Noha\"\n",
    "}\n",
    "\n",
    "# update content of the info dict ??\n",
    "info.update(additional_info)\n",
    "print(info)\n"
   ],
   "id": "235878056ec96be",
   "outputs": [
    {
     "name": "stdout",
     "output_type": "stream",
     "text": [
      "{'name': 'Noha', 'track': 'ai', 'work': 'iti', 'city': 'mansoura', 'grad': 2014, 'workyear': 2019, 'salary': 3000, 'hoppy': 'reading', 'age': 32}\n"
     ]
    }
   ],
   "execution_count": 22
  },
  {
   "metadata": {},
   "cell_type": "code",
   "source": [
    "# del variable from memory \n",
    "del info"
   ],
   "id": "a992dba21e54b8dd",
   "outputs": [],
   "execution_count": null
  },
  {
   "metadata": {},
   "cell_type": "code",
   "source": "print(info)",
   "id": "d8fd4e8ee2699ce0",
   "outputs": [],
   "execution_count": null
  },
  {
   "metadata": {
    "ExecuteTime": {
     "end_time": "2025-01-02T08:38:12.496670Z",
     "start_time": "2025-01-02T08:38:12.491290Z"
    }
   },
   "cell_type": "code",
   "source": "info = {'name': 'Noha', 'track': 'ai', 'work': 'iti', 'city': 'mansoura', 'grad': 2014, 'workyear': 2019, 'salary': 3000, 'hoppy': 'reading', 'age': 32}",
   "id": "cb073d5c20adf77",
   "outputs": [],
   "execution_count": 23
  },
  {
   "metadata": {
    "ExecuteTime": {
     "end_time": "2025-01-02T08:38:13.893052Z",
     "start_time": "2025-01-02T08:38:13.888998Z"
    }
   },
   "cell_type": "code",
   "source": [
    "# \n",
    "del info['grad']\n",
    "print(info)"
   ],
   "id": "66898d2ffecba700",
   "outputs": [
    {
     "name": "stdout",
     "output_type": "stream",
     "text": [
      "{'name': 'Noha', 'track': 'ai', 'work': 'iti', 'city': 'mansoura', 'workyear': 2019, 'salary': 3000, 'hoppy': 'reading', 'age': 32}\n"
     ]
    }
   ],
   "execution_count": 24
  },
  {
   "metadata": {
    "ExecuteTime": {
     "end_time": "2025-01-02T08:38:27.955125Z",
     "start_time": "2025-01-02T08:38:27.943693Z"
    }
   },
   "cell_type": "code",
   "source": "info.clear()",
   "id": "c2cc99595b6a4ec1",
   "outputs": [],
   "execution_count": 25
  },
  {
   "metadata": {
    "ExecuteTime": {
     "end_time": "2025-01-02T08:38:29.635798Z",
     "start_time": "2025-01-02T08:38:29.623258Z"
    }
   },
   "cell_type": "code",
   "source": "print(info)",
   "id": "f2c6a4f19118c6cc",
   "outputs": [
    {
     "name": "stdout",
     "output_type": "stream",
     "text": [
      "{}\n"
     ]
    }
   ],
   "execution_count": 26
  },
  {
   "metadata": {
    "ExecuteTime": {
     "end_time": "2025-01-02T08:38:44.596732Z",
     "start_time": "2025-01-02T08:38:44.591549Z"
    }
   },
   "cell_type": "code",
   "source": [
    "info = {'name': 'Noha', 'track': 'ai', 'work': 'iti', 'city': 'mansoura', 'grad': 2014, 'workyear': 2019, 'salary': 3000, 'hoppy': 'reading', 'age': 32}\n",
    "\n",
    "print(\"Noha\" in info) # in operator --> check if value exists in keys or not. "
   ],
   "id": "d4629656c2d51f91",
   "outputs": [
    {
     "name": "stdout",
     "output_type": "stream",
     "text": [
      "False\n"
     ]
    }
   ],
   "execution_count": 27
  },
  {
   "metadata": {
    "ExecuteTime": {
     "end_time": "2025-01-02T08:38:54.404759Z",
     "start_time": "2025-01-02T08:38:54.400884Z"
    }
   },
   "cell_type": "code",
   "source": "print(\"Noha\" in info.values())",
   "id": "f4018067413cc412",
   "outputs": [
    {
     "name": "stdout",
     "output_type": "stream",
     "text": [
      "True\n"
     ]
    }
   ],
   "execution_count": 28
  },
  {
   "metadata": {},
   "cell_type": "markdown",
   "source": "",
   "id": "440182f197759a45"
  },
  {
   "metadata": {
    "ExecuteTime": {
     "end_time": "2025-01-02T08:39:12.907574Z",
     "start_time": "2025-01-02T08:39:12.902376Z"
    }
   },
   "cell_type": "code",
   "source": "print(list(info)) # list contains keys ",
   "id": "3c9a88eefd46bbe3",
   "outputs": [
    {
     "name": "stdout",
     "output_type": "stream",
     "text": [
      "['name', 'track', 'work', 'city', 'grad', 'workyear', 'salary', 'hoppy', 'age']\n"
     ]
    }
   ],
   "execution_count": 29
  },
  {
   "metadata": {},
   "cell_type": "code",
   "source": "",
   "id": "9273452cf7a2fef",
   "outputs": [],
   "execution_count": null
  },
  {
   "metadata": {},
   "cell_type": "code",
   "source": "",
   "id": "497f5ab99164dd36",
   "outputs": [],
   "execution_count": null
  }
 ],
 "metadata": {
  "kernelspec": {
   "display_name": "Python 3",
   "language": "python",
   "name": "python3"
  },
  "language_info": {
   "codemirror_mode": {
    "name": "ipython",
    "version": 2
   },
   "file_extension": ".py",
   "mimetype": "text/x-python",
   "name": "python",
   "nbconvert_exporter": "python",
   "pygments_lexer": "ipython2",
   "version": "2.7.6"
  }
 },
 "nbformat": 4,
 "nbformat_minor": 5
}
