{
 "cells": [
  {
   "cell_type": "code",
   "id": "initial_id",
   "metadata": {
    "collapsed": true,
    "ExecuteTime": {
     "end_time": "2025-01-02T08:03:14.526124Z",
     "start_time": "2025-01-02T08:03:14.521380Z"
    }
   },
   "source": [
    "\n",
    "s = set()\n",
    "print(s, type(s))"
   ],
   "outputs": [
    {
     "name": "stdout",
     "output_type": "stream",
     "text": [
      "set() <class 'set'>\n"
     ]
    }
   ],
   "execution_count": 1
  },
  {
   "metadata": {
    "ExecuteTime": {
     "end_time": "2025-01-02T08:04:59.413530Z",
     "start_time": "2025-01-02T08:04:59.408355Z"
    }
   },
   "cell_type": "code",
   "source": [
    "mys = {\"Murad\", \"Hassan\", \"tohamy\", \"Ahmed\", \"Ahmed\", \"Ahmed\", 324, \"Mina\",\n",
    "       \"Samy\", ('python', \"Mysql\", \"bash\"), True}\n",
    "print(mys, type(mys))"
   ],
   "id": "4ecc3a43197159a1",
   "outputs": [
    {
     "name": "stdout",
     "output_type": "stream",
     "text": [
      "{True, 324, 'Ahmed', 'Samy', 'Murad', 'Hassan', ('python', 'Mysql', 'bash'), 'tohamy', 'Mina'} <class 'set'>\n"
     ]
    }
   ],
   "execution_count": 2
  },
  {
   "metadata": {
    "ExecuteTime": {
     "end_time": "2025-01-02T08:09:32.432574Z",
     "start_time": "2025-01-02T08:09:32.424395Z"
    }
   },
   "cell_type": "code",
   "source": "print(324 in mys)",
   "id": "fe3f19f2a66520fd",
   "outputs": [
    {
     "name": "stdout",
     "output_type": "stream",
     "text": [
      "True\n"
     ]
    }
   ],
   "execution_count": 3
  },
  {
   "metadata": {
    "ExecuteTime": {
     "end_time": "2025-01-02T08:10:00.232854Z",
     "start_time": "2025-01-02T08:10:00.215637Z"
    }
   },
   "cell_type": "code",
   "source": [
    "for item in mys:\n",
    "    print(item)"
   ],
   "id": "3fbee070b1e8dcce",
   "outputs": [
    {
     "name": "stdout",
     "output_type": "stream",
     "text": [
      "True\n",
      "324\n",
      "Ahmed\n",
      "Samy\n",
      "Murad\n",
      "Hassan\n",
      "('python', 'Mysql', 'bash')\n",
      "tohamy\n",
      "Mina\n"
     ]
    }
   ],
   "execution_count": 4
  },
  {
   "metadata": {
    "ExecuteTime": {
     "end_time": "2025-01-02T08:10:28.973650Z",
     "start_time": "2025-01-02T08:10:28.969710Z"
    }
   },
   "cell_type": "code",
   "source": [
    "mys.add(\"abc\")\n",
    "print(mys)"
   ],
   "id": "1454bcfbf3bb5c6f",
   "outputs": [
    {
     "name": "stdout",
     "output_type": "stream",
     "text": [
      "{True, 324, 'abc', 'Ahmed', 'Samy', 'Murad', 'Hassan', ('python', 'Mysql', 'bash'), 'tohamy', 'Mina'}\n"
     ]
    }
   ],
   "execution_count": 5
  },
  {
   "metadata": {
    "ExecuteTime": {
     "end_time": "2025-01-02T08:10:41.200535Z",
     "start_time": "2025-01-02T08:10:40.946968Z"
    }
   },
   "cell_type": "code",
   "source": "mys.appent(\"noha\")",
   "id": "be8751e76cfa1fdd",
   "outputs": [
    {
     "ename": "AttributeError",
     "evalue": "'set' object has no attribute 'appent'",
     "output_type": "error",
     "traceback": [
      "\u001B[0;31m---------------------------------------------------------------------------\u001B[0m",
      "\u001B[0;31mAttributeError\u001B[0m                            Traceback (most recent call last)",
      "Cell \u001B[0;32mIn[6], line 1\u001B[0m\n\u001B[0;32m----> 1\u001B[0m \u001B[43mmys\u001B[49m\u001B[38;5;241;43m.\u001B[39;49m\u001B[43mappent\u001B[49m(\u001B[38;5;124m\"\u001B[39m\u001B[38;5;124mnoha\u001B[39m\u001B[38;5;124m\"\u001B[39m)\n",
      "\u001B[0;31mAttributeError\u001B[0m: 'set' object has no attribute 'appent'"
     ]
    }
   ],
   "execution_count": 6
  },
  {
   "metadata": {
    "ExecuteTime": {
     "end_time": "2025-01-02T08:11:05.751620Z",
     "start_time": "2025-01-02T08:11:05.741056Z"
    }
   },
   "cell_type": "code",
   "source": "print(mys)",
   "id": "368543b91d040cef",
   "outputs": [
    {
     "name": "stdout",
     "output_type": "stream",
     "text": [
      "{True, 324, 'abc', 'Ahmed', 'Samy', 'Murad', 'Hassan', ('python', 'Mysql', 'bash'), 'tohamy', 'Mina'}\n"
     ]
    }
   ],
   "execution_count": 7
  },
  {
   "metadata": {
    "ExecuteTime": {
     "end_time": "2025-01-02T08:11:39.767747Z",
     "start_time": "2025-01-02T08:11:39.763311Z"
    }
   },
   "cell_type": "code",
   "source": [
    "popped_item=mys.pop()\n",
    "print(popped_item, mys)"
   ],
   "id": "ef34096db37dedab",
   "outputs": [
    {
     "name": "stdout",
     "output_type": "stream",
     "text": [
      "True {324, 'abc', 'Ahmed', 'Samy', 'Murad', 'Hassan', ('python', 'Mysql', 'bash'), 'tohamy', 'Mina'}\n"
     ]
    }
   ],
   "execution_count": 8
  },
  {
   "metadata": {
    "ExecuteTime": {
     "end_time": "2025-01-02T08:12:02.739441Z",
     "start_time": "2025-01-02T08:12:02.733865Z"
    }
   },
   "cell_type": "code",
   "source": "mys.remove(\"Hassan\")",
   "id": "df0ffb2e00434bdb",
   "outputs": [],
   "execution_count": 9
  },
  {
   "metadata": {
    "ExecuteTime": {
     "end_time": "2025-01-02T08:12:05.429655Z",
     "start_time": "2025-01-02T08:12:05.422800Z"
    }
   },
   "cell_type": "code",
   "source": "print(mys)",
   "id": "7702e32b32192054",
   "outputs": [
    {
     "name": "stdout",
     "output_type": "stream",
     "text": [
      "{324, 'abc', 'Ahmed', 'Samy', 'Murad', ('python', 'Mysql', 'bash'), 'tohamy', 'Mina'}\n"
     ]
    }
   ],
   "execution_count": 10
  },
  {
   "metadata": {},
   "cell_type": "code",
   "outputs": [],
   "execution_count": null,
   "source": "",
   "id": "fa7249e2304e55e7"
  }
 ],
 "metadata": {
  "kernelspec": {
   "display_name": "Python 3",
   "language": "python",
   "name": "python3"
  },
  "language_info": {
   "codemirror_mode": {
    "name": "ipython",
    "version": 2
   },
   "file_extension": ".py",
   "mimetype": "text/x-python",
   "name": "python",
   "nbconvert_exporter": "python",
   "pygments_lexer": "ipython2",
   "version": "2.7.6"
  }
 },
 "nbformat": 4,
 "nbformat_minor": 5
}
