{
 "cells": [
  {
   "cell_type": "code",
   "execution_count": null,
   "id": "initial_id",
   "metadata": {
    "collapsed": true
   },
   "outputs": [],
   "source": [
    ""
   ]
  },
  {
   "metadata": {},
   "cell_type": "markdown",
   "source": "<h1> Functions  with mandatory arguments </h1>",
   "id": "db6e0ed5b5a4d5f7"
  },
  {
   "metadata": {
    "ExecuteTime": {
     "end_time": "2025-01-02T09:20:15.513181Z",
     "start_time": "2025-01-02T09:20:15.509584Z"
    }
   },
   "cell_type": "code",
   "source": [
    "def myfun():\n",
    "    pass\n",
    "\n",
    "# call function\n",
    "myfun()"
   ],
   "id": "8406476cfeadc51f",
   "outputs": [],
   "execution_count": 1
  },
  {
   "metadata": {
    "ExecuteTime": {
     "end_time": "2025-01-02T09:20:38.129475Z",
     "start_time": "2025-01-02T09:20:38.124547Z"
    }
   },
   "cell_type": "code",
   "source": [
    "res = myfun()\n",
    "print(res)"
   ],
   "id": "1bab527f2f1f58b1",
   "outputs": [
    {
     "name": "stdout",
     "output_type": "stream",
     "text": [
      "None\n"
     ]
    }
   ],
   "execution_count": 2
  },
  {
   "metadata": {
    "ExecuteTime": {
     "end_time": "2025-01-02T09:21:07.412511Z",
     "start_time": "2025-01-02T09:21:07.407511Z"
    }
   },
   "cell_type": "code",
   "source": [
    "### check this\n",
    "def saywelcome():\n",
    "    return\n",
    "\n",
    "print(saywelcome())"
   ],
   "id": "14abfc9611dd88e7",
   "outputs": [
    {
     "name": "stdout",
     "output_type": "stream",
     "text": [
      "None\n"
     ]
    }
   ],
   "execution_count": 3
  },
  {
   "metadata": {
    "ExecuteTime": {
     "end_time": "2025-01-02T09:21:30.955206Z",
     "start_time": "2025-01-02T09:21:30.951297Z"
    }
   },
   "cell_type": "code",
   "source": [
    "def sayhello():\n",
    "    print(\"Hello world\")\n",
    "\n",
    "sayhello()"
   ],
   "id": "4ef6d5024e48251c",
   "outputs": [
    {
     "name": "stdout",
     "output_type": "stream",
     "text": [
      "Hello world\n"
     ]
    }
   ],
   "execution_count": 4
  },
  {
   "metadata": {
    "ExecuteTime": {
     "end_time": "2025-01-02T09:22:19.217635Z",
     "start_time": "2025-01-02T09:22:19.203651Z"
    }
   },
   "cell_type": "code",
   "source": [
    "# function accept arguments\n",
    "def sumnum(num1, num2):\n",
    "    res = num1 + num2\n",
    "    print(f\"{num1} + {num2} = {res}\")\n",
    "\n",
    "sumnum(1, 2)"
   ],
   "id": "89330645953fedf9",
   "outputs": [
    {
     "name": "stdout",
     "output_type": "stream",
     "text": [
      "1 + 2 = 3\n"
     ]
    }
   ],
   "execution_count": 5
  },
  {
   "metadata": {
    "ExecuteTime": {
     "end_time": "2025-01-02T09:23:29.456800Z",
     "start_time": "2025-01-02T09:23:29.452085Z"
    }
   },
   "cell_type": "code",
   "source": [
    "# function accept arugments and return was values\n",
    "\n",
    "def mulnums(num1, num2):\n",
    "    res= num1 * num2\n",
    "    print(f\"{num1} * {num2} = {res}\")\n",
    "    return res\n",
    "\n",
    "\n",
    "total = mulnums(10, 2)\n",
    "print(total)\n",
    "\n"
   ],
   "id": "34b6df40d3ad0b0e",
   "outputs": [
    {
     "name": "stdout",
     "output_type": "stream",
     "text": [
      "10 * 2 = 20\n",
      "20\n"
     ]
    }
   ],
   "execution_count": 6
  },
  {
   "metadata": {},
   "cell_type": "markdown",
   "source": "<h1> Check this </h1>",
   "id": "355c05f53ca7379d"
  },
  {
   "metadata": {
    "ExecuteTime": {
     "end_time": "2025-01-02T09:24:16.719620Z",
     "start_time": "2025-01-02T09:24:16.707866Z"
    }
   },
   "cell_type": "code",
   "source": [
    "def mulnums(num1, num2):\n",
    "    res= num1 * num2\n",
    "    print(f\"{num1} * {num2} = {res}\")\n",
    "    return res\n",
    "\n",
    "mulnums(10, 2)\n",
    "mulnums(\"iti\", 2)"
   ],
   "id": "a6ffc6d4865faeb4",
   "outputs": [
    {
     "name": "stdout",
     "output_type": "stream",
     "text": [
      "10 * 2 = 20\n",
      "iti * 2 = itiiti\n"
     ]
    },
    {
     "data": {
      "text/plain": [
       "'itiiti'"
      ]
     },
     "execution_count": 7,
     "metadata": {},
     "output_type": "execute_result"
    }
   ],
   "execution_count": 7
  },
  {
   "metadata": {
    "ExecuteTime": {
     "end_time": "2025-01-02T09:24:34.932157Z",
     "start_time": "2025-01-02T09:24:34.675484Z"
    }
   },
   "cell_type": "code",
   "source": "mulnums(\"10\", \"2\")",
   "id": "7238d47a102a3bf5",
   "outputs": [
    {
     "ename": "TypeError",
     "evalue": "can't multiply sequence by non-int of type 'str'",
     "output_type": "error",
     "traceback": [
      "\u001B[0;31m---------------------------------------------------------------------------\u001B[0m",
      "\u001B[0;31mTypeError\u001B[0m                                 Traceback (most recent call last)",
      "Cell \u001B[0;32mIn[8], line 1\u001B[0m\n\u001B[0;32m----> 1\u001B[0m \u001B[43mmulnums\u001B[49m\u001B[43m(\u001B[49m\u001B[38;5;124;43m\"\u001B[39;49m\u001B[38;5;124;43m10\u001B[39;49m\u001B[38;5;124;43m\"\u001B[39;49m\u001B[43m,\u001B[49m\u001B[43m \u001B[49m\u001B[38;5;124;43m\"\u001B[39;49m\u001B[38;5;124;43m2\u001B[39;49m\u001B[38;5;124;43m\"\u001B[39;49m\u001B[43m)\u001B[49m\n",
      "Cell \u001B[0;32mIn[7], line 2\u001B[0m, in \u001B[0;36mmulnums\u001B[0;34m(num1, num2)\u001B[0m\n\u001B[1;32m      1\u001B[0m \u001B[38;5;28;01mdef\u001B[39;00m \u001B[38;5;21mmulnums\u001B[39m(num1, num2):\n\u001B[0;32m----> 2\u001B[0m     res\u001B[38;5;241m=\u001B[39m \u001B[43mnum1\u001B[49m\u001B[43m \u001B[49m\u001B[38;5;241;43m*\u001B[39;49m\u001B[43m \u001B[49m\u001B[43mnum2\u001B[49m\n\u001B[1;32m      3\u001B[0m     \u001B[38;5;28mprint\u001B[39m(\u001B[38;5;124mf\u001B[39m\u001B[38;5;124m\"\u001B[39m\u001B[38;5;132;01m{\u001B[39;00mnum1\u001B[38;5;132;01m}\u001B[39;00m\u001B[38;5;124m * \u001B[39m\u001B[38;5;132;01m{\u001B[39;00mnum2\u001B[38;5;132;01m}\u001B[39;00m\u001B[38;5;124m = \u001B[39m\u001B[38;5;132;01m{\u001B[39;00mres\u001B[38;5;132;01m}\u001B[39;00m\u001B[38;5;124m\"\u001B[39m)\n\u001B[1;32m      4\u001B[0m     \u001B[38;5;28;01mreturn\u001B[39;00m res\n",
      "\u001B[0;31mTypeError\u001B[0m: can't multiply sequence by non-int of type 'str'"
     ]
    }
   ],
   "execution_count": 8
  },
  {
   "metadata": {},
   "cell_type": "markdown",
   "source": "# validation",
   "id": "2e9ff1362439feba"
  },
  {
   "metadata": {},
   "cell_type": "markdown",
   "source": "",
   "id": "36e50dbd81733d99"
  },
  {
   "metadata": {
    "ExecuteTime": {
     "end_time": "2025-01-02T09:26:02.548017Z",
     "start_time": "2025-01-02T09:26:02.543835Z"
    }
   },
   "cell_type": "code",
   "source": [
    "def mulnums(num1: int, num2: int)->int:\n",
    "    res= num1 * num2\n",
    "    print(f\"{num1} * {num2} = {res}\")\n",
    "    return res\n",
    "\n",
    "print(mulnums(\"10\", 2))"
   ],
   "id": "defad59e71ca894e",
   "outputs": [
    {
     "name": "stdout",
     "output_type": "stream",
     "text": [
      "10 * 2 = 1010\n",
      "1010\n"
     ]
    }
   ],
   "execution_count": 9
  },
  {
   "metadata": {
    "ExecuteTime": {
     "end_time": "2025-01-02T09:27:44.935117Z",
     "start_time": "2025-01-02T09:27:44.911168Z"
    }
   },
   "cell_type": "code",
   "source": [
    "def mulnums(num1: int, num2: int)->int:\n",
    "    if isinstance(num1, int) and isinstance(num2, int):\n",
    "        res= num1 * num2\n",
    "        print(f\"{num1} * {num2} = {res}\")\n",
    "        return res\n",
    "    print(f\"num1={num1}, num2={num2} must be integers \")\n",
    "\n",
    "print(mulnums(10, 2))"
   ],
   "id": "8661f52480243b4d",
   "outputs": [
    {
     "name": "stdout",
     "output_type": "stream",
     "text": [
      "10 * 2 = 20\n",
      "20\n"
     ]
    }
   ],
   "execution_count": 10
  },
  {
   "metadata": {
    "ExecuteTime": {
     "end_time": "2025-01-02T09:27:49.733860Z",
     "start_time": "2025-01-02T09:27:49.727476Z"
    }
   },
   "cell_type": "code",
   "source": "print(mulnums(\"iti\", 2))",
   "id": "d1ee316eaea9251e",
   "outputs": [
    {
     "name": "stdout",
     "output_type": "stream",
     "text": [
      "num1=iti, num2=2 must be integers \n",
      "None\n"
     ]
    }
   ],
   "execution_count": 11
  },
  {
   "metadata": {},
   "cell_type": "code",
   "outputs": [],
   "execution_count": null,
   "source": "",
   "id": "632106826d018732"
  },
  {
   "metadata": {},
   "cell_type": "markdown",
   "source": "<h1 style='color:green'> call by value or reference  </h1>",
   "id": "15006579f3746cda"
  },
  {
   "metadata": {
    "ExecuteTime": {
     "end_time": "2025-01-02T09:32:33.932267Z",
     "start_time": "2025-01-02T09:32:33.910924Z"
    }
   },
   "cell_type": "code",
   "source": [
    "num1= 100\n",
    "num2= 200\n",
    "\n",
    "def sumnums(num1, num2)->int:\n",
    "    res= num1 + num2\n",
    "    print(f\"{num1} + {num2} = {res}\")\n",
    "\n",
    "\n",
    "sumnums(num1, num2)\n",
    "\n",
    "\n",
    "grades  = [1323, 213,313,\"iti\"]\n",
    "def printList(anygrades):\n",
    "    for item in anygrades:\n",
    "        print(item)\n",
    "    anygrades.append(\"new item \")\n",
    "\n",
    "\n",
    "printList(grades)\n",
    "\n",
    "print(grades)\n",
    "\n"
   ],
   "id": "c369ba32ffb41ce",
   "outputs": [
    {
     "name": "stdout",
     "output_type": "stream",
     "text": [
      "100 + 200 = 300\n",
      "1323\n",
      "213\n",
      "313\n",
      "iti\n",
      "[1323, 213, 313, 'iti', 'new item ']\n"
     ]
    }
   ],
   "execution_count": 15
  },
  {
   "metadata": {},
   "cell_type": "markdown",
   "source": "<h1 style='color:orange'> Default Arguments== function with optional arguments </h1>",
   "id": "f99fd662718817f9"
  },
  {
   "metadata": {
    "ExecuteTime": {
     "end_time": "2025-01-02T09:34:43.395918Z",
     "start_time": "2025-01-02T09:34:43.390321Z"
    }
   },
   "cell_type": "code",
   "source": [
    "def sumnum(num1, num2):\n",
    "    res= num1 + num2\n",
    "    print(f\"{num1} * {num2} = {res}\")\n",
    "\n",
    "sumnum(1, 2)"
   ],
   "id": "8a7889f24f809378",
   "outputs": [
    {
     "name": "stdout",
     "output_type": "stream",
     "text": [
      "1 * 2 = 3\n"
     ]
    }
   ],
   "execution_count": 16
  },
  {
   "metadata": {
    "ExecuteTime": {
     "end_time": "2025-01-02T09:35:03.288839Z",
     "start_time": "2025-01-02T09:35:03.266085Z"
    }
   },
   "cell_type": "code",
   "source": "sumnum(\"iti\")",
   "id": "c7c276a28324df7f",
   "outputs": [
    {
     "ename": "TypeError",
     "evalue": "sumnum() missing 1 required positional argument: 'num2'",
     "output_type": "error",
     "traceback": [
      "\u001B[0;31m---------------------------------------------------------------------------\u001B[0m",
      "\u001B[0;31mTypeError\u001B[0m                                 Traceback (most recent call last)",
      "Cell \u001B[0;32mIn[17], line 1\u001B[0m\n\u001B[0;32m----> 1\u001B[0m \u001B[43msumnum\u001B[49m\u001B[43m(\u001B[49m\u001B[38;5;124;43m\"\u001B[39;49m\u001B[38;5;124;43miti\u001B[39;49m\u001B[38;5;124;43m\"\u001B[39;49m\u001B[43m)\u001B[49m\n",
      "\u001B[0;31mTypeError\u001B[0m: sumnum() missing 1 required positional argument: 'num2'"
     ]
    }
   ],
   "execution_count": 17
  },
  {
   "metadata": {
    "ExecuteTime": {
     "end_time": "2025-01-02T09:37:14.687682Z",
     "start_time": "2025-01-02T09:37:14.666445Z"
    }
   },
   "cell_type": "code",
   "source": [
    "def sumnum(num1, num2 = 10):\n",
    "    res = num1 + num2\n",
    "    print(f\"{num1}+ {num2} = {res}\")\n",
    "    return num1 + num2\n",
    "\n",
    "\n",
    "sumnum(1, 2)"
   ],
   "id": "d52b720b4ed33b27",
   "outputs": [
    {
     "name": "stdout",
     "output_type": "stream",
     "text": [
      "1+ 2 = 3\n"
     ]
    },
    {
     "data": {
      "text/plain": [
       "3"
      ]
     },
     "execution_count": 22,
     "metadata": {},
     "output_type": "execute_result"
    }
   ],
   "execution_count": 22
  },
  {
   "metadata": {
    "ExecuteTime": {
     "end_time": "2025-01-02T09:37:17.488997Z",
     "start_time": "2025-01-02T09:37:17.474486Z"
    }
   },
   "cell_type": "code",
   "source": "sumnum(234)",
   "id": "2f01d29fad1fb199",
   "outputs": [
    {
     "name": "stdout",
     "output_type": "stream",
     "text": [
      "234+ 10 = 244\n"
     ]
    },
    {
     "data": {
      "text/plain": [
       "244"
      ]
     },
     "execution_count": 23,
     "metadata": {},
     "output_type": "execute_result"
    }
   ],
   "execution_count": 23
  },
  {
   "metadata": {
    "ExecuteTime": {
     "end_time": "2025-01-02T09:37:43.143257Z",
     "start_time": "2025-01-02T09:37:43.137559Z"
    }
   },
   "cell_type": "code",
   "source": [
    "def sumnum(num1=10, num2 ):\n",
    "    res = num1 + num2\n",
    "    print(f\"{num1}+ {num2} = {res}\")\n",
    "    return num1 + num2"
   ],
   "id": "d74c5ee363389431",
   "outputs": [
    {
     "ename": "SyntaxError",
     "evalue": "parameter without a default follows parameter with a default (780011880.py, line 1)",
     "output_type": "error",
     "traceback": [
      "\u001B[0;36m  Cell \u001B[0;32mIn[24], line 1\u001B[0;36m\u001B[0m\n\u001B[0;31m    def sumnum(num1=10, num2 ):\u001B[0m\n\u001B[0m                        ^\u001B[0m\n\u001B[0;31mSyntaxError\u001B[0m\u001B[0;31m:\u001B[0m parameter without a default follows parameter with a default\n"
     ]
    }
   ],
   "execution_count": 24
  },
  {
   "metadata": {},
   "cell_type": "code",
   "outputs": [],
   "execution_count": null,
   "source": "",
   "id": "6ac10e2aa4b0e7ce"
  },
  {
   "metadata": {},
   "cell_type": "markdown",
   "source": "<h1 style=\"color:blue\"> Functions with unknown no. of arguments </h1>",
   "id": "ba8c914b73b88c1a"
  },
  {
   "metadata": {
    "ExecuteTime": {
     "end_time": "2025-01-02T09:42:09.981656Z",
     "start_time": "2025-01-02T09:42:09.967178Z"
    }
   },
   "cell_type": "code",
   "source": [
    "def apply_for_internship(candidates):\n",
    "    print(candidates)\n",
    "\n",
    "apply_for_internship(\"432\")\n"
   ],
   "id": "6ff4607de06e8efd",
   "outputs": [
    {
     "name": "stdout",
     "output_type": "stream",
     "text": [
      "432\n"
     ]
    }
   ],
   "execution_count": 25
  },
  {
   "metadata": {
    "ExecuteTime": {
     "end_time": "2025-01-02T09:42:16.233502Z",
     "start_time": "2025-01-02T09:42:16.206258Z"
    }
   },
   "cell_type": "code",
   "source": "apply_for_internship(\"iti\", \"dafasf\")",
   "id": "6b80456c5dbc861d",
   "outputs": [
    {
     "ename": "TypeError",
     "evalue": "apply_for_internship() takes 1 positional argument but 2 were given",
     "output_type": "error",
     "traceback": [
      "\u001B[0;31m---------------------------------------------------------------------------\u001B[0m",
      "\u001B[0;31mTypeError\u001B[0m                                 Traceback (most recent call last)",
      "Cell \u001B[0;32mIn[26], line 1\u001B[0m\n\u001B[0;32m----> 1\u001B[0m \u001B[43mapply_for_internship\u001B[49m\u001B[43m(\u001B[49m\u001B[38;5;124;43m\"\u001B[39;49m\u001B[38;5;124;43miti\u001B[39;49m\u001B[38;5;124;43m\"\u001B[39;49m\u001B[43m,\u001B[49m\u001B[43m \u001B[49m\u001B[38;5;124;43m\"\u001B[39;49m\u001B[38;5;124;43mdafasf\u001B[39;49m\u001B[38;5;124;43m\"\u001B[39;49m\u001B[43m)\u001B[49m\n",
      "\u001B[0;31mTypeError\u001B[0m: apply_for_internship() takes 1 positional argument but 2 were given"
     ]
    }
   ],
   "execution_count": 26
  },
  {
   "metadata": {
    "ExecuteTime": {
     "end_time": "2025-01-02T09:42:51.665088Z",
     "start_time": "2025-01-02T09:42:51.661055Z"
    }
   },
   "cell_type": "code",
   "source": [
    "def apply_for_internship(*candidates):\n",
    "    print(candidates)\n",
    "\n",
    "apply_for_internship(\"432\")"
   ],
   "id": "147ca82943ef5230",
   "outputs": [
    {
     "name": "stdout",
     "output_type": "stream",
     "text": [
      "('432',)\n"
     ]
    }
   ],
   "execution_count": 27
  },
  {
   "metadata": {
    "ExecuteTime": {
     "end_time": "2025-01-02T09:43:25.470218Z",
     "start_time": "2025-01-02T09:43:25.466342Z"
    }
   },
   "cell_type": "code",
   "source": "apply_for_internship(\"iti\", \"dafasf\", 888)",
   "id": "af98e9a5203c08a",
   "outputs": [
    {
     "name": "stdout",
     "output_type": "stream",
     "text": [
      "('iti', 'dafasf', 888)\n"
     ]
    }
   ],
   "execution_count": 29
  },
  {
   "metadata": {},
   "cell_type": "markdown",
   "source": "#### I need to generate function introduce yourself",
   "id": "352ea7c2dcd98981"
  },
  {
   "metadata": {
    "ExecuteTime": {
     "end_time": "2025-01-02T09:46:30.927041Z",
     "start_time": "2025-01-02T09:46:30.920313Z"
    }
   },
   "cell_type": "code",
   "source": [
    "def introduce_your_self(**info):\n",
    "    print(info)\n",
    "\n",
    "introduce_your_self(name=\"noha\", work=\"iti\")\n",
    "introduce_your_self()\n",
    "introduce_your_self(fname='mariam')\n",
    "introduce_your_self(fname=\"Ahlam\", age=22)"
   ],
   "id": "8faf0f6674f8c6c0",
   "outputs": [
    {
     "name": "stdout",
     "output_type": "stream",
     "text": [
      "{'name': 'noha', 'work': 'iti'}\n",
      "{}\n",
      "{'fname': 'mariam'}\n",
      "{'fname': 'Ahlam', 'age': 22}\n"
     ]
    }
   ],
   "execution_count": 31
  },
  {
   "metadata": {},
   "cell_type": "code",
   "outputs": [],
   "execution_count": null,
   "source": "",
   "id": "f2d54dce08142fce"
  }
 ],
 "metadata": {
  "kernelspec": {
   "display_name": "Python 3",
   "language": "python",
   "name": "python3"
  },
  "language_info": {
   "codemirror_mode": {
    "name": "ipython",
    "version": 2
   },
   "file_extension": ".py",
   "mimetype": "text/x-python",
   "name": "python",
   "nbconvert_exporter": "python",
   "pygments_lexer": "ipython2",
   "version": "2.7.6"
  }
 },
 "nbformat": 4,
 "nbformat_minor": 5
}
