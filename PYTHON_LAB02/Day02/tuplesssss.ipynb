{
 "cells": [
  {
   "metadata": {},
   "cell_type": "markdown",
   "source": [
    "# define a tuple \n",
    "<h3> tuples are immutable data types </h3>\n",
    "<p> tuples are based on sequences </p>"
   ],
   "id": "de1abc6a5d818b3c"
  },
  {
   "metadata": {},
   "cell_type": "markdown",
   "source": "<h4 style='color:red'>Define a tuple </h4>",
   "id": "bc2c4f3c1deef68c"
  },
  {
   "cell_type": "code",
   "id": "initial_id",
   "metadata": {
    "collapsed": true,
    "ExecuteTime": {
     "end_time": "2025-01-02T07:20:10.187444Z",
     "start_time": "2025-01-02T07:20:10.181088Z"
    }
   },
   "source": [
    "#\n",
    "t = ()\n",
    "myt= tuple()\n",
    "print(t , myt)"
   ],
   "outputs": [
    {
     "name": "stdout",
     "output_type": "stream",
     "text": [
      "() ()\n"
     ]
    }
   ],
   "execution_count": 1
  },
  {
   "metadata": {
    "ExecuteTime": {
     "end_time": "2025-01-02T07:21:58.285314Z",
     "start_time": "2025-01-02T07:21:58.280836Z"
    }
   },
   "cell_type": "code",
   "source": [
    "myt= (\"Mina\", \"Zeyad\", \"Hossam\", \"Ingy\", \"Abelrahman\", 234.44, True, [\"python\", \"kubernates\", \"Microservice\"], None, (\"travelling\", \"money\", \"BMW\"))\n",
    "print(myt)"
   ],
   "id": "6c41a02f03d7c76e",
   "outputs": [
    {
     "name": "stdout",
     "output_type": "stream",
     "text": [
      "('Mina', 'Zeyad', 'Hossam', 'Ingy', 'Abelrahman', 234.44, True, ['python', 'kubernates', 'Microservice'], None, ('travelling', 'money', 'BMW'))\n"
     ]
    }
   ],
   "execution_count": 2
  },
  {
   "metadata": {},
   "cell_type": "markdown",
   "source": "<h3 style='color:green'>Access elements using index start from zero </h3>",
   "id": "31b779105267d366"
  },
  {
   "metadata": {
    "ExecuteTime": {
     "end_time": "2025-01-02T07:22:28.685853Z",
     "start_time": "2025-01-02T07:22:28.680901Z"
    }
   },
   "cell_type": "code",
   "source": "print(myt[3])",
   "id": "76c7f2cd851e0d59",
   "outputs": [
    {
     "name": "stdout",
     "output_type": "stream",
     "text": [
      "Ingy\n"
     ]
    }
   ],
   "execution_count": 3
  },
  {
   "metadata": {
    "ExecuteTime": {
     "end_time": "2025-01-02T07:22:30.765953Z",
     "start_time": "2025-01-02T07:22:30.760429Z"
    }
   },
   "cell_type": "code",
   "source": "print(myt[7][1])",
   "id": "49d5b42289e68614",
   "outputs": [
    {
     "name": "stdout",
     "output_type": "stream",
     "text": [
      "kubernates\n"
     ]
    }
   ],
   "execution_count": 4
  },
  {
   "metadata": {},
   "cell_type": "markdown",
   "source": "<h3 style='color:gree'>check if  element exist or not </h3>\n",
   "id": "2c1b4865c29e26ff"
  },
  {
   "metadata": {
    "ExecuteTime": {
     "end_time": "2025-01-02T07:22:47.057641Z",
     "start_time": "2025-01-02T07:22:47.050995Z"
    }
   },
   "cell_type": "code",
   "source": [
    "print(\"abbass\" in myt)\n",
    "print(\"Alaa\" in myt)\n",
    "print(\"abc\" in myt[7])"
   ],
   "id": "57d48f278c30fca9",
   "outputs": [
    {
     "name": "stdout",
     "output_type": "stream",
     "text": [
      "False\n",
      "False\n",
      "False\n"
     ]
    }
   ],
   "execution_count": 5
  },
  {
   "metadata": {},
   "cell_type": "markdown",
   "source": "# gen len of the tuple",
   "id": "41439cfcf31b7f1c"
  },
  {
   "metadata": {
    "ExecuteTime": {
     "end_time": "2025-01-02T07:23:19.601680Z",
     "start_time": "2025-01-02T07:23:19.597585Z"
    }
   },
   "cell_type": "code",
   "source": "print(len(myt))",
   "id": "8ee613ca9cede6da",
   "outputs": [
    {
     "name": "stdout",
     "output_type": "stream",
     "text": [
      "10\n"
     ]
    }
   ],
   "execution_count": 6
  },
  {
   "metadata": {
    "ExecuteTime": {
     "end_time": "2025-01-02T07:23:23.207640Z",
     "start_time": "2025-01-02T07:23:23.201426Z"
    }
   },
   "cell_type": "code",
   "source": [
    "myt = (\"Alaa\", \"Ali\", \"Mohamed\", \"reham\", \"rehab\", \"nagwa\", \"Ali\", \"Ali\", 24, 24234, \n",
    "       [\"python\", \"DB\", \"DL\"])\n",
    "\n",
    "print(myt)"
   ],
   "id": "7acd8d0939e9693f",
   "outputs": [
    {
     "name": "stdout",
     "output_type": "stream",
     "text": [
      "('Alaa', 'Ali', 'Mohamed', 'reham', 'rehab', 'nagwa', 'Ali', 'Ali', 24, 24234, ['python', 'DB', 'DL'])\n"
     ]
    }
   ],
   "execution_count": 7
  },
  {
   "metadata": {},
   "cell_type": "markdown",
   "source": "get count of element ",
   "id": "945f4b44f64eae77"
  },
  {
   "metadata": {
    "ExecuteTime": {
     "end_time": "2025-01-02T07:23:38.937323Z",
     "start_time": "2025-01-02T07:23:38.929659Z"
    }
   },
   "cell_type": "code",
   "source": "print(myt.count(\"Ali\"))",
   "id": "3e389c4f46b9633",
   "outputs": [
    {
     "name": "stdout",
     "output_type": "stream",
     "text": [
      "3\n"
     ]
    }
   ],
   "execution_count": 8
  },
  {
   "metadata": {},
   "cell_type": "markdown",
   "source": "get index of element ",
   "id": "446902f7d9384640"
  },
  {
   "metadata": {
    "ExecuteTime": {
     "end_time": "2025-01-02T07:24:44.038867Z",
     "start_time": "2025-01-02T07:24:44.032577Z"
    }
   },
   "cell_type": "code",
   "source": "print(myt.index('Ali')) # get first occurrence ",
   "id": "d6b3711816d69564",
   "outputs": [
    {
     "name": "stdout",
     "output_type": "stream",
     "text": [
      "1\n"
     ]
    }
   ],
   "execution_count": 9
  },
  {
   "metadata": {},
   "cell_type": "markdown",
   "source": [
    "# loop over the tuple \n",
    "<img src=\"mared.jpeg\" width='200'  height='200'>"
   ],
   "id": "5cfe435c587c2fc9"
  },
  {
   "metadata": {
    "ExecuteTime": {
     "end_time": "2025-01-02T07:25:04.406634Z",
     "start_time": "2025-01-02T07:25:04.400902Z"
    }
   },
   "cell_type": "code",
   "source": [
    "for mared in myt:\n",
    "    print(f\"mared {mared}\")"
   ],
   "id": "620574eb6aff9a78",
   "outputs": [
    {
     "name": "stdout",
     "output_type": "stream",
     "text": [
      "mared Alaa\n",
      "mared Ali\n",
      "mared Mohamed\n",
      "mared reham\n",
      "mared rehab\n",
      "mared nagwa\n",
      "mared Ali\n",
      "mared Ali\n",
      "mared 24\n",
      "mared 24234\n",
      "mared ['python', 'DB', 'DL']\n"
     ]
    }
   ],
   "execution_count": 10
  },
  {
   "metadata": {
    "ExecuteTime": {
     "end_time": "2025-01-02T07:25:07.630544Z",
     "start_time": "2025-01-02T07:25:07.624760Z"
    }
   },
   "cell_type": "code",
   "source": [
    "index = 0\n",
    "for mared in myt:\n",
    "    print(f'index= {index}, item={mared}')\n",
    "    index +=1"
   ],
   "id": "73476fec65c296d2",
   "outputs": [
    {
     "name": "stdout",
     "output_type": "stream",
     "text": [
      "index= 0, item=Alaa\n",
      "index= 1, item=Ali\n",
      "index= 2, item=Mohamed\n",
      "index= 3, item=reham\n",
      "index= 4, item=rehab\n",
      "index= 5, item=nagwa\n",
      "index= 6, item=Ali\n",
      "index= 7, item=Ali\n",
      "index= 8, item=24\n",
      "index= 9, item=24234\n",
      "index= 10, item=['python', 'DB', 'DL']\n"
     ]
    }
   ],
   "execution_count": 11
  },
  {
   "metadata": {},
   "cell_type": "markdown",
   "source": "# enumarate  ==> works with any iterable --> need an index --> generate it ",
   "id": "68fb522c5cad0f27"
  },
  {
   "metadata": {
    "ExecuteTime": {
     "end_time": "2025-01-02T07:25:12.959023Z",
     "start_time": "2025-01-02T07:25:12.954126Z"
    }
   },
   "cell_type": "code",
   "source": [
    "indexed_tuple = enumerate(myt)\n",
    "print(indexed_tuple)\n",
    "# print(tuple(indexed_tuple))"
   ],
   "id": "36fdeae4451f71d",
   "outputs": [
    {
     "name": "stdout",
     "output_type": "stream",
     "text": [
      "<enumerate object at 0x76b35c413740>\n"
     ]
    }
   ],
   "execution_count": 12
  },
  {
   "metadata": {
    "ExecuteTime": {
     "end_time": "2025-01-02T07:25:35.628640Z",
     "start_time": "2025-01-02T07:25:35.623646Z"
    }
   },
   "cell_type": "code",
   "source": [
    "for i , item in indexed_tuple:\n",
    "    print(f\"i={i}, item={item}\")"
   ],
   "id": "d268b79305bb0f4b",
   "outputs": [
    {
     "name": "stdout",
     "output_type": "stream",
     "text": [
      "i=0, item=Alaa\n",
      "i=1, item=Ali\n",
      "i=2, item=Mohamed\n",
      "i=3, item=reham\n",
      "i=4, item=rehab\n",
      "i=5, item=nagwa\n",
      "i=6, item=Ali\n",
      "i=7, item=Ali\n",
      "i=8, item=24\n",
      "i=9, item=24234\n",
      "i=10, item=['python', 'DB', 'DL']\n"
     ]
    }
   ],
   "execution_count": 13
  },
  {
   "metadata": {
    "ExecuteTime": {
     "end_time": "2025-01-02T07:25:37.928172Z",
     "start_time": "2025-01-02T07:25:37.916980Z"
    }
   },
   "cell_type": "code",
   "source": [
    "for i , item in indexed_tuple:\n",
    "    print(f\"i={i}, item={item}\")"
   ],
   "id": "4792d12f8043a37c",
   "outputs": [],
   "execution_count": 14
  },
  {
   "metadata": {
    "ExecuteTime": {
     "end_time": "2025-01-02T07:25:39.183242Z",
     "start_time": "2025-01-02T07:25:39.175800Z"
    }
   },
   "cell_type": "code",
   "source": [
    "for i , item in enumerate(myt):\n",
    "    print(f\"{i}:{item}\")"
   ],
   "id": "b1fdf40246f878d8",
   "outputs": [
    {
     "name": "stdout",
     "output_type": "stream",
     "text": [
      "0:Alaa\n",
      "1:Ali\n",
      "2:Mohamed\n",
      "3:reham\n",
      "4:rehab\n",
      "5:nagwa\n",
      "6:Ali\n",
      "7:Ali\n",
      "8:24\n",
      "9:24234\n",
      "10:['python', 'DB', 'DL']\n"
     ]
    }
   ],
   "execution_count": 15
  },
  {
   "metadata": {},
   "cell_type": "markdown",
   "source": "<h2 style='color:purple'>tuple is immutable datatype </h2>",
   "id": "c5651a8d7842f489"
  },
  {
   "metadata": {},
   "cell_type": "markdown",
   "source": "1- update value at existing index ",
   "id": "cc058454f9a41bb3"
  },
  {
   "metadata": {},
   "cell_type": "markdown",
   "source": "slicing the tuple ",
   "id": "d4e8d372124f1db9"
  },
  {
   "metadata": {
    "ExecuteTime": {
     "end_time": "2025-01-02T07:33:12.700107Z",
     "start_time": "2025-01-02T07:33:12.695906Z"
    }
   },
   "cell_type": "code",
   "source": "print(myt[4:])",
   "id": "3eb799ba735fb07b",
   "outputs": [
    {
     "name": "stdout",
     "output_type": "stream",
     "text": [
      "('rehab', 'nagwa', 'Ali', 'Ali', 24, 24234, ['python', 'DB', 'DL'])\n"
     ]
    }
   ],
   "execution_count": 16
  },
  {
   "metadata": {
    "ExecuteTime": {
     "end_time": "2025-01-02T07:33:14.764750Z",
     "start_time": "2025-01-02T07:33:14.760248Z"
    }
   },
   "cell_type": "code",
   "source": "print(myt[::-1])",
   "id": "37a0a76fa73f856c",
   "outputs": [
    {
     "name": "stdout",
     "output_type": "stream",
     "text": [
      "(['python', 'DB', 'DL'], 24234, 24, 'Ali', 'Ali', 'nagwa', 'rehab', 'reham', 'Mohamed', 'Ali', 'Alaa')\n"
     ]
    }
   ],
   "execution_count": 17
  },
  {
   "metadata": {},
   "cell_type": "markdown",
   "source": "# concat the tuple ",
   "id": "d2d99cc958ae154b"
  },
  {
   "metadata": {
    "ExecuteTime": {
     "end_time": "2025-01-02T07:33:31.801971Z",
     "start_time": "2025-01-02T07:33:31.796055Z"
    }
   },
   "cell_type": "code",
   "source": [
    "l1  = ('linux', 'python', 'c', 'c++')\n",
    "l2 = ('linear algebra', 'probaility','ml', 'dl' )\n",
    "tuple_of_courses=  l1 + l2 \n",
    "print(tuple_of_courses)"
   ],
   "id": "40c51cfad17567da",
   "outputs": [
    {
     "name": "stdout",
     "output_type": "stream",
     "text": [
      "('linux', 'python', 'c', 'c++', 'linear algebra', 'probaility', 'ml', 'dl')\n"
     ]
    }
   ],
   "execution_count": 18
  },
  {
   "metadata": {
    "ExecuteTime": {
     "end_time": "2025-01-02T07:33:48.859297Z",
     "start_time": "2025-01-02T07:33:48.854578Z"
    }
   },
   "cell_type": "code",
   "source": [
    "nums = (3,4356,23,5,-10, 21)\n",
    "print(max(nums))\n",
    "print(min(nums))\n",
    "print(sum(nums))"
   ],
   "id": "64885baab2c636bc",
   "outputs": [
    {
     "name": "stdout",
     "output_type": "stream",
     "text": [
      "4356\n",
      "-10\n",
      "4398\n"
     ]
    }
   ],
   "execution_count": 19
  },
  {
   "metadata": {},
   "cell_type": "markdown",
   "source": [
    "# check this \n",
    "# tuple of one item"
   ],
   "id": "be46bf626a268f7c"
  },
  {
   "metadata": {
    "ExecuteTime": {
     "end_time": "2025-01-02T07:34:39.479143Z",
     "start_time": "2025-01-02T07:34:39.474965Z"
    }
   },
   "cell_type": "code",
   "source": [
    "stds = (\"noha\",)\n",
    "print(stds, type(stds))"
   ],
   "id": "10efad1ec70ffc9c",
   "outputs": [
    {
     "name": "stdout",
     "output_type": "stream",
     "text": [
      "('noha',) <class 'tuple'>\n"
     ]
    }
   ],
   "execution_count": 21
  },
  {
   "metadata": {
    "ExecuteTime": {
     "end_time": "2025-01-02T07:34:46.410228Z",
     "start_time": "2025-01-02T07:34:46.405095Z"
    }
   },
   "cell_type": "code",
   "source": [
    "name = tuple(\"noha\")\n",
    "print(name)"
   ],
   "id": "886aaa3adfad5df7",
   "outputs": [
    {
     "name": "stdout",
     "output_type": "stream",
     "text": [
      "('n', 'o', 'h', 'a')\n"
     ]
    }
   ],
   "execution_count": 22
  },
  {
   "metadata": {
    "ExecuteTime": {
     "end_time": "2025-01-02T07:35:20.481172Z",
     "start_time": "2025-01-02T07:35:20.475576Z"
    }
   },
   "cell_type": "code",
   "source": [
    "name = tuple([\"noha\"])\n",
    "print(name)\n"
   ],
   "id": "14a44eb21a431edc",
   "outputs": [
    {
     "name": "stdout",
     "output_type": "stream",
     "text": [
      "('noha',)\n"
     ]
    }
   ],
   "execution_count": 23
  },
  {
   "metadata": {
    "ExecuteTime": {
     "end_time": "2025-01-02T07:35:24.483602Z",
     "start_time": "2025-01-02T07:35:24.479312Z"
    }
   },
   "cell_type": "code",
   "source": [
    "name = tuple([\"noha\"])\n",
    "print(name)"
   ],
   "id": "c8557e8cb5f79bad",
   "outputs": [
    {
     "name": "stdout",
     "output_type": "stream",
     "text": [
      "('noha',)\n"
     ]
    }
   ],
   "execution_count": 24
  },
  {
   "metadata": {},
   "cell_type": "code",
   "source": "print(myt)",
   "id": "6bd33a1d193f9862",
   "outputs": [],
   "execution_count": null
  },
  {
   "metadata": {},
   "cell_type": "code",
   "source": [
    "myt[10].append(\"abbassss\")\n",
    "print(myt)"
   ],
   "id": "7782da40d4db54ac",
   "outputs": [],
   "execution_count": null
  },
  {
   "metadata": {},
   "cell_type": "code",
   "source": "",
   "id": "c92b8df0ba9bbde0",
   "outputs": [],
   "execution_count": null
  },
  {
   "metadata": {},
   "cell_type": "markdown",
   "source": "<h1 style='color:orange; text-align:center'> Casting </h1>",
   "id": "cdf9aff50c9491b8"
  },
  {
   "metadata": {},
   "cell_type": "markdown",
   "source": "",
   "id": "c461f5f081b6bd57"
  },
  {
   "metadata": {
    "ExecuteTime": {
     "end_time": "2025-01-02T07:43:00.195310Z",
     "start_time": "2025-01-02T07:43:00.190151Z"
    }
   },
   "cell_type": "code",
   "source": [
    "nums = [214,4235,3431,\"segfdfg\"]\n",
    "# cast to tuple\n",
    "nums_tuple = tuple(nums)\n",
    "print(nums_tuple, nums)"
   ],
   "id": "5d93443dcb384a9a",
   "outputs": [
    {
     "name": "stdout",
     "output_type": "stream",
     "text": [
      "(214, 4235, 3431, 'segfdfg') [214, 4235, 3431, 'segfdfg']\n"
     ]
    }
   ],
   "execution_count": 25
  },
  {
   "metadata": {
    "ExecuteTime": {
     "end_time": "2025-01-02T07:43:56.093394Z",
     "start_time": "2025-01-02T07:43:56.089913Z"
    }
   },
   "cell_type": "code",
   "source": "fruits=  (\"banana\", \"kiwi\", \"orange\", \"strawberry\")",
   "id": "7fbfb42ee435b851",
   "outputs": [],
   "execution_count": 27
  },
  {
   "metadata": {
    "ExecuteTime": {
     "end_time": "2025-01-02T07:44:18.684757Z",
     "start_time": "2025-01-02T07:44:18.680926Z"
    }
   },
   "cell_type": "code",
   "source": [
    "fruits_list = list(fruits)\n",
    "print(fruits_list)"
   ],
   "id": "a4ac71184aa7c083",
   "outputs": [
    {
     "name": "stdout",
     "output_type": "stream",
     "text": [
      "['banana', 'kiwi', 'orange', 'strawberry']\n"
     ]
    }
   ],
   "execution_count": 28
  },
  {
   "metadata": {},
   "cell_type": "code",
   "outputs": [],
   "execution_count": null,
   "source": "",
   "id": "3ae201605e6c2a85"
  },
  {
   "metadata": {},
   "cell_type": "markdown",
   "source": "<h1 style='color:pink'> Tips </h1>",
   "id": "35f91157e2292181"
  },
  {
   "metadata": {
    "ExecuteTime": {
     "end_time": "2025-01-02T07:45:34.487830Z",
     "start_time": "2025-01-02T07:45:34.482772Z"
    }
   },
   "cell_type": "code",
   "source": [
    "msg=  \"we love python\"\n",
    "l1 = list(msg)\n",
    "print(l1)"
   ],
   "id": "facca8bfbdf5e316",
   "outputs": [
    {
     "name": "stdout",
     "output_type": "stream",
     "text": [
      "['w', 'e', ' ', 'l', 'o', 'v', 'e', ' ', 'p', 'y', 't', 'h', 'o', 'n']\n"
     ]
    }
   ],
   "execution_count": 29
  },
  {
   "metadata": {
    "ExecuteTime": {
     "end_time": "2025-01-02T07:46:15.943054Z",
     "start_time": "2025-01-02T07:46:15.939130Z"
    }
   },
   "cell_type": "code",
   "source": [
    "l2= msg.split() # [list of word\n",
    "print(l2)"
   ],
   "id": "4111643a746290d0",
   "outputs": [
    {
     "name": "stdout",
     "output_type": "stream",
     "text": [
      "['we', 'love', 'python']\n"
     ]
    }
   ],
   "execution_count": 30
  },
  {
   "metadata": {},
   "cell_type": "code",
   "outputs": [],
   "execution_count": null,
   "source": "",
   "id": "b930037a430f55d6"
  },
  {
   "metadata": {},
   "cell_type": "markdown",
   "source": "<img src=\"Image.jpeg\" width=300 height=300>",
   "id": "51e204ddc684aaa2"
  },
  {
   "metadata": {
    "ExecuteTime": {
     "end_time": "2025-01-02T07:52:03.883984Z",
     "start_time": "2025-01-02T07:52:03.879993Z"
    }
   },
   "cell_type": "code",
   "source": [
    "message=[\"we\", \"love\", \"python\"]\n",
    "\n",
    "# convert list/iterable to string\n",
    "newmessage = \"|\".join(message)\n",
    "print(newmessage)\n"
   ],
   "id": "96845ad0cbfc686b",
   "outputs": [
    {
     "name": "stdout",
     "output_type": "stream",
     "text": [
      "we|love|python\n"
     ]
    }
   ],
   "execution_count": 33
  },
  {
   "metadata": {
    "ExecuteTime": {
     "end_time": "2025-01-02T07:53:31.056355Z",
     "start_time": "2025-01-02T07:53:30.774496Z"
    }
   },
   "cell_type": "code",
   "source": [
    "grade = 100\n",
    "#1_0_0\n",
    "res = \"_\".join(grade)"
   ],
   "id": "f4e53c3c3f2be7a7",
   "outputs": [
    {
     "ename": "TypeError",
     "evalue": "can only join an iterable",
     "output_type": "error",
     "traceback": [
      "\u001B[0;31m---------------------------------------------------------------------------\u001B[0m",
      "\u001B[0;31mTypeError\u001B[0m                                 Traceback (most recent call last)",
      "Cell \u001B[0;32mIn[34], line 3\u001B[0m\n\u001B[1;32m      1\u001B[0m grade \u001B[38;5;241m=\u001B[39m \u001B[38;5;241m100\u001B[39m\n\u001B[1;32m      2\u001B[0m \u001B[38;5;66;03m#1_0_0\u001B[39;00m\n\u001B[0;32m----> 3\u001B[0m res \u001B[38;5;241m=\u001B[39m \u001B[38;5;124;43m\"\u001B[39;49m\u001B[38;5;124;43m_\u001B[39;49m\u001B[38;5;124;43m\"\u001B[39;49m\u001B[38;5;241;43m.\u001B[39;49m\u001B[43mjoin\u001B[49m\u001B[43m(\u001B[49m\u001B[43mgrade\u001B[49m\u001B[43m)\u001B[49m\n",
      "\u001B[0;31mTypeError\u001B[0m: can only join an iterable"
     ]
    }
   ],
   "execution_count": 34
  },
  {
   "metadata": {},
   "cell_type": "code",
   "outputs": [],
   "execution_count": null,
   "source": "",
   "id": "372d4fdc460fa228"
  },
  {
   "metadata": {},
   "cell_type": "markdown",
   "source": "<img src='error.jpeg' width=300 height=300>",
   "id": "78a26b34db0a691c"
  },
  {
   "metadata": {
    "ExecuteTime": {
     "end_time": "2025-01-02T07:58:42.574755Z",
     "start_time": "2025-01-02T07:58:42.550680Z"
    }
   },
   "cell_type": "code",
   "source": [
    "info = [\"noha\", 32, 'iti', \"python\"]\n",
    "bio = \"_\".join(info)"
   ],
   "id": "d12771be30a280cf",
   "outputs": [
    {
     "ename": "TypeError",
     "evalue": "sequence item 1: expected str instance, int found",
     "output_type": "error",
     "traceback": [
      "\u001B[0;31m---------------------------------------------------------------------------\u001B[0m",
      "\u001B[0;31mTypeError\u001B[0m                                 Traceback (most recent call last)",
      "Cell \u001B[0;32mIn[35], line 2\u001B[0m\n\u001B[1;32m      1\u001B[0m info \u001B[38;5;241m=\u001B[39m [\u001B[38;5;124m\"\u001B[39m\u001B[38;5;124mnoha\u001B[39m\u001B[38;5;124m\"\u001B[39m, \u001B[38;5;241m32\u001B[39m, \u001B[38;5;124m'\u001B[39m\u001B[38;5;124miti\u001B[39m\u001B[38;5;124m'\u001B[39m, \u001B[38;5;124m\"\u001B[39m\u001B[38;5;124mpython\u001B[39m\u001B[38;5;124m\"\u001B[39m]\n\u001B[0;32m----> 2\u001B[0m bio \u001B[38;5;241m=\u001B[39m \u001B[38;5;124;43m\"\u001B[39;49m\u001B[38;5;124;43m_\u001B[39;49m\u001B[38;5;124;43m\"\u001B[39;49m\u001B[38;5;241;43m.\u001B[39;49m\u001B[43mjoin\u001B[49m\u001B[43m(\u001B[49m\u001B[43minfo\u001B[49m\u001B[43m)\u001B[49m\n",
      "\u001B[0;31mTypeError\u001B[0m: sequence item 1: expected str instance, int found"
     ]
    }
   ],
   "execution_count": 35
  },
  {
   "metadata": {},
   "cell_type": "code",
   "outputs": [],
   "execution_count": null,
   "source": "",
   "id": "78abae3800bae6d5"
  }
 ],
 "metadata": {
  "kernelspec": {
   "display_name": "Python 3",
   "language": "python",
   "name": "python3"
  },
  "language_info": {
   "codemirror_mode": {
    "name": "ipython",
    "version": 2
   },
   "file_extension": ".py",
   "mimetype": "text/x-python",
   "name": "python",
   "nbconvert_exporter": "python",
   "pygments_lexer": "ipython2",
   "version": "2.7.6"
  }
 },
 "nbformat": 4,
 "nbformat_minor": 5
}
