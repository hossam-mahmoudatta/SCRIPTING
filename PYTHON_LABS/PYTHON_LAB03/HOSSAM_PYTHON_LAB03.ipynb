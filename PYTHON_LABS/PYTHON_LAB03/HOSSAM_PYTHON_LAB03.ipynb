{
 "cells": [
  {
   "cell_type": "markdown",
   "metadata": {},
   "source": [
    "<h1 style=\"text-align: center;\">ITI - 4 Month Intensive Program - DevOps</h1>"
   ]
  },
  {
   "cell_type": "markdown",
   "metadata": {},
   "source": [
    "<h2 style=\"text-align: center;\">Python - Lab 03</h2>"
   ]
  },
  {
   "cell_type": "markdown",
   "metadata": {},
   "source": [
    "###########################################################################################"
   ]
  },
  {
   "cell_type": "markdown",
   "metadata": {},
   "source": [
    "###########################################################################################"
   ]
  },
  {
   "cell_type": "markdown",
   "metadata": {},
   "source": [
    "How are data types immutable? Hint: Hashing and Caching and Encryption"
   ]
  },
  {
   "cell_type": "markdown",
   "metadata": {},
   "source": [
    "###########################################################################################"
   ]
  },
  {
   "cell_type": "markdown",
   "metadata": {},
   "source": [
    "###########################################################################################"
   ]
  },
  {
   "cell_type": "markdown",
   "metadata": {},
   "source": [
    "<p style=\"color: Orange\">Question 01: We need to implement a python class that represents the queue data structure.</p>"
   ]
  },
  {
   "cell_type": "code",
   "execution_count": 5,
   "metadata": {},
   "outputs": [
    {
     "name": "stdout",
     "output_type": "stream",
     "text": [
      "Inserted: 280 in Queue!\n",
      "Inserted: 320 in Queue!\n",
      "Inserted: 420 in Queue!\n",
      "Current Queue: [280, 320, 420]\n",
      "\n",
      "\n",
      "280\n",
      "320\n",
      "\n",
      "\n",
      "False\n",
      "\n",
      "\n",
      "420\n",
      "\n",
      "\n",
      "True\n",
      "Empty Queue!\n"
     ]
    }
   ],
   "source": [
    "# Imported the class queue that i created from the file queue that i created\n",
    "from Queue import Queue\n",
    "\n",
    "# I will test if the class is working as it should\n",
    "hosaQueue = Queue()\n",
    "\n",
    "# Insert values\n",
    "hosaQueue.insert(280)\n",
    "hosaQueue.insert(320)\n",
    "hosaQueue.insert(420)\n",
    "\n",
    "# Display queue\n",
    "hosaQueue.display()\n",
    "print(\"\\n\")\n",
    "# Should display [280, 320, 420]\n",
    "\n",
    "# Pop some values\n",
    "print(hosaQueue.pop())\n",
    "print(hosaQueue.pop())\n",
    "print(\"\\n\")\n",
    "\n",
    "# Check if the queue is empty\n",
    "print(hosaQueue.is_empty())\n",
    "print(\"\\n\")\n",
    "\n",
    "# Pop the remaining value\n",
    "print(hosaQueue.pop())\n",
    "print(\"\\n\")\n",
    "\n",
    "# Check if the queue is empty again\n",
    "print(hosaQueue.is_empty())\n",
    "\n",
    "# Try popping from an empty queue\n",
    "hosaQueue.pop()\n",
    "\n",
    "###########################################"
   ]
  },
  {
   "cell_type": "markdown",
   "metadata": {},
   "source": [
    "###########################################################################################"
   ]
  },
  {
   "cell_type": "markdown",
   "metadata": {},
   "source": [
    "###########################################################################################"
   ]
  },
  {
   "cell_type": "markdown",
   "metadata": {},
   "source": [
    "<p style=\"color: Orange\">Question 02: We need to implement another queue class that has the same properties as previous but with the following changes:</p>"
   ]
  },
  {
   "cell_type": "code",
   "execution_count": 24,
   "metadata": {},
   "outputs": [
    {
     "name": "stdout",
     "output_type": "stream",
     "text": [
      "Input 15 is divisible by 3, so FIZZ!\n"
     ]
    }
   ],
   "source": [
    "import tkinter as tk\n",
    "from tkinter import simpledialog\n",
    "\n",
    "root = tk.Tk() # Create the Tkinter root window\n",
    "root.withdraw()  # Hide the root window\n",
    "\n",
    "def arrayGenerator(input=None):\n",
    "    retries = 3\n",
    "    attempts = 0\n",
    "    while attempts < retries:\n",
    "        if input is None:\n",
    "            input = simpledialog.askstring(\"Input\", f\"Enter the value (attempts remaining: {retries - attempts}):\")\n",
    "       \n",
    "            # Check if the input is a valid integer\n",
    "            if input.isdigit():\n",
    "                input = int(input)\n",
    "\n",
    "                if input % 3 == 0 and input % 5 == 0:\n",
    "                    # Display the result in a messagebox\n",
    "                    tk.messagebox.showinfo(\"Result\", f\"Input {input} is divisible by 3 and 5, so FIZZBUZZ!\")\n",
    "                    # Display the result\n",
    "                    print(f\"Input {input} is divisible by 3 and 5, so FIZZBUZZ!\")\n",
    "                    break\n",
    "                \n",
    "                elif (input % 3) == 0:\n",
    "                    # Display the result in a messagebox\n",
    "                    tk.messagebox.showinfo(\"Result\", f\"Input {input} is divisible by 3, so FIZZ!\")\n",
    "                    # Display the result\n",
    "                    print(f\"Input {input} is divisible by 3, so FIZZ!\")\n",
    "                    break\n",
    "                \n",
    "                elif (input % 5) == 0:\n",
    "                    # Display the result in a messagebox\n",
    "                    tk.messagebox.showinfo(\"Result\", f\"Input {input} is divisible by 5, so BUZZ!\")\n",
    "                    # Display the result\n",
    "                    print(f\"Input {input} is divisible by 5, so BUZZ!\")\n",
    "                    break\n",
    "                \n",
    "                else:\n",
    "                    # Display the result in a messagebox\n",
    "                    tk.messagebox.showinfo(\"Result\", f\"Input {input} isn't divisible by 3 or 5, please try a different output.\")\n",
    "                    # Display the result\n",
    "                    print(f\"Input {input} isn't divisible by 3 or 5, please try a different output.\")\n",
    "\n",
    "        else:\n",
    "            attempts += 1\n",
    "            messagebox.showerror(\"Error\", f\"Invalid input. You have {retries - attempts} attempts remaining.\")\n",
    "            input = None # Reset length and start to re-prompt\n",
    "\n",
    "    if attempts == retries:\n",
    "        messagebox.showwarning(\"Warning\", \"Maximum retries reached. Exiting the program...\")\n",
    "        \n",
    "#############################################\n",
    "# Call the function to start the program\n",
    "\n",
    "userInput = None\n",
    "\n",
    "arrayGenerator(userInput)\n",
    "###########################################"
   ]
  },
  {
   "cell_type": "markdown",
   "metadata": {},
   "source": [
    "###########################################################################################"
   ]
  },
  {
   "cell_type": "markdown",
   "metadata": {},
   "source": [
    "###########################################################################################"
   ]
  }
 ],
 "metadata": {
  "kernelspec": {
   "display_name": "Python 3",
   "language": "python",
   "name": "python3"
  },
  "language_info": {
   "codemirror_mode": {
    "name": "ipython",
    "version": 3
   },
   "file_extension": ".py",
   "mimetype": "text/x-python",
   "name": "python",
   "nbconvert_exporter": "python",
   "pygments_lexer": "ipython3",
   "version": "3.13.1"
  }
 },
 "nbformat": 4,
 "nbformat_minor": 2
}
