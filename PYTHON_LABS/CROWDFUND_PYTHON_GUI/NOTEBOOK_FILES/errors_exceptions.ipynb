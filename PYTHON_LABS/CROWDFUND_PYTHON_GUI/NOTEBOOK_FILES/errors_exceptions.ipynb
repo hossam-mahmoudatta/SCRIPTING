{
 "cells": [
  {
   "cell_type": "code",
   "id": "initial_id",
   "metadata": {
    "collapsed": true,
    "ExecuteTime": {
     "end_time": "2025-01-03T07:12:14.661612Z",
     "start_time": "2025-01-03T07:12:14.314773Z"
    }
   },
   "source": "print(name)",
   "outputs": [
    {
     "ename": "NameError",
     "evalue": "name 'name' is not defined",
     "output_type": "error",
     "traceback": [
      "\u001B[0;31m---------------------------------------------------------------------------\u001B[0m",
      "\u001B[0;31mNameError\u001B[0m                                 Traceback (most recent call last)",
      "Cell \u001B[0;32mIn[1], line 1\u001B[0m\n\u001B[0;32m----> 1\u001B[0m \u001B[38;5;28mprint\u001B[39m(\u001B[43mname\u001B[49m)\n",
      "\u001B[0;31mNameError\u001B[0m: name 'name' is not defined"
     ]
    }
   ],
   "execution_count": 1
  },
  {
   "metadata": {
    "ExecuteTime": {
     "end_time": "2025-01-03T07:12:53.666100Z",
     "start_time": "2025-01-03T07:12:53.617483Z"
    }
   },
   "cell_type": "code",
   "source": [
    "num1 = 10\n",
    "num2=  0\n",
    "print(f\"num1 = {num1}, num2 = {num2}\")\n",
    "print(num1 /  num2)"
   ],
   "id": "c95846e5e847648f",
   "outputs": [
    {
     "name": "stdout",
     "output_type": "stream",
     "text": [
      "num1 = 10, num2 = 0\n"
     ]
    },
    {
     "ename": "ZeroDivisionError",
     "evalue": "division by zero",
     "output_type": "error",
     "traceback": [
      "\u001B[0;31m---------------------------------------------------------------------------\u001B[0m",
      "\u001B[0;31mZeroDivisionError\u001B[0m                         Traceback (most recent call last)",
      "Cell \u001B[0;32mIn[2], line 4\u001B[0m\n\u001B[1;32m      2\u001B[0m num2\u001B[38;5;241m=\u001B[39m  \u001B[38;5;241m0\u001B[39m\n\u001B[1;32m      3\u001B[0m \u001B[38;5;28mprint\u001B[39m(\u001B[38;5;124mf\u001B[39m\u001B[38;5;124m\"\u001B[39m\u001B[38;5;124mnum1 = \u001B[39m\u001B[38;5;132;01m{\u001B[39;00mnum1\u001B[38;5;132;01m}\u001B[39;00m\u001B[38;5;124m, num2 = \u001B[39m\u001B[38;5;132;01m{\u001B[39;00mnum2\u001B[38;5;132;01m}\u001B[39;00m\u001B[38;5;124m\"\u001B[39m)\n\u001B[0;32m----> 4\u001B[0m \u001B[38;5;28mprint\u001B[39m(\u001B[43mnum1\u001B[49m\u001B[43m \u001B[49m\u001B[38;5;241;43m/\u001B[39;49m\u001B[43m  \u001B[49m\u001B[43mnum2\u001B[49m)\n",
      "\u001B[0;31mZeroDivisionError\u001B[0m: division by zero"
     ]
    }
   ],
   "execution_count": 2
  },
  {
   "metadata": {
    "ExecuteTime": {
     "end_time": "2025-01-03T07:13:51.278913Z",
     "start_time": "2025-01-03T07:13:48.187314Z"
    }
   },
   "cell_type": "code",
   "source": "num = int(input(\"please enter number : \"))",
   "id": "ba5b552e9353c452",
   "outputs": [
    {
     "ename": "ValueError",
     "evalue": "invalid literal for int() with base 10: 'qwqe'",
     "output_type": "error",
     "traceback": [
      "\u001B[0;31m---------------------------------------------------------------------------\u001B[0m",
      "\u001B[0;31mValueError\u001B[0m                                Traceback (most recent call last)",
      "Cell \u001B[0;32mIn[3], line 1\u001B[0m\n\u001B[0;32m----> 1\u001B[0m num \u001B[38;5;241m=\u001B[39m \u001B[38;5;28;43mint\u001B[39;49m\u001B[43m(\u001B[49m\u001B[38;5;28;43minput\u001B[39;49m\u001B[43m(\u001B[49m\u001B[38;5;124;43m\"\u001B[39;49m\u001B[38;5;124;43mplease enter number : \u001B[39;49m\u001B[38;5;124;43m\"\u001B[39;49m\u001B[43m)\u001B[49m\u001B[43m)\u001B[49m\n",
      "\u001B[0;31mValueError\u001B[0m: invalid literal for int() with base 10: 'qwqe'"
     ]
    }
   ],
   "execution_count": 3
  },
  {
   "metadata": {},
   "cell_type": "markdown",
   "source": "<h1 style=\"color:green\"> Exception handling </h1>",
   "id": "42ccd236b02a85fa"
  },
  {
   "metadata": {
    "ExecuteTime": {
     "end_time": "2025-01-03T07:15:36.809111Z",
     "start_time": "2025-01-03T07:15:34.275858Z"
    }
   },
   "cell_type": "code",
   "source": [
    "try:\n",
    "    num = int(input(\"please enter number : \"))\n",
    "    num2 = int(input(\"please enter number : \"))\n",
    "    res = num / num2\n",
    "    print(res)\n",
    "\n",
    "except:\n",
    "    print(\"----- problem happpened\")\n",
    "\n",
    "print(\"***********************************************\")"
   ],
   "id": "62d6975fcaf960e5",
   "outputs": [
    {
     "name": "stdout",
     "output_type": "stream",
     "text": [
      "----- problem happpened\n",
      "***********************************************\n"
     ]
    }
   ],
   "execution_count": 5
  },
  {
   "metadata": {
    "ExecuteTime": {
     "end_time": "2025-01-03T07:17:44.253912Z",
     "start_time": "2025-01-03T07:17:37.855942Z"
    }
   },
   "cell_type": "code",
   "source": [
    "try:\n",
    "    num = int(input(\"please enter number : \"))\n",
    "    num2 = int(input(\"please enter number : \"))\n",
    "    res = num / num2\n",
    "    print(res)\n",
    "\n",
    "except Exception as e :\n",
    "    print(f\"----- problem happpened : {e}\")"
   ],
   "id": "d56fe654644097b9",
   "outputs": [
    {
     "name": "stdout",
     "output_type": "stream",
     "text": [
      "----- problem happpened : division by zero\n"
     ]
    }
   ],
   "execution_count": 7
  },
  {
   "metadata": {
    "ExecuteTime": {
     "end_time": "2025-01-03T07:22:38.076342Z",
     "start_time": "2025-01-03T07:22:29.915344Z"
    }
   },
   "cell_type": "code",
   "source": [
    "try:\n",
    "    num = int(input(\"please enter number : \"))\n",
    "    num2 = int(input(\"please enter number : \"))\n",
    "    res = num / num2\n",
    "    print(res)\n",
    "except ValueError as ve:\n",
    "    print(f'problem happpened {ve}--> num1 and num2 must be string contatins integers values ')\n",
    "except ZeroDivisionError as ze :\n",
    "    print(f\"problem happened {ze} =>>> division by zero\")\n",
    "except Exception as e :\n",
    "    print(f\"----- problem happpened : {e}\")"
   ],
   "id": "6a093db513c6a8c1",
   "outputs": [
    {
     "name": "stdout",
     "output_type": "stream",
     "text": [
      "problem happened division by zero =>>> division by zero\n"
     ]
    }
   ],
   "execution_count": 9
  },
  {
   "metadata": {},
   "cell_type": "code",
   "outputs": [],
   "execution_count": null,
   "source": [
    "try:\n",
    "    num = int(input(\"please enter number : \"))\n",
    "    num2 = int(input(\"please enter number : \"))\n",
    "    res = num / num2\n",
    "    print(res)\n",
    "except Exception as e :\n",
    "    print(f\"----- problem happpened : {e}\")\n",
    "except ValueError as ve:\n",
    "    print(f'problem happpened {ve}--> num1 and num2 must be string contatins integers values ')\n",
    "except ZeroDivisionError as ze :\n",
    "    print(f\"problem happened {ze} =>>> division by zero\")\n"
   ],
   "id": "488bb7c6275aeaea"
  },
  {
   "metadata": {},
   "cell_type": "markdown",
   "source": "<h1> Optional blocks else, finally </h1>",
   "id": "7391dc738a0f57a5"
  },
  {
   "metadata": {
    "ExecuteTime": {
     "end_time": "2025-01-03T07:25:41.882463Z",
     "start_time": "2025-01-03T07:25:09.950890Z"
    }
   },
   "cell_type": "code",
   "source": [
    "# else\n",
    "try:\n",
    "    num = int(input(\"please enter number : \"))\n",
    "    num2 = int(input(\"please enter number : \"))\n",
    "    res = num / num2\n",
    "    print(res)\n",
    "except ValueError as ve:\n",
    "    print(f'problem happpened {ve}--> num1 and num2 must be string contatins integers values ')\n",
    "except ZeroDivisionError as ze :\n",
    "    print(f\"problem happened {ze} =>>> division by zero\")\n",
    "except Exception as e :\n",
    "    print(f\"----- problem happpened : {e}\")\n",
    "else:\n",
    "    print(\"--- this block will be executed if there are no problems\")"
   ],
   "id": "e33909c626803dd4",
   "outputs": [
    {
     "name": "stdout",
     "output_type": "stream",
     "text": [
      "156.0\n",
      "--- this block will be executed if there are no problems\n"
     ]
    }
   ],
   "execution_count": 12
  },
  {
   "metadata": {
    "ExecuteTime": {
     "end_time": "2025-01-03T07:26:33.823021Z",
     "start_time": "2025-01-03T07:26:28.121454Z"
    }
   },
   "cell_type": "code",
   "source": [
    "# else\n",
    "try:\n",
    "    num = int(input(\"please enter number : \"))\n",
    "    num2 = int(input(\"please enter number : \"))\n",
    "    res = num / num2\n",
    "    print(res)\n",
    "except ValueError as ve:\n",
    "    print(f'problem happpened {ve}--> num1 and num2 must be string contatins integers values ')\n",
    "except ZeroDivisionError as ze :\n",
    "    print(f\"problem happened {ze} =>>> division by zero\")\n",
    "except Exception as e :\n",
    "    print(f\"----- problem happpened : {e}\")\n",
    "else:\n",
    "    print(\"--- this block will be executed if there are no problems\")\n",
    "finally:\n",
    "    print(\"************************THE END*************************\")"
   ],
   "id": "e4cb9abca4c9f09d",
   "outputs": [
    {
     "name": "stdout",
     "output_type": "stream",
     "text": [
      "problem happened division by zero =>>> division by zero\n",
      "************************THE END*************************\n"
     ]
    }
   ],
   "execution_count": 15
  },
  {
   "metadata": {
    "ExecuteTime": {
     "end_time": "2025-01-03T07:27:13.992033Z",
     "start_time": "2025-01-03T07:27:10.098653Z"
    }
   },
   "cell_type": "code",
   "source": [
    "try:\n",
    "    num = int(input(\"please enter number : \"))\n",
    "    num2 = int(input(\"please enter number : \"))\n",
    "    res = num / num2\n",
    "    print(res)\n",
    "except ValueError as ve:\n",
    "    print(f'problem happpened {ve}--> num1 and num2 must be string contatins integers values ')\n",
    "except ZeroDivisionError as ze :\n",
    "    print(f\"problem happened {ze} =>>> division by zero\")\n",
    "except Exception as e :\n",
    "    print(f\"----- problem happpened : {e}\")\n",
    "else:\n",
    "    print(\"--- this block will be executed if there are no problems\")\n",
    "finally:\n",
    "    print(\"************************THE END*************************\")\n",
    "\n",
    "print(\"#################### after the block #############################\")"
   ],
   "id": "19b440889299801c",
   "outputs": [
    {
     "name": "stdout",
     "output_type": "stream",
     "text": [
      "6.5\n",
      "--- this block will be executed if there are no problems\n",
      "************************THE END*************************\n",
      "#################### after the block #############################\n"
     ]
    }
   ],
   "execution_count": 17
  },
  {
   "metadata": {},
   "cell_type": "code",
   "outputs": [],
   "execution_count": null,
   "source": "",
   "id": "edb3588d3fd85432"
  }
 ],
 "metadata": {
  "kernelspec": {
   "display_name": "Python 3",
   "language": "python",
   "name": "python3"
  },
  "language_info": {
   "codemirror_mode": {
    "name": "ipython",
    "version": 2
   },
   "file_extension": ".py",
   "mimetype": "text/x-python",
   "name": "python",
   "nbconvert_exporter": "python",
   "pygments_lexer": "ipython2",
   "version": "2.7.6"
  }
 },
 "nbformat": 4,
 "nbformat_minor": 5
}
