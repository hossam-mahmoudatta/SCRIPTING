{
 "cells": [
  {
   "cell_type": "code",
   "id": "initial_id",
   "metadata": {
    "collapsed": true,
    "ExecuteTime": {
     "end_time": "2025-01-03T06:45:55.292125Z",
     "start_time": "2025-01-03T06:45:55.286155Z"
    }
   },
   "source": [
    "import os\n",
    "\n",
    "print(os.getcwd())"
   ],
   "outputs": [
    {
     "name": "stdout",
     "output_type": "stream",
     "text": [
      "/home/noha/PycharmProjects/icc/r2/devops/day03\n"
     ]
    }
   ],
   "execution_count": 1
  },
  {
   "metadata": {},
   "cell_type": "markdown",
   "source": "# make directory",
   "id": "2a3bc58ecd845334"
  },
  {
   "metadata": {
    "ExecuteTime": {
     "end_time": "2025-01-03T06:47:57.588945Z",
     "start_time": "2025-01-03T06:47:57.575996Z"
    }
   },
   "cell_type": "code",
   "source": "os.mkdir('test')\n",
   "id": "cb5fb7a9f9e1f0dd",
   "outputs": [],
   "execution_count": 6
  },
  {
   "metadata": {
    "ExecuteTime": {
     "end_time": "2025-01-03T06:47:59.075997Z",
     "start_time": "2025-01-03T06:47:59.060717Z"
    }
   },
   "cell_type": "code",
   "source": "os.rmdir('test')",
   "id": "ea965e2fbe786ac8",
   "outputs": [],
   "execution_count": 7
  },
  {
   "metadata": {
    "ExecuteTime": {
     "end_time": "2025-01-03T06:48:30.684583Z",
     "start_time": "2025-01-03T06:48:30.662329Z"
    }
   },
   "cell_type": "code",
   "source": "os.system('ls -l')",
   "id": "5045698f9eb9449d",
   "outputs": [
    {
     "name": "stdout",
     "output_type": "stream",
     "text": [
      "total 28\n",
      "-rw-rw-r-- 1 noha noha 1780 Jan  3 08:48 builtin-modules.ipynb\n",
      "-rw-rw-r-- 1 noha noha   13 Jan  3 08:46 built-in-modules.py\n",
      "drwxrwxr-x 2 noha noha 4096 Jan  3 08:29 devops\n",
      "-rw-rw-r-- 1 noha noha 1004 Jan  3 08:18 filess.ipynb\n",
      "-rw-rw-r-- 1 noha noha  398 Jan  3 08:27 inputs_module.py\n",
      "drwxrwxr-x 2 noha noha 4096 Jan  3 08:40 iti\n",
      "-rw-rw-r-- 1 noha noha  787 Jan  3 08:40 python_and_modules.py\n"
     ]
    },
    {
     "data": {
      "text/plain": [
       "0"
      ]
     },
     "execution_count": 8,
     "metadata": {},
     "output_type": "execute_result"
    }
   ],
   "execution_count": 8
  },
  {
   "metadata": {
    "ExecuteTime": {
     "end_time": "2025-01-03T06:48:55.762377Z",
     "start_time": "2025-01-03T06:48:55.756050Z"
    }
   },
   "cell_type": "code",
   "source": "print(os.getlogin())",
   "id": "bdacb9c3058e8153",
   "outputs": [
    {
     "name": "stdout",
     "output_type": "stream",
     "text": [
      "noha\n"
     ]
    }
   ],
   "execution_count": 9
  },
  {
   "metadata": {},
   "cell_type": "code",
   "outputs": [],
   "execution_count": null,
   "source": "",
   "id": "fbeb3eaa45dcab66"
  },
  {
   "metadata": {
    "ExecuteTime": {
     "end_time": "2025-01-03T06:52:00.125005Z",
     "start_time": "2025-01-03T06:52:00.050186Z"
    }
   },
   "cell_type": "code",
   "source": "os.system('sudo cat /etc/shadow')",
   "id": "1ba41435d5ee83c1",
   "outputs": [
    {
     "name": "stderr",
     "output_type": "stream",
     "text": [
      "sudo: a terminal is required to read the password; either use the -S option to read from standard input or configure an askpass helper\n",
      "sudo: a password is required\n"
     ]
    },
    {
     "data": {
      "text/plain": [
       "256"
      ]
     },
     "execution_count": 10,
     "metadata": {},
     "output_type": "execute_result"
    }
   ],
   "execution_count": 10
  },
  {
   "metadata": {
    "ExecuteTime": {
     "end_time": "2025-01-03T06:54:28.421855Z",
     "start_time": "2025-01-03T06:54:28.414315Z"
    }
   },
   "cell_type": "code",
   "source": "const std='Murad'",
   "id": "38105a077f2c4d44",
   "outputs": [
    {
     "ename": "SyntaxError",
     "evalue": "invalid syntax (2044877443.py, line 1)",
     "output_type": "error",
     "traceback": [
      "\u001B[0;36m  Cell \u001B[0;32mIn[11], line 1\u001B[0;36m\u001B[0m\n\u001B[0;31m    const std='Murad'\u001B[0m\n\u001B[0m          ^\u001B[0m\n\u001B[0;31mSyntaxError\u001B[0m\u001B[0;31m:\u001B[0m invalid syntax\n"
     ]
    }
   ],
   "execution_count": 11
  },
  {
   "metadata": {
    "ExecuteTime": {
     "end_time": "2025-01-03T06:54:54.705680Z",
     "start_time": "2025-01-03T06:54:54.696475Z"
    }
   },
   "cell_type": "code",
   "source": "stdname = \"Murad\"",
   "id": "5cfd7c5497dc6506",
   "outputs": [],
   "execution_count": 12
  },
  {
   "metadata": {
    "ExecuteTime": {
     "end_time": "2025-01-03T06:55:35.951939Z",
     "start_time": "2025-01-03T06:55:35.947635Z"
    }
   },
   "cell_type": "code",
   "source": "_stdname = \"abc\"",
   "id": "bc866eb1fdb11a84",
   "outputs": [],
   "execution_count": 13
  },
  {
   "metadata": {
    "ExecuteTime": {
     "end_time": "2025-01-03T06:55:45.401156Z",
     "start_time": "2025-01-03T06:55:45.396351Z"
    }
   },
   "cell_type": "code",
   "source": "_stdname = \"updated\"",
   "id": "30974d8bdf19b8f6",
   "outputs": [],
   "execution_count": 14
  },
  {
   "metadata": {
    "ExecuteTime": {
     "end_time": "2025-01-03T06:55:56.691990Z",
     "start_time": "2025-01-03T06:55:56.674685Z"
    }
   },
   "cell_type": "code",
   "source": "print(_stdname)",
   "id": "3210296778eb14c8",
   "outputs": [
    {
     "name": "stdout",
     "output_type": "stream",
     "text": [
      "updated\n"
     ]
    }
   ],
   "execution_count": 15
  },
  {
   "metadata": {
    "ExecuteTime": {
     "end_time": "2025-01-03T07:03:38.821962Z",
     "start_time": "2025-01-03T07:03:31.972571Z"
    }
   },
   "cell_type": "code",
   "source": [
    "import re\n",
    "regex = r'\\b[A-Za-z0-9._%+-]+@[A-Za-z0-9.-]+\\.[A-Z|a-z]{2,7}\\b'\n",
    "email = input(\"please enter your email: \")\n",
    "print(email)\n",
    "# match return with match object if the first part of the string matches the pattern\n",
    "email_valid = re.match(regex, email)\n",
    "print(email_valid)\n",
    "if email_valid:\n",
    "    print('right Email format')\n",
    "else:\n",
    "    print(\"--- Email not valid \")"
   ],
   "id": "86a21593256377c2",
   "outputs": [
    {
     "name": "stdout",
     "output_type": "stream",
     "text": [
      "noha@gmail.com@iti.com\n",
      "<re.Match object; span=(0, 14), match='noha@gmail.com'>\n",
      "right Email format\n"
     ]
    }
   ],
   "execution_count": 20
  },
  {
   "metadata": {
    "ExecuteTime": {
     "end_time": "2025-01-03T07:05:36.992101Z",
     "start_time": "2025-01-03T07:05:26.079636Z"
    }
   },
   "cell_type": "code",
   "source": [
    "import re\n",
    "regex = r'\\b[A-Za-z0-9._%+-]+@[A-Za-z0-9.-]+\\.[A-Z|a-z]{2,7}\\b$'\n",
    "email = input(\"please enter your email: \")\n",
    "print(email)\n",
    "# match return with match object if the first part of the string matches the pattern\n",
    "email_valid = re.match(regex, email)\n",
    "print(email_valid)\n",
    "if email_valid:\n",
    "    print('right Email format')\n",
    "else:\n",
    "    print(\"--- Email not valid \")"
   ],
   "id": "dd2c63d3e4053ca6",
   "outputs": [
    {
     "name": "stdout",
     "output_type": "stream",
     "text": [
      "noha@tiit.com@gmail.com\n",
      "None\n",
      "--- Email not valid \n"
     ]
    }
   ],
   "execution_count": 21
  },
  {
   "metadata": {
    "ExecuteTime": {
     "end_time": "2025-01-03T07:06:08.157630Z",
     "start_time": "2025-01-03T07:05:58.343261Z"
    }
   },
   "cell_type": "code",
   "source": [
    "import re\n",
    "regex = r'\\b[A-Za-z0-9._%+-]+@[A-Za-z0-9.-]+\\.[A-Z|a-z]{2,7}\\b'\n",
    "email = input(\"please enter your email: \")\n",
    "print(email)\n",
    "# match return with match object if the  string matches the pattern\n",
    "email_valid = re.fullmatch(regex, email)\n",
    "print(email_valid)\n",
    "if email_valid:\n",
    "    print('right Email format')\n",
    "else:\n",
    "    print(\"--- Email not valid \")"
   ],
   "id": "49e7a69d8eb0b5b3",
   "outputs": [
    {
     "name": "stdout",
     "output_type": "stream",
     "text": [
      "noha@gmail.com@ggg.com\n",
      "None\n",
      "--- Email not valid \n"
     ]
    }
   ],
   "execution_count": 22
  },
  {
   "metadata": {},
   "cell_type": "code",
   "outputs": [],
   "execution_count": null,
   "source": "",
   "id": "e64cfe52f4228b5b"
  }
 ],
 "metadata": {
  "kernelspec": {
   "display_name": "Python 3",
   "language": "python",
   "name": "python3"
  },
  "language_info": {
   "codemirror_mode": {
    "name": "ipython",
    "version": 2
   },
   "file_extension": ".py",
   "mimetype": "text/x-python",
   "name": "python",
   "nbconvert_exporter": "python",
   "pygments_lexer": "ipython2",
   "version": "2.7.6"
  }
 },
 "nbformat": 4,
 "nbformat_minor": 5
}
