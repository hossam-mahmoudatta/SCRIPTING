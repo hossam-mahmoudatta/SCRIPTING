{
 "cells": [
  {
   "cell_type": "code",
   "id": "initial_id",
   "metadata": {
    "collapsed": true,
    "ExecuteTime": {
     "end_time": "2025-01-03T08:07:27.416902Z",
     "start_time": "2025-01-03T08:07:27.412548Z"
    }
   },
   "source": [
    "try:\n",
    "    # fileobject= open(\"users.txt\",\"r\")\n",
    "    fileobject= open(\"users.txt\")   # mode, append\n",
    "except Exception as e:\n",
    "    print(e)\n",
    "else:\n",
    "    print(fileobject)\n",
    "    fileobject.close()\n",
    "\n",
    "\n"
   ],
   "outputs": [
    {
     "name": "stdout",
     "output_type": "stream",
     "text": [
      "[Errno 2] No such file or directory: 'users.txt'\n"
     ]
    }
   ],
   "execution_count": 1
  },
  {
   "metadata": {
    "ExecuteTime": {
     "end_time": "2025-01-03T08:09:09.482443Z",
     "start_time": "2025-01-03T08:09:09.475826Z"
    }
   },
   "cell_type": "code",
   "source": [
    "try:\n",
    "    # fileobject= open(\"users.txt\",\"r\")\n",
    "    fileobject= open(\"users.txt\")   # mode, append\n",
    "except Exception as e:\n",
    "    print(e)\n",
    "else:\n",
    "    print(fileobject)\n",
    "    fileobject.close()\n"
   ],
   "id": "855fe68627305197",
   "outputs": [
    {
     "name": "stdout",
     "output_type": "stream",
     "text": [
      "<_io.TextIOWrapper name='users.txt' mode='r' encoding='UTF-8'>\n"
     ]
    }
   ],
   "execution_count": 3
  },
  {
   "metadata": {},
   "cell_type": "markdown",
   "source": "<h1> Read content </h1>",
   "id": "1d905c4df4d0cb61"
  },
  {
   "metadata": {
    "ExecuteTime": {
     "end_time": "2025-01-03T08:09:54.671603Z",
     "start_time": "2025-01-03T08:09:54.649539Z"
    }
   },
   "cell_type": "code",
   "source": [
    "try:\n",
    "    # fileobject= open(\"users.txt\",\"r\")\n",
    "    fileobject= open(\"users.txt\")   # mode, append\n",
    "except Exception as e:\n",
    "    print(e)\n",
    "else:\n",
    "    print(fileobject)\n",
    "    data = fileobject.read()\n",
    "    print(data, type(data))\n",
    "    fileobject.close()\n"
   ],
   "id": "5f5593b9bdb61dcd",
   "outputs": [
    {
     "name": "stdout",
     "output_type": "stream",
     "text": [
      "<_io.TextIOWrapper name='users.txt' mode='r' encoding='UTF-8'>\n",
      "Menna\n",
      "Mina\n",
      "Ziad\n",
      "Abdelrahman\n",
      "Shehab <class 'str'>\n"
     ]
    }
   ],
   "execution_count": 4
  },
  {
   "metadata": {},
   "cell_type": "markdown",
   "source": "# read lines",
   "id": "abaf4e54f0ed7ddd"
  },
  {
   "metadata": {
    "ExecuteTime": {
     "end_time": "2025-01-03T08:11:00.155410Z",
     "start_time": "2025-01-03T08:11:00.150226Z"
    }
   },
   "cell_type": "code",
   "source": [
    "try:\n",
    "    # fileobject= open(\"users.txt\",\"r\")\n",
    "    fileobject= open(\"users.txt\")   # mode, append\n",
    "except Exception as e:\n",
    "    print(e)\n",
    "else:\n",
    "    print(fileobject)\n",
    "    lines = fileobject.readlines()\n",
    "    print(lines, type(lines))\n",
    "    fileobject.close()"
   ],
   "id": "5332d95345fdf63c",
   "outputs": [
    {
     "name": "stdout",
     "output_type": "stream",
     "text": [
      "<_io.TextIOWrapper name='users.txt' mode='r' encoding='UTF-8'>\n",
      "['Menna\\n', 'Mina\\n', 'Ziad\\n', 'Abdelrahman\\n', 'Shehab'] <class 'list'>\n"
     ]
    }
   ],
   "execution_count": 5
  },
  {
   "metadata": {
    "ExecuteTime": {
     "end_time": "2025-01-03T08:13:10.103855Z",
     "start_time": "2025-01-03T08:13:10.087815Z"
    }
   },
   "cell_type": "code",
   "source": [
    "# read data line by line\n",
    "try:\n",
    "    # fileobject= open(\"users.txt\",\"r\")\n",
    "    fileobject= open(\"users.txt\")   # mode, append\n",
    "except Exception as e:\n",
    "    print(e)\n",
    "else:\n",
    "    lines = []\n",
    "    for line in fileobject:\n",
    "        lines.append(line)\n",
    "\n",
    "    print(lines)\n",
    "\n",
    "    data = fileobject.readlines()\n",
    "    print(data, type(data))\n",
    "    fileobject.close()\n",
    "\n"
   ],
   "id": "72ff06227aeb9b28",
   "outputs": [
    {
     "name": "stdout",
     "output_type": "stream",
     "text": [
      "['Menna\\n', 'Mina\\n', 'Ziad\\n', 'Abdelrahman\\n', 'Shehab']\n",
      "[] <class 'list'>\n"
     ]
    }
   ],
   "execution_count": 10
  },
  {
   "metadata": {
    "ExecuteTime": {
     "end_time": "2025-01-03T08:19:27.553368Z",
     "start_time": "2025-01-03T08:19:27.547869Z"
    }
   },
   "cell_type": "code",
   "source": [
    "try:\n",
    "    # fileobject= open(\"users.txt\",\"r\")\n",
    "    fileobject= open(\"users.txt\")   # mode, append\n",
    "except Exception as e:\n",
    "    print(e)\n",
    "else:\n",
    "    lines = []\n",
    "    for line in fileobject:\n",
    "        lines.append(line)\n",
    "\n",
    "    print(lines)\n",
    "    fileobject.seek(6)\n",
    "    ### move the cursor to byte -->0\n",
    "    data = fileobject.readlines()\n",
    "    print(f\"data = {data}\")\n",
    "    fileobject.close()"
   ],
   "id": "2a2046f04db95758",
   "outputs": [
    {
     "name": "stdout",
     "output_type": "stream",
     "text": [
      "['Menna\\n', 'Mina\\n', 'Ziad\\n', 'Abdelrahman\\n', 'Shehab']\n",
      "data = ['Mina\\n', 'Ziad\\n', 'Abdelrahman\\n', 'Shehab']\n"
     ]
    }
   ],
   "execution_count": 16
  },
  {
   "metadata": {},
   "cell_type": "code",
   "outputs": [],
   "execution_count": null,
   "source": "",
   "id": "7959d9c098a68522"
  },
  {
   "metadata": {},
   "cell_type": "markdown",
   "source": "<h1 style='color:orange; text-align:center'> Write data to a file </h1>",
   "id": "62e13a8e3ee2d755"
  },
  {
   "metadata": {
    "ExecuteTime": {
     "end_time": "2025-01-03T08:25:53.732464Z",
     "start_time": "2025-01-03T08:25:53.723095Z"
    }
   },
   "cell_type": "code",
   "source": [
    "\"\"\" when you open file with w mode -->\n",
    "if file doesn't exist --> will create it .\n",
    "if file exists  --> open file for writing starting from the beginning of the file --> remove old content\n",
    "\n",
    "\n",
    "\"\"\"\n",
    "try:\n",
    "    fileobject= open(\"mycv.txt\", \"w\")   # mode, append\n",
    "except Exception as e:\n",
    "    print(e)\n",
    "else:\n",
    "    fileobject.write(\"hello world\\n\")\n",
    "    fileobject.write('we need to sleep\\n')\n",
    "    fileobject.writelines([\"noha\\n\", \"ahmed\\n\", \"ali\\n\"])\n",
    "    fileobject.close()"
   ],
   "id": "a1af307534141988",
   "outputs": [],
   "execution_count": 22
  },
  {
   "metadata": {},
   "cell_type": "markdown",
   "source": "<h1 style='color:pink; text-align:center'> Append data to a file </h1>\n",
   "id": "ecf7bd4151279ef"
  },
  {
   "metadata": {
    "ExecuteTime": {
     "end_time": "2025-01-03T08:27:50.367808Z",
     "start_time": "2025-01-03T08:27:50.349771Z"
    }
   },
   "cell_type": "code",
   "source": [
    "\"\"\" when you open file with a mode -->\n",
    "if file doesn't exist --> will create it .\n",
    "if file exists  --> open file for writing starting from the end of the file --> keep old content\n",
    "\n",
    "\n",
    "\"\"\"\n",
    "try:\n",
    "    fileobject= open(\"notes.txt\", \"a\")   # mode, append\n",
    "except Exception as e:\n",
    "    print(e)\n",
    "else:\n",
    "    fileobject.write(\"#####################\\n\")\n",
    "    fileobject.write('we need to sleep\\n')\n",
    "    fileobject.writelines([\"noha\\n\", \"ahmed\\n\", \"ali\\n\"])\n",
    "    fileobject.close()"
   ],
   "id": "3f296a1cea9839a2",
   "outputs": [],
   "execution_count": 25
  },
  {
   "metadata": {},
   "cell_type": "code",
   "outputs": [],
   "execution_count": null,
   "source": "",
   "id": "4941c4a7c4a4008d"
  }
 ],
 "metadata": {
  "kernelspec": {
   "display_name": "Python 3",
   "language": "python",
   "name": "python3"
  },
  "language_info": {
   "codemirror_mode": {
    "name": "ipython",
    "version": 2
   },
   "file_extension": ".py",
   "mimetype": "text/x-python",
   "name": "python",
   "nbconvert_exporter": "python",
   "pygments_lexer": "ipython2",
   "version": "2.7.6"
  }
 },
 "nbformat": 4,
 "nbformat_minor": 5
}
