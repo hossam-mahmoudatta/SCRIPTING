{
 "cells": [
  {
   "cell_type": "code",
   "id": "initial_id",
   "metadata": {
    "collapsed": true,
    "ExecuteTime": {
     "end_time": "2024-12-31T08:34:36.627488Z",
     "start_time": "2024-12-31T08:34:36.619921Z"
    }
   },
   "source": "print(\"hello\")",
   "outputs": [
    {
     "name": "stdout",
     "output_type": "stream",
     "text": [
      "hello\n"
     ]
    }
   ],
   "execution_count": 1
  },
  {
   "metadata": {
    "ExecuteTime": {
     "end_time": "2024-12-31T08:56:22.594053Z",
     "start_time": "2024-12-31T08:56:22.587320Z"
    }
   },
   "cell_type": "code",
   "source": [
    "name=\"omnia\"\n",
    "# get type\n",
    "print(type(name))"
   ],
   "id": "75f7447c963ac357",
   "outputs": [
    {
     "name": "stdout",
     "output_type": "stream",
     "text": [
      "<class 'str'>\n"
     ]
    }
   ],
   "execution_count": 2
  },
  {
   "metadata": {
    "ExecuteTime": {
     "end_time": "2024-12-31T08:56:37.610370Z",
     "start_time": "2024-12-31T08:56:37.603515Z"
    }
   },
   "cell_type": "code",
   "source": [
    "# isinstance\n",
    "print(isinstance(name,str))"
   ],
   "id": "43f48e72accb9dc2",
   "outputs": [
    {
     "name": "stdout",
     "output_type": "stream",
     "text": [
      "True\n"
     ]
    }
   ],
   "execution_count": 3
  },
  {
   "metadata": {
    "ExecuteTime": {
     "end_time": "2024-12-31T08:57:49.152167Z",
     "start_time": "2024-12-31T08:57:49.147487Z"
    }
   },
   "cell_type": "code",
   "source": "print(10==True)  # == in python compare value and datatype",
   "id": "6e013205ecd1ed2c",
   "outputs": [
    {
     "name": "stdout",
     "output_type": "stream",
     "text": [
      "False\n"
     ]
    }
   ],
   "execution_count": 4
  },
  {
   "metadata": {
    "ExecuteTime": {
     "end_time": "2024-12-31T09:02:09.773240Z",
     "start_time": "2024-12-31T09:02:09.768552Z"
    }
   },
   "cell_type": "code",
   "source": [
    "# 10 means true value\n",
    "num = 10\n",
    "print(num)\n",
    "### you can cast values to different types?\n",
    "num = bool(num)\n",
    "print(num)"
   ],
   "id": "ff71a5bb9b8716e5",
   "outputs": [
    {
     "name": "stdout",
     "output_type": "stream",
     "text": [
      "10\n",
      "True\n"
     ]
    }
   ],
   "execution_count": 5
  },
  {
   "metadata": {
    "ExecuteTime": {
     "end_time": "2024-12-31T09:02:39.561815Z",
     "start_time": "2024-12-31T09:02:39.556530Z"
    }
   },
   "cell_type": "code",
   "source": [
    "name=\"Yossra\"\n",
    "if name:\n",
    "    print(\"hiii\")\n",
    "else:\n",
    "    print(\"byee\")"
   ],
   "id": "1eba877a13cf5f15",
   "outputs": [
    {
     "name": "stdout",
     "output_type": "stream",
     "text": [
      "hiii\n"
     ]
    }
   ],
   "execution_count": 6
  },
  {
   "metadata": {},
   "cell_type": "code",
   "outputs": [],
   "execution_count": null,
   "source": "",
   "id": "351b1a3623d8aaca"
  },
  {
   "metadata": {},
   "cell_type": "markdown",
   "source": "<h1 style=\"color:red; text-align:center\"> Type Casting </h1>",
   "id": "b7059b6f800f4349"
  },
  {
   "metadata": {
    "ExecuteTime": {
     "end_time": "2024-12-31T09:04:07.722982Z",
     "start_time": "2024-12-31T09:04:07.717965Z"
    }
   },
   "cell_type": "code",
   "source": [
    "grade = 100\n",
    "print(grade, type(grade))\n",
    "# cast it to string\n",
    "grade= str(100)\n",
    "print(grade, type(grade))"
   ],
   "id": "ffb104d90b64c728",
   "outputs": [
    {
     "name": "stdout",
     "output_type": "stream",
     "text": [
      "100 <class 'int'>\n",
      "100 <class 'str'>\n"
     ]
    }
   ],
   "execution_count": 7
  },
  {
   "metadata": {
    "ExecuteTime": {
     "end_time": "2024-12-31T09:04:38.253607Z",
     "start_time": "2024-12-31T09:04:38.247890Z"
    }
   },
   "cell_type": "code",
   "source": [
    "year= \"2024\"\n",
    "# casting to int\n",
    "year = int(year)\n",
    "print(year, type(year))"
   ],
   "id": "fcb38e69b7be1fab",
   "outputs": [
    {
     "name": "stdout",
     "output_type": "stream",
     "text": [
      "2024 <class 'int'>\n"
     ]
    }
   ],
   "execution_count": 8
  },
  {
   "metadata": {
    "ExecuteTime": {
     "end_time": "2024-12-31T09:05:03.894627Z",
     "start_time": "2024-12-31T09:05:03.572042Z"
    }
   },
   "cell_type": "code",
   "source": [
    "name =\"noha\"\n",
    "print(name, type(name))\n",
    "name=int(name)\n",
    "print(name, type(name))"
   ],
   "id": "d0f217d9bb0b8dd5",
   "outputs": [
    {
     "name": "stdout",
     "output_type": "stream",
     "text": [
      "noha <class 'str'>\n"
     ]
    },
    {
     "ename": "ValueError",
     "evalue": "invalid literal for int() with base 10: 'noha'",
     "output_type": "error",
     "traceback": [
      "\u001B[0;31m---------------------------------------------------------------------------\u001B[0m",
      "\u001B[0;31mValueError\u001B[0m                                Traceback (most recent call last)",
      "Cell \u001B[0;32mIn[9], line 3\u001B[0m\n\u001B[1;32m      1\u001B[0m name \u001B[38;5;241m=\u001B[39m\u001B[38;5;124m\"\u001B[39m\u001B[38;5;124mnoha\u001B[39m\u001B[38;5;124m\"\u001B[39m\n\u001B[1;32m      2\u001B[0m \u001B[38;5;28mprint\u001B[39m(name, \u001B[38;5;28mtype\u001B[39m(name))\n\u001B[0;32m----> 3\u001B[0m name\u001B[38;5;241m=\u001B[39m\u001B[38;5;28;43mint\u001B[39;49m\u001B[43m(\u001B[49m\u001B[43mname\u001B[49m\u001B[43m)\u001B[49m\n\u001B[1;32m      4\u001B[0m \u001B[38;5;28mprint\u001B[39m(name, \u001B[38;5;28mtype\u001B[39m(name))\n",
      "\u001B[0;31mValueError\u001B[0m: invalid literal for int() with base 10: 'noha'"
     ]
    }
   ],
   "execution_count": 9
  },
  {
   "metadata": {
    "ExecuteTime": {
     "end_time": "2024-12-31T09:08:07.405114Z",
     "start_time": "2024-12-31T09:08:07.398367Z"
    }
   },
   "cell_type": "code",
   "source": [
    "happy= False\n",
    "happy= int(happy)\n",
    "print(happy, type(happy))"
   ],
   "id": "ab62b04a16ad7c2d",
   "outputs": [
    {
     "name": "stdout",
     "output_type": "stream",
     "text": [
      "0 <class 'int'>\n"
     ]
    }
   ],
   "execution_count": 10
  },
  {
   "metadata": {
    "ExecuteTime": {
     "end_time": "2024-12-31T09:08:30.947341Z",
     "start_time": "2024-12-31T09:08:30.928434Z"
    }
   },
   "cell_type": "code",
   "source": [
    "happy= False\n",
    "happy= str(happy)\n",
    "print(happy)"
   ],
   "id": "cf5df4fc091bcefe",
   "outputs": [
    {
     "name": "stdout",
     "output_type": "stream",
     "text": [
      "False\n"
     ]
    }
   ],
   "execution_count": 11
  },
  {
   "metadata": {},
   "cell_type": "markdown",
   "source": "<h1 style=\"color:purple; text-align:center\"> Operators </h1>\n",
   "id": "e8ffb0ed6c555c39"
  },
  {
   "metadata": {
    "ExecuteTime": {
     "end_time": "2024-12-31T09:10:18.540513Z",
     "start_time": "2024-12-31T09:10:18.535961Z"
    }
   },
   "cell_type": "code",
   "source": "print('iti' and \"abc\")",
   "id": "b8e33a1b84561f40",
   "outputs": [
    {
     "name": "stdout",
     "output_type": "stream",
     "text": [
      "abc\n"
     ]
    }
   ],
   "execution_count": 12
  },
  {
   "metadata": {
    "ExecuteTime": {
     "end_time": "2024-12-31T09:12:59.110026Z",
     "start_time": "2024-12-31T09:12:59.105696Z"
    }
   },
   "cell_type": "code",
   "source": "print(\"iti\" and None )",
   "id": "2314b184a47fd170",
   "outputs": [
    {
     "name": "stdout",
     "output_type": "stream",
     "text": [
      "None\n"
     ]
    }
   ],
   "execution_count": 13
  },
  {
   "metadata": {
    "ExecuteTime": {
     "end_time": "2024-12-31T09:13:29.201088Z",
     "start_time": "2024-12-31T09:13:29.195642Z"
    }
   },
   "cell_type": "code",
   "source": [
    "res= \"\" and \"iti\" and 1000\n",
    "print(res, type(res))"
   ],
   "id": "ab4c74f69015a959",
   "outputs": [
    {
     "name": "stdout",
     "output_type": "stream",
     "text": [
      " <class 'str'>\n"
     ]
    }
   ],
   "execution_count": 15
  },
  {
   "metadata": {
    "ExecuteTime": {
     "end_time": "2024-12-31T09:15:09.520179Z",
     "start_time": "2024-12-31T09:15:09.515321Z"
    }
   },
   "cell_type": "code",
   "source": [
    "if \"\" and \"iti\" and 1000:\n",
    "    print(\"hii\")\n",
    "else:\n",
    "    print(\"byee\")"
   ],
   "id": "2dd78bfd08c904f4",
   "outputs": [
    {
     "name": "stdout",
     "output_type": "stream",
     "text": [
      "byee\n"
     ]
    }
   ],
   "execution_count": 16
  },
  {
   "metadata": {},
   "cell_type": "code",
   "outputs": [],
   "execution_count": null,
   "source": "",
   "id": "13e5f7422842317c"
  }
 ],
 "metadata": {
  "kernelspec": {
   "display_name": "Python 3",
   "language": "python",
   "name": "python3"
  },
  "language_info": {
   "codemirror_mode": {
    "name": "ipython",
    "version": 2
   },
   "file_extension": ".py",
   "mimetype": "text/x-python",
   "name": "python",
   "nbconvert_exporter": "python",
   "pygments_lexer": "ipython2",
   "version": "2.7.6"
  }
 },
 "nbformat": 4,
 "nbformat_minor": 5
}
