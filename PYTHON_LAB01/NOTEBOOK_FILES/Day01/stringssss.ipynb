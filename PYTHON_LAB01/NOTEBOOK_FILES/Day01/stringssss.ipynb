{
 "cells": [
  {
   "cell_type": "code",
   "id": "initial_id",
   "metadata": {
    "collapsed": true
   },
   "source": [
    "\"1- define a string\"\n",
    "iti  = \"Information Technology Institute\"\n"
   ],
   "outputs": [],
   "execution_count": null
  },
  {
   "metadata": {},
   "cell_type": "code",
   "source": [
    "\"2- get len of the string\"\n",
    "print(len(iti))"
   ],
   "id": "ff5176ffdc32c56f",
   "outputs": [],
   "execution_count": null
  },
  {
   "metadata": {},
   "cell_type": "code",
   "source": [
    "\"3- count char occurrence\" \n",
    "print(iti.count(\"i\"))"
   ],
   "id": "a11cc70477ec2181",
   "outputs": [],
   "execution_count": null
  },
  {
   "metadata": {},
   "cell_type": "markdown",
   "source": "access char using index ",
   "id": "d7b641fa69ebd7e9"
  },
  {
   "metadata": {},
   "cell_type": "code",
   "source": "print(iti[1])",
   "id": "247bcc4f7ce62926",
   "outputs": [],
   "execution_count": null
  },
  {
   "metadata": {},
   "cell_type": "code",
   "source": "print(iti[1:6])",
   "id": "db61db9ab2aaac0b",
   "outputs": [],
   "execution_count": null
  },
  {
   "metadata": {},
   "cell_type": "code",
   "source": "print(iti[::])",
   "id": "c17f2e7fecf7713a",
   "outputs": [],
   "execution_count": null
  },
  {
   "metadata": {},
   "cell_type": "code",
   "source": "print(iti[::-1])  # return new string \n",
   "id": "92c5fa620f686daa",
   "outputs": [],
   "execution_count": null
  },
  {
   "metadata": {},
   "cell_type": "markdown",
   "source": "get index of char ",
   "id": "ed6f5b0eed4f864e"
  },
  {
   "metadata": {},
   "cell_type": "code",
   "source": "print(iti.index('n')) # get index of the first occurrence ",
   "id": "6c3d60d87722b51d",
   "outputs": [],
   "execution_count": null
  },
  {
   "metadata": {},
   "cell_type": "code",
   "source": "print(iti.count(\"z\"))",
   "id": "31aaa059d6e8d04d",
   "outputs": [],
   "execution_count": null
  },
  {
   "metadata": {},
   "cell_type": "markdown",
   "source": "# in operator ",
   "id": "fe30598ceb5df8a0"
  },
  {
   "metadata": {},
   "cell_type": "code",
   "source": [
    "# in operator \n",
    "print(\"z\" in iti)"
   ],
   "id": "218fbcdcac2945c4",
   "outputs": [],
   "execution_count": null
  },
  {
   "metadata": {},
   "cell_type": "markdown",
   "source": "# string is a sequence ",
   "id": "51cb1fb3e0fe6d56"
  },
  {
   "metadata": {},
   "cell_type": "code",
   "source": [
    "# for in \n",
    "for abbass in iti:\n",
    "    print(abbass)"
   ],
   "id": "e3c54fc365228f93",
   "outputs": [],
   "execution_count": null
  },
  {
   "metadata": {},
   "cell_type": "markdown",
   "source": "# operations on string ---> immutable \n",
   "id": "f5f75fffba8ac33f"
  },
  {
   "metadata": {},
   "cell_type": "markdown",
   "source": "1- string concat",
   "id": "ce753c08615feb81"
  },
  {
   "metadata": {},
   "cell_type": "code",
   "source": [
    "fname= 'noha'\n",
    "midname='abdelhady'\n",
    "lname= 'shehab'\n"
   ],
   "id": "135918d80e2403b1",
   "outputs": [],
   "execution_count": null
  },
  {
   "metadata": {},
   "cell_type": "code",
   "source": [
    "fullname =  fname+midname+lname\n",
    "print(fullname)"
   ],
   "id": "3c9ac809a2d47b56",
   "outputs": [],
   "execution_count": null
  },
  {
   "metadata": {},
   "cell_type": "code",
   "source": [
    "num= 10 \n",
    "typess='mobiles'\n",
    "\n",
    "msg=\"I need to give the students\" + num + typess\n",
    "print(msg)"
   ],
   "id": "9c4e1bfcf639d3c5",
   "outputs": [],
   "execution_count": null
  },
  {
   "metadata": {},
   "cell_type": "code",
   "source": [
    "msg=\"I need to give the students\" +str( num) + typess\n",
    "print(msg)"
   ],
   "id": "d84ae9afa8da20a6",
   "outputs": [],
   "execution_count": null
  },
  {
   "metadata": {},
   "cell_type": "markdown",
   "source": "# formatting the string ",
   "id": "afefde575e6ea59a"
  },
  {
   "metadata": {},
   "cell_type": "markdown",
   "source": "1- formatfunction ",
   "id": "e6ebb835efbd71ba"
  },
  {
   "metadata": {},
   "cell_type": "code",
   "source": [
    "tempp = \"I need to give the students {0} {1}\"\n",
    "print(tempp)"
   ],
   "id": "8850efaa041d8032",
   "outputs": [],
   "execution_count": null
  },
  {
   "metadata": {},
   "cell_type": "code",
   "source": [
    "# use format function to return with new string ?? \n",
    "newstr = tempp.format(22, \"laptops\")\n",
    "print(newstr)"
   ],
   "id": "a82d2478929d0357",
   "outputs": [],
   "execution_count": null
  },
  {
   "metadata": {},
   "cell_type": "code",
   "source": [
    "newstr2= tempp.format(\"tasks\", 30)\n",
    "print(newstr2)"
   ],
   "id": "1856cd30d0e8c873",
   "outputs": [],
   "execution_count": null
  },
  {
   "metadata": {},
   "cell_type": "markdown",
   "source": "# build format function --> {0}, ==> {keyword}",
   "id": "16a36c26d56300c2"
  },
  {
   "metadata": {},
   "cell_type": "code",
   "source": "keywordtemp = \"I need to give the students {anynumber} {anygift}\"",
   "id": "5dece23c5de52214",
   "outputs": [],
   "execution_count": null
  },
  {
   "metadata": {},
   "cell_type": "code",
   "source": "print(keywordtemp)",
   "id": "cf357de97ec6524a",
   "outputs": [],
   "execution_count": null
  },
  {
   "metadata": {},
   "cell_type": "code",
   "source": [
    "newmsg = keywordtemp.format(anynumber=24, anygift='tasks')  # keyword argument \n",
    "print(newmsg)"
   ],
   "id": "3ef0828be772aab7",
   "outputs": [],
   "execution_count": null
  },
  {
   "metadata": {},
   "cell_type": "code",
   "source": "print(keywordtemp)",
   "id": "693607208c1a7db",
   "outputs": [],
   "execution_count": null
  },
  {
   "metadata": {},
   "cell_type": "markdown",
   "source": [
    "# f-format string \n",
    "creating string depends on existing variables in memory "
   ],
   "id": "2ba8b01350eb788a"
  },
  {
   "metadata": {},
   "cell_type": "code",
   "source": [
    "fname='noha'\n",
    "lname='shehab'\n",
    "outstr= f\"My name is {fname} {lname}\"\n",
    "print(outstr)"
   ],
   "id": "a59b38e1df46e2e5",
   "outputs": [],
   "execution_count": null
  },
  {
   "metadata": {},
   "cell_type": "code",
   "source": "anystr3= f\"the values of x= {x} , y = {y}\"",
   "id": "8632b1f9d127b215",
   "outputs": [],
   "execution_count": null
  },
  {
   "metadata": {},
   "cell_type": "code",
   "source": "anystr3= f\"the values of x= {10} , y = {55}\"",
   "id": "8670d89abc412fde",
   "outputs": [],
   "execution_count": null
  },
  {
   "metadata": {},
   "cell_type": "code",
   "source": "print(anystr3)",
   "id": "4513cc59624d6c4",
   "outputs": [],
   "execution_count": null
  },
  {
   "metadata": {},
   "cell_type": "markdown",
   "source": "# interpolation",
   "id": "1527374703c87416"
  },
  {
   "metadata": {},
   "cell_type": "code",
   "source": [
    "fullname= fname+ midname + midname  + lname\n",
    "print(fullname)"
   ],
   "id": "26f24ef5b7aff71f",
   "outputs": [],
   "execution_count": null
  },
  {
   "metadata": {},
   "cell_type": "code",
   "source": [
    "fullname= fname + \" \" + midname * 2  + \"  \" +  lname\n",
    "print(fullname)"
   ],
   "id": "5a1c913b6ca161fa",
   "outputs": [],
   "execution_count": null
  },
  {
   "metadata": {},
   "cell_type": "markdown",
   "source": "# format string ",
   "id": "31b946712162238a"
  },
  {
   "metadata": {},
   "cell_type": "code",
   "source": "msg = 'we love python'",
   "id": "659e8377a5ab43d5",
   "outputs": [],
   "execution_count": null
  },
  {
   "metadata": {},
   "cell_type": "code",
   "source": "print(msg.capitalize())",
   "id": "fce1e69fa5f940bf",
   "outputs": [],
   "execution_count": null
  },
  {
   "metadata": {},
   "cell_type": "code",
   "source": "print(msg.upper())",
   "id": "d468ed187863bcfa",
   "outputs": [],
   "execution_count": null
  },
  {
   "metadata": {},
   "cell_type": "code",
   "source": "print(msg.title())",
   "id": "1da58eefa828bcd3",
   "outputs": [],
   "execution_count": null
  },
  {
   "metadata": {},
   "cell_type": "markdown",
   "source": "# replace ",
   "id": "eeef1548157b1395"
  },
  {
   "metadata": {},
   "cell_type": "code",
   "source": [
    "message = \"we love python\"  # o --> @ \n",
    "newmsg = ''\n",
    "for char in message:\n",
    "    if char=='o':\n",
    "        newmsg += '@' # reassign  # newmsg= newmsg + '@'\n",
    "    else:\n",
    "        newmsg += char\n",
    "print(newmsg)\n"
   ],
   "id": "cadea3a8cfa5c72f",
   "outputs": [],
   "execution_count": null
  },
  {
   "metadata": {},
   "cell_type": "code",
   "source": [
    "name= 'abbass'\n",
    "name= name + \"##\"\n",
    "print(name)"
   ],
   "id": "683d1c0aa7ca80f1",
   "outputs": [],
   "execution_count": null
  },
  {
   "metadata": {},
   "cell_type": "code",
   "source": [
    "num = 10 \n",
    "num +=300\n",
    "print(num)"
   ],
   "id": "ce43fdd0c729be2f",
   "outputs": [],
   "execution_count": null
  },
  {
   "metadata": {},
   "cell_type": "markdown",
   "source": "# use replace function",
   "id": "b65574b53408c34e"
  },
  {
   "metadata": {},
   "cell_type": "code",
   "source": [
    "message = \"we love python\"\n",
    "newmessage = message.replace(\"o\", '@')  # replace all occurrences\n",
    "print(newmessage)"
   ],
   "id": "b557c33bd12a18e7",
   "outputs": [],
   "execution_count": null
  },
  {
   "metadata": {},
   "cell_type": "code",
   "source": [
    "message = \"we love python o o o o \"\n",
    "newmessage = message.replace(\"o\", '@', 4)  # replace first 2 \n",
    "print(newmessage)"
   ],
   "id": "13bc84e70db58696",
   "outputs": [],
   "execution_count": null
  },
  {
   "metadata": {},
   "cell_type": "markdown",
   "source": "# ask user to enter a value ",
   "id": "4686cb952ad10a69"
  },
  {
   "metadata": {},
   "cell_type": "code",
   "source": [
    "num1 = input(\"please enter num1: \")\n",
    "num2 = input(\"please enter num2: \")"
   ],
   "id": "20a61923d3e2fb77",
   "outputs": [],
   "execution_count": null
  },
  {
   "metadata": {},
   "cell_type": "code",
   "source": [
    "res = num1 + num2\n",
    "print(res)"
   ],
   "id": "6a89256d67304cee",
   "outputs": [],
   "execution_count": null
  },
  {
   "metadata": {},
   "cell_type": "markdown",
   "source": "<img src=\"userinput.jpeg\" width='400' height='400'> ",
   "id": "d4aafaee5a0c3b78"
  },
  {
   "metadata": {},
   "cell_type": "code",
   "source": "",
   "id": "1f9331c00468600b",
   "outputs": [],
   "execution_count": null
  },
  {
   "metadata": {},
   "cell_type": "code",
   "source": [
    "num1 = int(input(\"please enter num1: \"))\n",
    "num2 = int(input(\"please enter num2: \"))\n",
    "res = num1 + num2\n",
    "print(res)"
   ],
   "id": "f9e3143995597d49",
   "outputs": [],
   "execution_count": null
  },
  {
   "metadata": {},
   "cell_type": "code",
   "source": [
    "num1 = input(\"please enter num1: \")\n",
    "num2 = input(\"please enter num2: \")\n",
    "if num1.isdigit() and num2.isdigit(): \n",
    "    num1 = int(num1)\n",
    "    num2 = int(num2)\n",
    "    res = num1 + num2\n",
    "    print(f\"res= {res}\")\n",
    "else:\n",
    "    print(\"please enter valid numbers .. \")"
   ],
   "id": "6b355eb910b873e9",
   "outputs": [],
   "execution_count": null
  },
  {
   "metadata": {},
   "cell_type": "markdown",
   "source": "# Alaa needs to clean the data ",
   "id": "404344295fd7e43"
  },
  {
   "metadata": {},
   "cell_type": "code",
   "source": [
    "bio= \"     My name is  noha                                               \"\n",
    "print(bio, len(bio))\n",
    "updatedbio= bio.strip()\n",
    "print(updatedbio, len(updatedbio))\n"
   ],
   "id": "121e7e1737373972",
   "outputs": [],
   "execution_count": null
  },
  {
   "metadata": {},
   "cell_type": "markdown",
   "source": "### check this ",
   "id": "d63810154d2a0d62"
  },
  {
   "metadata": {},
   "cell_type": "code",
   "source": [
    "message  = \"@        we love pyth@n                 @\"\n",
    "print(message.strip(\"n  $@\"))"
   ],
   "id": "b835246d53cf7b11",
   "outputs": [],
   "execution_count": null
  },
  {
   "metadata": {},
   "cell_type": "code",
   "source": "",
   "id": "4e607423c3e85aa7",
   "outputs": [],
   "execution_count": null
  }
 ],
 "metadata": {
  "kernelspec": {
   "display_name": "Python 3",
   "language": "python",
   "name": "python3"
  },
  "language_info": {
   "codemirror_mode": {
    "name": "ipython",
    "version": 2
   },
   "file_extension": ".py",
   "mimetype": "text/x-python",
   "name": "python",
   "nbconvert_exporter": "python",
   "pygments_lexer": "ipython2",
   "version": "2.7.6"
  }
 },
 "nbformat": 4,
 "nbformat_minor": 5
}
