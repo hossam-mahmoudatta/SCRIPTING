{
 "cells": [
  {
   "metadata": {},
   "cell_type": "markdown",
   "source": [
    "# define a list \n",
    "<h3> Lists are the most verstaile datatype in python </h3>\n",
    "<p> lists are based on sequences </p>"
   ],
   "id": "de1abc6a5d818b3c"
  },
  {
   "metadata": {},
   "cell_type": "markdown",
   "source": "<h4 style='color:red'>Define a list </h4>",
   "id": "bc2c4f3c1deef68c"
  },
  {
   "cell_type": "code",
   "id": "initial_id",
   "metadata": {
    "collapsed": true,
    "ExecuteTime": {
     "end_time": "2024-12-31T10:21:32.299927Z",
     "start_time": "2024-12-31T10:21:32.295823Z"
    }
   },
   "source": [
    "#\n",
    "l = []\n",
    "myl= list()\n",
    "print(l , myl)  # falsy value"
   ],
   "outputs": [
    {
     "name": "stdout",
     "output_type": "stream",
     "text": [
      "[] []\n"
     ]
    }
   ],
   "execution_count": 1
  },
  {
   "metadata": {
    "ExecuteTime": {
     "end_time": "2024-12-31T10:23:04.596483Z",
     "start_time": "2024-12-31T10:23:04.590802Z"
    }
   },
   "cell_type": "code",
   "source": [
    "myl= [\"Zeyad\", \"Hassan\", \"Magdy\", \"Mariam\", \"Beshoy\", 234.44, True, [\"python\", \"docker\", \"kubernates\"], None]\n",
    "print(myl)"
   ],
   "id": "6c41a02f03d7c76e",
   "outputs": [
    {
     "name": "stdout",
     "output_type": "stream",
     "text": [
      "['Zeyad', 'Hassan', 'Magdy', 'Mariam', 'Beshoy', 234.44, True, ['python', 'docker', 'kubernates'], None]\n"
     ]
    }
   ],
   "execution_count": 2
  },
  {
   "metadata": {},
   "cell_type": "markdown",
   "source": "<h3 style='color:green'>Access elements using index start from zero </h3>",
   "id": "31b779105267d366"
  },
  {
   "metadata": {
    "ExecuteTime": {
     "end_time": "2024-12-31T10:23:33.475920Z",
     "start_time": "2024-12-31T10:23:33.471125Z"
    }
   },
   "cell_type": "code",
   "source": "print(myl[3])",
   "id": "76c7f2cd851e0d59",
   "outputs": [
    {
     "name": "stdout",
     "output_type": "stream",
     "text": [
      "Mariam\n"
     ]
    }
   ],
   "execution_count": 3
  },
  {
   "metadata": {
    "ExecuteTime": {
     "end_time": "2024-12-31T10:23:46.651925Z",
     "start_time": "2024-12-31T10:23:46.646078Z"
    }
   },
   "cell_type": "code",
   "source": "print(myl[7][1])",
   "id": "49d5b42289e68614",
   "outputs": [
    {
     "name": "stdout",
     "output_type": "stream",
     "text": [
      "docker\n"
     ]
    }
   ],
   "execution_count": 4
  },
  {
   "metadata": {},
   "cell_type": "markdown",
   "source": "<h3 style='color:gree'>check if  element exist or not </h3>\n",
   "id": "2c1b4865c29e26ff"
  },
  {
   "metadata": {
    "ExecuteTime": {
     "end_time": "2024-12-31T10:24:20.459184Z",
     "start_time": "2024-12-31T10:24:20.455366Z"
    }
   },
   "cell_type": "code",
   "source": [
    "print(\"abbass\" in myl)\n",
    "print(\"docker\" in myl)"
   ],
   "id": "57d48f278c30fca9",
   "outputs": [
    {
     "name": "stdout",
     "output_type": "stream",
     "text": [
      "False\n",
      "False\n"
     ]
    }
   ],
   "execution_count": 7
  },
  {
   "metadata": {},
   "cell_type": "markdown",
   "source": "# gen len of the list",
   "id": "41439cfcf31b7f1c"
  },
  {
   "metadata": {
    "ExecuteTime": {
     "end_time": "2024-12-31T10:24:56.593600Z",
     "start_time": "2024-12-31T10:24:56.589586Z"
    }
   },
   "cell_type": "code",
   "source": "print(len(myl))",
   "id": "8ee613ca9cede6da",
   "outputs": [
    {
     "name": "stdout",
     "output_type": "stream",
     "text": [
      "9\n"
     ]
    }
   ],
   "execution_count": 8
  },
  {
   "metadata": {},
   "cell_type": "markdown",
   "source": "get count of element ",
   "id": "945f4b44f64eae77"
  },
  {
   "metadata": {
    "ExecuteTime": {
     "end_time": "2024-12-31T10:25:20.674110Z",
     "start_time": "2024-12-31T10:25:20.670460Z"
    }
   },
   "cell_type": "code",
   "source": "print(myl.count(\"Beshoy\"))",
   "id": "3e389c4f46b9633",
   "outputs": [
    {
     "name": "stdout",
     "output_type": "stream",
     "text": [
      "1\n"
     ]
    }
   ],
   "execution_count": 10
  },
  {
   "metadata": {},
   "cell_type": "markdown",
   "source": "get index of element ",
   "id": "446902f7d9384640"
  },
  {
   "metadata": {
    "ExecuteTime": {
     "end_time": "2024-12-31T10:26:25.099109Z",
     "start_time": "2024-12-31T10:26:25.050898Z"
    }
   },
   "cell_type": "code",
   "source": [
    "# if \"Ali\" in myl:\n",
    "print(myl.index('Ali')) # get first occurrence"
   ],
   "id": "d6b3711816d69564",
   "outputs": [
    {
     "ename": "ValueError",
     "evalue": "'Ali' is not in list",
     "output_type": "error",
     "traceback": [
      "\u001B[0;31m---------------------------------------------------------------------------\u001B[0m",
      "\u001B[0;31mValueError\u001B[0m                                Traceback (most recent call last)",
      "Cell \u001B[0;32mIn[13], line 2\u001B[0m\n\u001B[1;32m      1\u001B[0m \u001B[38;5;66;03m# if \"Ali\" in myl:\u001B[39;00m\n\u001B[0;32m----> 2\u001B[0m \u001B[38;5;28mprint\u001B[39m(\u001B[43mmyl\u001B[49m\u001B[38;5;241;43m.\u001B[39;49m\u001B[43mindex\u001B[49m\u001B[43m(\u001B[49m\u001B[38;5;124;43m'\u001B[39;49m\u001B[38;5;124;43mAli\u001B[39;49m\u001B[38;5;124;43m'\u001B[39;49m\u001B[43m)\u001B[49m) \u001B[38;5;66;03m# get first occurrence\u001B[39;00m\n",
      "\u001B[0;31mValueError\u001B[0m: 'Ali' is not in list"
     ]
    }
   ],
   "execution_count": 13
  },
  {
   "metadata": {
    "ExecuteTime": {
     "end_time": "2024-12-31T10:28:21.771733Z",
     "start_time": "2024-12-31T10:28:21.767209Z"
    }
   },
   "cell_type": "code",
   "source": [
    "myl= [\"Zeyad\", \"Hassan\", \"Magdy\", \"Mariam\", 'iti', \"Beshoy\", 234.44, \"iti\",True, [\"python\", \"docker\", \"kubernates\"], None, \"iti\", \"iti\"]\n",
    "\n",
    "print(myl.count(\"iti\"))\n",
    "print(myl.index('iti')) # get first occurence"
   ],
   "id": "56b1c90e81832772",
   "outputs": [
    {
     "name": "stdout",
     "output_type": "stream",
     "text": [
      "4\n",
      "4\n"
     ]
    }
   ],
   "execution_count": 16
  },
  {
   "metadata": {},
   "cell_type": "markdown",
   "source": "",
   "id": "21579fd8fc0a613b"
  },
  {
   "metadata": {},
   "cell_type": "markdown",
   "source": [
    "# loop over the list \n",
    "<img src=\"mared.jpeg\" width='200'  height='200'>"
   ],
   "id": "35a08ea6c46e93e"
  },
  {
   "metadata": {
    "ExecuteTime": {
     "end_time": "2024-12-31T10:28:49.281003Z",
     "start_time": "2024-12-31T10:28:49.276578Z"
    }
   },
   "cell_type": "code",
   "source": [
    "for mared in myl:\n",
    "    print(f\"mared {mared}\")"
   ],
   "id": "620574eb6aff9a78",
   "outputs": [
    {
     "name": "stdout",
     "output_type": "stream",
     "text": [
      "mared Zeyad\n",
      "mared Hassan\n",
      "mared Magdy\n",
      "mared Mariam\n",
      "mared iti\n",
      "mared Beshoy\n",
      "mared 234.44\n",
      "mared iti\n",
      "mared True\n",
      "mared ['python', 'docker', 'kubernates']\n",
      "mared None\n",
      "mared iti\n",
      "mared iti\n"
     ]
    }
   ],
   "execution_count": 17
  },
  {
   "metadata": {
    "ExecuteTime": {
     "end_time": "2024-12-31T10:29:03.672788Z",
     "start_time": "2024-12-31T10:29:03.667589Z"
    }
   },
   "cell_type": "code",
   "source": [
    "index = 0\n",
    "for mared in myl:\n",
    "    print(f'index= {index}, item={mared}')\n",
    "    index +=1"
   ],
   "id": "73476fec65c296d2",
   "outputs": [
    {
     "name": "stdout",
     "output_type": "stream",
     "text": [
      "index= 0, item=Zeyad\n",
      "index= 1, item=Hassan\n",
      "index= 2, item=Magdy\n",
      "index= 3, item=Mariam\n",
      "index= 4, item=iti\n",
      "index= 5, item=Beshoy\n",
      "index= 6, item=234.44\n",
      "index= 7, item=iti\n",
      "index= 8, item=True\n",
      "index= 9, item=['python', 'docker', 'kubernates']\n",
      "index= 10, item=None\n",
      "index= 11, item=iti\n",
      "index= 12, item=iti\n"
     ]
    }
   ],
   "execution_count": 18
  },
  {
   "metadata": {},
   "cell_type": "markdown",
   "source": "# enumarate  ==> works with any iterable --> need an index --> generate it ",
   "id": "68fb522c5cad0f27"
  },
  {
   "metadata": {
    "ExecuteTime": {
     "end_time": "2024-12-31T10:29:20.734634Z",
     "start_time": "2024-12-31T10:29:20.729373Z"
    }
   },
   "cell_type": "code",
   "source": [
    "indexed_list = enumerate(myl)\n",
    "print(indexed_list)\n",
    "# print(list(indexed_list))"
   ],
   "id": "36fdeae4451f71d",
   "outputs": [
    {
     "name": "stdout",
     "output_type": "stream",
     "text": [
      "<enumerate object at 0x7cd703f79300>\n"
     ]
    }
   ],
   "execution_count": 19
  },
  {
   "metadata": {
    "ExecuteTime": {
     "end_time": "2024-12-31T10:29:29.795159Z",
     "start_time": "2024-12-31T10:29:29.790700Z"
    }
   },
   "cell_type": "code",
   "source": [
    "for i , item in indexed_list:\n",
    "    print(f\"i={i}, item={item}\")"
   ],
   "id": "d268b79305bb0f4b",
   "outputs": [
    {
     "name": "stdout",
     "output_type": "stream",
     "text": [
      "i=0, item=Zeyad\n",
      "i=1, item=Hassan\n",
      "i=2, item=Magdy\n",
      "i=3, item=Mariam\n",
      "i=4, item=iti\n",
      "i=5, item=Beshoy\n",
      "i=6, item=234.44\n",
      "i=7, item=iti\n",
      "i=8, item=True\n",
      "i=9, item=['python', 'docker', 'kubernates']\n",
      "i=10, item=None\n",
      "i=11, item=iti\n",
      "i=12, item=iti\n"
     ]
    }
   ],
   "execution_count": 20
  },
  {
   "metadata": {},
   "cell_type": "code",
   "source": [
    "for i , item in indexed_list:\n",
    "    print(f\"i={i}, item={item}\")"
   ],
   "id": "4792d12f8043a37c",
   "outputs": [],
   "execution_count": null
  },
  {
   "metadata": {},
   "cell_type": "code",
   "source": [
    "for i , item in enumerate(myl):\n",
    "    print(f\"{i}:{item}\")"
   ],
   "id": "b1fdf40246f878d8",
   "outputs": [],
   "execution_count": null
  },
  {
   "metadata": {},
   "cell_type": "markdown",
   "source": "<h2 style='color:purple'>List is mutable datatype </h2>",
   "id": "c5651a8d7842f489"
  },
  {
   "metadata": {},
   "cell_type": "markdown",
   "source": "1- update value at existing index ",
   "id": "cc058454f9a41bb3"
  },
  {
   "metadata": {},
   "cell_type": "code",
   "source": "print(myl)",
   "id": "aae359f53dd03c9b",
   "outputs": [],
   "execution_count": null
  },
  {
   "metadata": {
    "ExecuteTime": {
     "end_time": "2024-12-31T10:36:15.161529Z",
     "start_time": "2024-12-31T10:36:15.157070Z"
    }
   },
   "cell_type": "code",
   "source": [
    "myl[3]=\"Abdelrahman\"\n",
    "print(myl)"
   ],
   "id": "abe6b5df422d52e3",
   "outputs": [
    {
     "name": "stdout",
     "output_type": "stream",
     "text": [
      "['Zeyad', 'Hassan', 'Magdy', 'Abdelrahman', 'iti', 'Beshoy', 234.44, 'iti', True, ['python', 'docker', 'kubernates'], None, 'iti', 'iti']\n"
     ]
    }
   ],
   "execution_count": 21
  },
  {
   "metadata": {
    "ExecuteTime": {
     "end_time": "2024-12-31T10:36:31.386316Z",
     "start_time": "2024-12-31T10:36:31.367500Z"
    }
   },
   "cell_type": "code",
   "source": "myl[300]='abbass'",
   "id": "219035c110ae8fe7",
   "outputs": [
    {
     "ename": "IndexError",
     "evalue": "list assignment index out of range",
     "output_type": "error",
     "traceback": [
      "\u001B[0;31m---------------------------------------------------------------------------\u001B[0m",
      "\u001B[0;31mIndexError\u001B[0m                                Traceback (most recent call last)",
      "Cell \u001B[0;32mIn[22], line 1\u001B[0m\n\u001B[0;32m----> 1\u001B[0m \u001B[43mmyl\u001B[49m\u001B[43m[\u001B[49m\u001B[38;5;241;43m300\u001B[39;49m\u001B[43m]\u001B[49m\u001B[38;5;241m=\u001B[39m\u001B[38;5;124m'\u001B[39m\u001B[38;5;124mabbass\u001B[39m\u001B[38;5;124m'\u001B[39m\n",
      "\u001B[0;31mIndexError\u001B[0m: list assignment index out of range"
     ]
    }
   ],
   "execution_count": 22
  },
  {
   "metadata": {},
   "cell_type": "markdown",
   "source": "# add element to the list ",
   "id": "5fcb9d2c32c4638"
  },
  {
   "metadata": {
    "ExecuteTime": {
     "end_time": "2024-12-31T10:36:53.467786Z",
     "start_time": "2024-12-31T10:36:53.463065Z"
    }
   },
   "cell_type": "code",
   "source": [
    "# 1- append \n",
    "myl.append(\"new item\")\n",
    "print(myl)"
   ],
   "id": "93749cdbac0ecad3",
   "outputs": [
    {
     "name": "stdout",
     "output_type": "stream",
     "text": [
      "['Zeyad', 'Hassan', 'Magdy', 'Abdelrahman', 'iti', 'Beshoy', 234.44, 'iti', True, ['python', 'docker', 'kubernates'], None, 'iti', 'iti', 'new item']\n"
     ]
    }
   ],
   "execution_count": 23
  },
  {
   "metadata": {
    "ExecuteTime": {
     "end_time": "2024-12-31T10:37:03.298375Z",
     "start_time": "2024-12-31T10:37:03.294704Z"
    }
   },
   "cell_type": "code",
   "source": [
    "# insert at specific index \n",
    "myl.insert(5, \"inserted element\")\n",
    "print(myl)"
   ],
   "id": "47a425d9601d2ec0",
   "outputs": [
    {
     "name": "stdout",
     "output_type": "stream",
     "text": [
      "['Zeyad', 'Hassan', 'Magdy', 'Abdelrahman', 'iti', 'inserted element', 'Beshoy', 234.44, 'iti', True, ['python', 'docker', 'kubernates'], None, 'iti', 'iti', 'new item']\n"
     ]
    }
   ],
   "execution_count": 24
  },
  {
   "metadata": {
    "ExecuteTime": {
     "end_time": "2024-12-31T10:37:32.044001Z",
     "start_time": "2024-12-31T10:37:32.039526Z"
    }
   },
   "cell_type": "code",
   "source": "myl.insert(300, \"Hossam\")",
   "id": "dcdf4f366ff93a5e",
   "outputs": [],
   "execution_count": 25
  },
  {
   "metadata": {},
   "cell_type": "markdown",
   "source": "slicing the list ",
   "id": "d4e8d372124f1db9"
  },
  {
   "metadata": {
    "ExecuteTime": {
     "end_time": "2024-12-31T10:38:29.880094Z",
     "start_time": "2024-12-31T10:38:29.873927Z"
    }
   },
   "cell_type": "code",
   "source": "print(myl[4:])",
   "id": "3eb799ba735fb07b",
   "outputs": [
    {
     "name": "stdout",
     "output_type": "stream",
     "text": [
      "['iti', 'inserted element', 'Beshoy', 234.44, 'iti', True, ['python', 'docker', 'kubernates'], None, 'iti', 'iti', 'new item', 'Hossam']\n"
     ]
    }
   ],
   "execution_count": 26
  },
  {
   "metadata": {
    "ExecuteTime": {
     "end_time": "2024-12-31T10:38:31.678999Z",
     "start_time": "2024-12-31T10:38:31.672860Z"
    }
   },
   "cell_type": "code",
   "source": "print(myl[::-1])",
   "id": "37a0a76fa73f856c",
   "outputs": [
    {
     "name": "stdout",
     "output_type": "stream",
     "text": [
      "['Hossam', 'new item', 'iti', 'iti', None, ['python', 'docker', 'kubernates'], True, 'iti', 234.44, 'Beshoy', 'inserted element', 'iti', 'Abdelrahman', 'Magdy', 'Hassan', 'Zeyad']\n"
     ]
    }
   ],
   "execution_count": 27
  },
  {
   "metadata": {},
   "cell_type": "markdown",
   "source": "# remove element from the list ",
   "id": "b2fd1c22baf2e368"
  },
  {
   "metadata": {
    "ExecuteTime": {
     "end_time": "2024-12-31T10:38:38.985120Z",
     "start_time": "2024-12-31T10:38:38.981161Z"
    }
   },
   "cell_type": "code",
   "source": [
    "# pop the element \n",
    "print(myl)\n",
    "popped_element=myl.pop()\n",
    "print(myl)"
   ],
   "id": "d5f392a3ec28ffae",
   "outputs": [
    {
     "name": "stdout",
     "output_type": "stream",
     "text": [
      "['Zeyad', 'Hassan', 'Magdy', 'Abdelrahman', 'iti', 'inserted element', 'Beshoy', 234.44, 'iti', True, ['python', 'docker', 'kubernates'], None, 'iti', 'iti', 'new item', 'Hossam']\n",
      "['Zeyad', 'Hassan', 'Magdy', 'Abdelrahman', 'iti', 'inserted element', 'Beshoy', 234.44, 'iti', True, ['python', 'docker', 'kubernates'], None, 'iti', 'iti', 'new item']\n"
     ]
    }
   ],
   "execution_count": 28
  },
  {
   "metadata": {
    "ExecuteTime": {
     "end_time": "2024-12-31T10:38:46.625350Z",
     "start_time": "2024-12-31T10:38:46.620872Z"
    }
   },
   "cell_type": "code",
   "source": "print(popped_element)",
   "id": "b928e98bb5c93e39",
   "outputs": [
    {
     "name": "stdout",
     "output_type": "stream",
     "text": [
      "Hossam\n"
     ]
    }
   ],
   "execution_count": 29
  },
  {
   "metadata": {
    "ExecuteTime": {
     "end_time": "2024-12-31T10:38:55.035846Z",
     "start_time": "2024-12-31T10:38:55.031589Z"
    }
   },
   "cell_type": "code",
   "source": [
    "# pop element at specific index ??\n",
    "popped_element2= myl.pop(5)\n",
    "print(popped_element2)\n",
    "print(myl)"
   ],
   "id": "53c7679e8594e1fc",
   "outputs": [
    {
     "name": "stdout",
     "output_type": "stream",
     "text": [
      "inserted element\n",
      "['Zeyad', 'Hassan', 'Magdy', 'Abdelrahman', 'iti', 'Beshoy', 234.44, 'iti', True, ['python', 'docker', 'kubernates'], None, 'iti', 'iti', 'new item']\n"
     ]
    }
   ],
   "execution_count": 30
  },
  {
   "metadata": {},
   "cell_type": "markdown",
   "source": "I need to remove the element",
   "id": "451436c887015183"
  },
  {
   "metadata": {
    "ExecuteTime": {
     "end_time": "2024-12-31T10:39:08.973076Z",
     "start_time": "2024-12-31T10:39:08.965657Z"
    }
   },
   "cell_type": "code",
   "source": [
    "print(myl.remove(\"iti\")) # remove first occurrence\n",
    "print(myl)"
   ],
   "id": "6e22588a7b88aba8",
   "outputs": [
    {
     "name": "stdout",
     "output_type": "stream",
     "text": [
      "None\n",
      "['Zeyad', 'Hassan', 'Magdy', 'Abdelrahman', 'Beshoy', 234.44, 'iti', True, ['python', 'docker', 'kubernates'], None, 'iti', 'iti', 'new item']\n"
     ]
    }
   ],
   "execution_count": 31
  },
  {
   "metadata": {},
   "cell_type": "markdown",
   "source": "# concat the list ",
   "id": "d2d99cc958ae154b"
  },
  {
   "metadata": {
    "ExecuteTime": {
     "end_time": "2024-12-31T10:39:27.155568Z",
     "start_time": "2024-12-31T10:39:27.137408Z"
    }
   },
   "cell_type": "code",
   "source": [
    "l1  = ['linux', 'python', 'c', 'c++']\n",
    "l2 = ['linear algebra', 'probaility','ml', 'dl' ]\n",
    "list_of_courses=  l1 + l2 \n",
    "print(list_of_courses)"
   ],
   "id": "40c51cfad17567da",
   "outputs": [
    {
     "name": "stdout",
     "output_type": "stream",
     "text": [
      "['linux', 'python', 'c', 'c++', 'linear algebra', 'probaility', 'ml', 'dl']\n"
     ]
    }
   ],
   "execution_count": 32
  },
  {
   "metadata": {
    "ExecuteTime": {
     "end_time": "2024-12-31T10:39:36.960728Z",
     "start_time": "2024-12-31T10:39:36.956075Z"
    }
   },
   "cell_type": "code",
   "source": [
    "# extend a list ?\n",
    "l1.extend(l2)  # modify l1 content\n",
    "\n",
    "print(l1)\n",
    "print(l2)"
   ],
   "id": "72e4414776801e99",
   "outputs": [
    {
     "name": "stdout",
     "output_type": "stream",
     "text": [
      "['linux', 'python', 'c', 'c++', 'linear algebra', 'probaility', 'ml', 'dl']\n",
      "['linear algebra', 'probaility', 'ml', 'dl']\n"
     ]
    }
   ],
   "execution_count": 33
  },
  {
   "metadata": {},
   "cell_type": "markdown",
   "source": "",
   "id": "d1b3cafacbe2f19c"
  },
  {
   "metadata": {},
   "cell_type": "markdown",
   "source": "# sorting the list ??",
   "id": "a4720f90a7fa09f"
  },
  {
   "metadata": {
    "ExecuteTime": {
     "end_time": "2024-12-31T10:40:37.156541Z",
     "start_time": "2024-12-31T10:40:37.149643Z"
    }
   },
   "cell_type": "code",
   "source": [
    "l1.sort() # sort elements and save it in the current variable\n",
    "# all elements must be from the same datatype\n",
    "# sorting asc\n",
    "print(l1)"
   ],
   "id": "f020f1ebe95ea47c",
   "outputs": [
    {
     "name": "stdout",
     "output_type": "stream",
     "text": [
      "['c', 'c++', 'dl', 'linear algebra', 'linux', 'ml', 'probaility', 'python']\n"
     ]
    }
   ],
   "execution_count": 35
  },
  {
   "metadata": {
    "ExecuteTime": {
     "end_time": "2024-12-31T10:40:43.964499Z",
     "start_time": "2024-12-31T10:40:43.957705Z"
    }
   },
   "cell_type": "code",
   "source": [
    "l1.sort(reverse=True)\n",
    "print(l1)"
   ],
   "id": "280a3efec78a99fe",
   "outputs": [
    {
     "name": "stdout",
     "output_type": "stream",
     "text": [
      "['python', 'probaility', 'ml', 'linux', 'linear algebra', 'dl', 'c++', 'c']\n"
     ]
    }
   ],
   "execution_count": 36
  },
  {
   "metadata": {},
   "cell_type": "markdown",
   "source": "# reverse ",
   "id": "5671fde740a2c2be"
  },
  {
   "metadata": {
    "ExecuteTime": {
     "end_time": "2024-12-31T10:40:57.709688Z",
     "start_time": "2024-12-31T10:40:57.702658Z"
    }
   },
   "cell_type": "code",
   "source": [
    "print(myl)\n",
    "myl.reverse()\n",
    "print(myl)"
   ],
   "id": "48d187a3ed1f1fe8",
   "outputs": [
    {
     "name": "stdout",
     "output_type": "stream",
     "text": [
      "['Zeyad', 'Hassan', 'Magdy', 'Abdelrahman', 'Beshoy', 234.44, 'iti', True, ['python', 'docker', 'kubernates'], None, 'iti', 'iti', 'new item']\n",
      "['new item', 'iti', 'iti', None, ['python', 'docker', 'kubernates'], True, 'iti', 234.44, 'Beshoy', 'Abdelrahman', 'Magdy', 'Hassan', 'Zeyad']\n"
     ]
    }
   ],
   "execution_count": 37
  },
  {
   "metadata": {
    "ExecuteTime": {
     "end_time": "2024-12-31T10:41:08.895833Z",
     "start_time": "2024-12-31T10:41:08.890862Z"
    }
   },
   "cell_type": "code",
   "source": [
    "nums = [3,4356,23,5,-10, 21]\n",
    "print(max(nums))\n",
    "print(min(nums))\n",
    "print(sum(nums))  # sum with list items numbers only"
   ],
   "id": "64885baab2c636bc",
   "outputs": [
    {
     "name": "stdout",
     "output_type": "stream",
     "text": [
      "4356\n",
      "-10\n",
      "4398\n"
     ]
    }
   ],
   "execution_count": 38
  },
  {
   "metadata": {
    "ExecuteTime": {
     "end_time": "2024-12-31T10:41:35.922081Z",
     "start_time": "2024-12-31T10:41:35.900342Z"
    }
   },
   "cell_type": "code",
   "source": [
    "ss = [24, \"424\", 24343]\n",
    "print(sum(ss))"
   ],
   "id": "53c2e1c7a6d63013",
   "outputs": [
    {
     "ename": "TypeError",
     "evalue": "unsupported operand type(s) for +: 'int' and 'str'",
     "output_type": "error",
     "traceback": [
      "\u001B[0;31m---------------------------------------------------------------------------\u001B[0m",
      "\u001B[0;31mTypeError\u001B[0m                                 Traceback (most recent call last)",
      "Cell \u001B[0;32mIn[39], line 2\u001B[0m\n\u001B[1;32m      1\u001B[0m ss \u001B[38;5;241m=\u001B[39m [\u001B[38;5;241m24\u001B[39m, \u001B[38;5;124m\"\u001B[39m\u001B[38;5;124m424\u001B[39m\u001B[38;5;124m\"\u001B[39m, \u001B[38;5;241m24343\u001B[39m]\n\u001B[0;32m----> 2\u001B[0m \u001B[38;5;28mprint\u001B[39m(\u001B[38;5;28;43msum\u001B[39;49m\u001B[43m(\u001B[49m\u001B[43mss\u001B[49m\u001B[43m)\u001B[49m)\n",
      "\u001B[0;31mTypeError\u001B[0m: unsupported operand type(s) for +: 'int' and 'str'"
     ]
    }
   ],
   "execution_count": 39
  },
  {
   "metadata": {
    "ExecuteTime": {
     "end_time": "2024-12-31T10:41:39.992894Z",
     "start_time": "2024-12-31T10:41:39.942215Z"
    }
   },
   "cell_type": "code",
   "source": "print(sum(['a', \"ds\", 'fdfdf']))",
   "id": "6a0a2f6379295a6d",
   "outputs": [
    {
     "ename": "TypeError",
     "evalue": "unsupported operand type(s) for +: 'int' and 'str'",
     "output_type": "error",
     "traceback": [
      "\u001B[0;31m---------------------------------------------------------------------------\u001B[0m",
      "\u001B[0;31mTypeError\u001B[0m                                 Traceback (most recent call last)",
      "Cell \u001B[0;32mIn[40], line 1\u001B[0m\n\u001B[0;32m----> 1\u001B[0m \u001B[38;5;28mprint\u001B[39m(\u001B[38;5;28;43msum\u001B[39;49m\u001B[43m(\u001B[49m\u001B[43m[\u001B[49m\u001B[38;5;124;43m'\u001B[39;49m\u001B[38;5;124;43ma\u001B[39;49m\u001B[38;5;124;43m'\u001B[39;49m\u001B[43m,\u001B[49m\u001B[43m \u001B[49m\u001B[38;5;124;43m\"\u001B[39;49m\u001B[38;5;124;43mds\u001B[39;49m\u001B[38;5;124;43m\"\u001B[39;49m\u001B[43m,\u001B[49m\u001B[43m \u001B[49m\u001B[38;5;124;43m'\u001B[39;49m\u001B[38;5;124;43mfdfdf\u001B[39;49m\u001B[38;5;124;43m'\u001B[39;49m\u001B[43m]\u001B[49m\u001B[43m)\u001B[49m)\n",
      "\u001B[0;31mTypeError\u001B[0m: unsupported operand type(s) for +: 'int' and 'str'"
     ]
    }
   ],
   "execution_count": 40
  },
  {
   "metadata": {},
   "cell_type": "code",
   "source": "",
   "id": "10efad1ec70ffc9c",
   "outputs": [],
   "execution_count": null
  }
 ],
 "metadata": {
  "kernelspec": {
   "display_name": "Python 3",
   "language": "python",
   "name": "python3"
  },
  "language_info": {
   "codemirror_mode": {
    "name": "ipython",
    "version": 2
   },
   "file_extension": ".py",
   "mimetype": "text/x-python",
   "name": "python",
   "nbconvert_exporter": "python",
   "pygments_lexer": "ipython2",
   "version": "2.7.6"
  }
 },
 "nbformat": 4,
 "nbformat_minor": 5
}
