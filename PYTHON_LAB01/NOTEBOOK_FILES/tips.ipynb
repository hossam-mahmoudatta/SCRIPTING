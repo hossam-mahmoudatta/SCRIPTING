{
 "cells": [
  {
   "cell_type": "code",
   "id": "initial_id",
   "metadata": {
    "collapsed": true,
    "ExecuteTime": {
     "end_time": "2024-12-31T10:44:30.782360Z",
     "start_time": "2024-12-31T10:44:30.778051Z"
    }
   },
   "source": [
    "# range\n",
    "# generate list with nums from 1 to 10\n",
    "\n",
    "l= []\n",
    "num = 1\n",
    "while num <= 10:\n",
    "    l.append(num)\n",
    "    num += 1\n",
    "print(l)"
   ],
   "outputs": [
    {
     "name": "stdout",
     "output_type": "stream",
     "text": [
      "[1, 2, 3, 4, 5, 6, 7, 8, 9, 10]\n"
     ]
    }
   ],
   "execution_count": 1
  },
  {
   "metadata": {
    "ExecuteTime": {
     "end_time": "2024-12-31T10:45:19.608400Z",
     "start_time": "2024-12-31T10:45:19.596575Z"
    }
   },
   "cell_type": "code",
   "source": [
    "# range ???\n",
    "\n",
    "myr = range(10)\n",
    "print(myr)"
   ],
   "id": "e50e9e7e4ef833c9",
   "outputs": [
    {
     "name": "stdout",
     "output_type": "stream",
     "text": [
      "range(0, 10)\n"
     ]
    }
   ],
   "execution_count": 2
  },
  {
   "metadata": {
    "ExecuteTime": {
     "end_time": "2024-12-31T10:45:33.579659Z",
     "start_time": "2024-12-31T10:45:33.575214Z"
    }
   },
   "cell_type": "code",
   "source": "print(list(myr))",
   "id": "93121dcdaea90fba",
   "outputs": [
    {
     "name": "stdout",
     "output_type": "stream",
     "text": [
      "[0, 1, 2, 3, 4, 5, 6, 7, 8, 9]\n"
     ]
    }
   ],
   "execution_count": 3
  },
  {
   "metadata": {
    "ExecuteTime": {
     "end_time": "2024-12-31T10:45:54.939655Z",
     "start_time": "2024-12-31T10:45:54.923023Z"
    }
   },
   "cell_type": "code",
   "source": [
    "myr2 =range(1,11)\n",
    "print(list(myr2))"
   ],
   "id": "79c68cb89d096d50",
   "outputs": [
    {
     "name": "stdout",
     "output_type": "stream",
     "text": [
      "[1, 2, 3, 4, 5, 6, 7, 8, 9, 10]\n"
     ]
    }
   ],
   "execution_count": 4
  },
  {
   "metadata": {
    "ExecuteTime": {
     "end_time": "2024-12-31T10:46:09.066066Z",
     "start_time": "2024-12-31T10:46:09.062Z"
    }
   },
   "cell_type": "code",
   "source": [
    "myr2 =range(1,11, 2)\n",
    "print(list(myr2))"
   ],
   "id": "99eaf70da62dd44b",
   "outputs": [
    {
     "name": "stdout",
     "output_type": "stream",
     "text": [
      "[1, 3, 5, 7, 9]\n"
     ]
    }
   ],
   "execution_count": 5
  },
  {
   "metadata": {
    "ExecuteTime": {
     "end_time": "2024-12-31T10:46:24.366881Z",
     "start_time": "2024-12-31T10:46:24.362531Z"
    }
   },
   "cell_type": "code",
   "source": [
    "myr2 =range(1,11, -1)\n",
    "print(list(myr2))"
   ],
   "id": "6e848394a5ca0799",
   "outputs": [
    {
     "name": "stdout",
     "output_type": "stream",
     "text": [
      "[]\n"
     ]
    }
   ],
   "execution_count": 6
  },
  {
   "metadata": {
    "ExecuteTime": {
     "end_time": "2024-12-31T10:46:44.093257Z",
     "start_time": "2024-12-31T10:46:44.086917Z"
    }
   },
   "cell_type": "code",
   "source": [
    "myr2 =range(11,1, -1)\n",
    "print(list(myr2))"
   ],
   "id": "4a3e95b33ba8617d",
   "outputs": [
    {
     "name": "stdout",
     "output_type": "stream",
     "text": [
      "[11, 10, 9, 8, 7, 6, 5, 4, 3, 2]\n"
     ]
    }
   ],
   "execution_count": 7
  },
  {
   "metadata": {
    "ExecuteTime": {
     "end_time": "2024-12-31T10:47:17.686850Z",
     "start_time": "2024-12-31T10:47:17.669619Z"
    }
   },
   "cell_type": "code",
   "source": [
    "# range is iterable object\n",
    "for num in range(1, 100, 10):\n",
    "    print(f'num = {num}')"
   ],
   "id": "42cfd817e1ef3a96",
   "outputs": [
    {
     "name": "stdout",
     "output_type": "stream",
     "text": [
      "num = 1\n",
      "num = 11\n",
      "num = 21\n",
      "num = 31\n",
      "num = 41\n",
      "num = 51\n",
      "num = 61\n",
      "num = 71\n",
      "num = 81\n",
      "num = 91\n"
     ]
    }
   ],
   "execution_count": 8
  },
  {
   "metadata": {},
   "cell_type": "code",
   "outputs": [],
   "execution_count": null,
   "source": "",
   "id": "de4d49e9b565818"
  }
 ],
 "metadata": {
  "kernelspec": {
   "display_name": "Python 3",
   "language": "python",
   "name": "python3"
  },
  "language_info": {
   "codemirror_mode": {
    "name": "ipython",
    "version": 2
   },
   "file_extension": ".py",
   "mimetype": "text/x-python",
   "name": "python",
   "nbconvert_exporter": "python",
   "pygments_lexer": "ipython2",
   "version": "2.7.6"
  }
 },
 "nbformat": 4,
 "nbformat_minor": 5
}
