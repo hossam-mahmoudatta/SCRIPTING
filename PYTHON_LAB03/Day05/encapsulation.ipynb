{
 "cells": [
  {
   "cell_type": "code",
   "id": "initial_id",
   "metadata": {
    "collapsed": true,
    "ExecuteTime": {
     "end_time": "2025-01-05T07:51:11.669018Z",
     "start_time": "2025-01-05T07:51:11.664607Z"
    }
   },
   "source": "print(\"hello world\")",
   "outputs": [
    {
     "name": "stdout",
     "output_type": "stream",
     "text": [
      "hello world\n"
     ]
    }
   ],
   "execution_count": 1
  },
  {
   "metadata": {},
   "cell_type": "code",
   "outputs": [],
   "execution_count": null,
   "source": "",
   "id": "44d5d37d831f956d"
  },
  {
   "metadata": {},
   "cell_type": "markdown",
   "source": [
    "<h2 style=\"color:red; text-align:center\"> Access modifiers </h2>\n",
    "<p>\n",
    "    variable/ function name start chars  [a-z] ===> public\n",
    "    variable/ function name start chars  [_]===> protected\n",
    "    variable/ function name start chars  [__] ===> private\n",
    "</p>"
   ],
   "id": "da70e19e02e7abc6"
  },
  {
   "metadata": {
    "ExecuteTime": {
     "end_time": "2025-01-05T08:08:35.942967Z",
     "start_time": "2025-01-05T08:08:35.935276Z"
    }
   },
   "cell_type": "code",
   "source": [
    "class Employee:\n",
    "    def __init__(self, name, email , salary):\n",
    "        self.name = name # public\n",
    "        self._email= email  # protected\n",
    "        self.__salary= salary # private\n",
    "\n",
    "emp =  Employee(\"Abdelrahman\", 'abdelrahman@gmail.com', 10000)\n",
    "print(emp)"
   ],
   "id": "5a35fcaa86b64ee9",
   "outputs": [
    {
     "name": "stdout",
     "output_type": "stream",
     "text": [
      "<__main__.Employee object at 0x7d472535f800>\n"
     ]
    }
   ],
   "execution_count": 2
  },
  {
   "metadata": {},
   "cell_type": "markdown",
   "source": "",
   "id": "9ace26f77226ae21"
  },
  {
   "metadata": {
    "ExecuteTime": {
     "end_time": "2025-01-05T08:10:35.404552Z",
     "start_time": "2025-01-05T08:10:35.400290Z"
    }
   },
   "cell_type": "code",
   "source": [
    "emp.name= \"Abdelrahman Khaled\"\n",
    "print(emp.name)"
   ],
   "id": "870db0c7066f8f5f",
   "outputs": [
    {
     "name": "stdout",
     "output_type": "stream",
     "text": [
      "Abdelrahman Khaled\n"
     ]
    }
   ],
   "execution_count": 3
  },
  {
   "metadata": {
    "ExecuteTime": {
     "end_time": "2025-01-05T08:11:00.519840Z",
     "start_time": "2025-01-05T08:11:00.514021Z"
    }
   },
   "cell_type": "code",
   "source": "print(emp._email)  # no access modifiers --> ethically don't do this",
   "id": "65c25ae9ff335234",
   "outputs": [
    {
     "name": "stdout",
     "output_type": "stream",
     "text": [
      "abdelrahman@gmail.com\n"
     ]
    }
   ],
   "execution_count": 4
  },
  {
   "metadata": {
    "ExecuteTime": {
     "end_time": "2025-01-05T08:11:37.264513Z",
     "start_time": "2025-01-05T08:11:37.259454Z"
    }
   },
   "cell_type": "code",
   "source": [
    "emp._email = \"updated@gmail.com\"\n",
    "print(emp._email)"
   ],
   "id": "61a622725c0d8c0c",
   "outputs": [
    {
     "name": "stdout",
     "output_type": "stream",
     "text": [
      "updated@gmail.com\n"
     ]
    }
   ],
   "execution_count": 5
  },
  {
   "metadata": {},
   "cell_type": "code",
   "outputs": [],
   "execution_count": null,
   "source": "",
   "id": "3038ef5a01ea0372"
  },
  {
   "metadata": {},
   "cell_type": "markdown",
   "source": "<h2 style='color:yellow'>What about private? </h2>",
   "id": "70cc307115f8e406"
  },
  {
   "metadata": {
    "ExecuteTime": {
     "end_time": "2025-01-05T08:15:29.586799Z",
     "start_time": "2025-01-05T08:15:29.347576Z"
    }
   },
   "cell_type": "code",
   "source": "print(emp.__salary)",
   "id": "5bc356d5498d2d0b",
   "outputs": [
    {
     "ename": "AttributeError",
     "evalue": "'Employee' object has no attribute '__salary'",
     "output_type": "error",
     "traceback": [
      "\u001B[0;31m---------------------------------------------------------------------------\u001B[0m",
      "\u001B[0;31mAttributeError\u001B[0m                            Traceback (most recent call last)",
      "Cell \u001B[0;32mIn[6], line 1\u001B[0m\n\u001B[0;32m----> 1\u001B[0m \u001B[38;5;28mprint\u001B[39m(\u001B[43memp\u001B[49m\u001B[38;5;241;43m.\u001B[39;49m\u001B[43m__salary\u001B[49m)\n",
      "\u001B[0;31mAttributeError\u001B[0m: 'Employee' object has no attribute '__salary'"
     ]
    }
   ],
   "execution_count": 6
  },
  {
   "metadata": {
    "ExecuteTime": {
     "end_time": "2025-01-05T08:15:53.035733Z",
     "start_time": "2025-01-05T08:15:52.974277Z"
    }
   },
   "cell_type": "code",
   "source": "print(emp.city)",
   "id": "334c4f3955bf3113",
   "outputs": [
    {
     "ename": "AttributeError",
     "evalue": "'Employee' object has no attribute 'city'",
     "output_type": "error",
     "traceback": [
      "\u001B[0;31m---------------------------------------------------------------------------\u001B[0m",
      "\u001B[0;31mAttributeError\u001B[0m                            Traceback (most recent call last)",
      "Cell \u001B[0;32mIn[7], line 1\u001B[0m\n\u001B[0;32m----> 1\u001B[0m \u001B[38;5;28mprint\u001B[39m(\u001B[43memp\u001B[49m\u001B[38;5;241;43m.\u001B[39;49m\u001B[43mcity\u001B[49m)\n",
      "\u001B[0;31mAttributeError\u001B[0m: 'Employee' object has no attribute 'city'"
     ]
    }
   ],
   "execution_count": 7
  },
  {
   "metadata": {
    "ExecuteTime": {
     "end_time": "2025-01-05T08:16:33.370852Z",
     "start_time": "2025-01-05T08:16:33.365412Z"
    }
   },
   "cell_type": "code",
   "source": "print(emp.__dict__)",
   "id": "d341b6f380d13da4",
   "outputs": [
    {
     "name": "stdout",
     "output_type": "stream",
     "text": [
      "{'name': 'Abdelrahman Khaled', '_email': 'updated@gmail.com', '_Employee__salary': 10000}\n"
     ]
    }
   ],
   "execution_count": 8
  },
  {
   "metadata": {
    "ExecuteTime": {
     "end_time": "2025-01-05T08:17:15.916129Z",
     "start_time": "2025-01-05T08:17:15.906210Z"
    }
   },
   "cell_type": "code",
   "source": "print(emp._Employee__salary)  # ethically don't do this",
   "id": "4f1985a274f6b072",
   "outputs": [
    {
     "name": "stdout",
     "output_type": "stream",
     "text": [
      "10000\n"
     ]
    }
   ],
   "execution_count": 9
  },
  {
   "metadata": {},
   "cell_type": "code",
   "outputs": [],
   "execution_count": null,
   "source": "",
   "id": "c7ce8912063f6ecc"
  },
  {
   "metadata": {},
   "cell_type": "markdown",
   "source": "<h1 style='color:orange; text-align:center'> setters and getters </h1>",
   "id": "c82228f90c8c59d9"
  },
  {
   "metadata": {
    "ExecuteTime": {
     "end_time": "2025-01-05T08:22:34.438048Z",
     "start_time": "2025-01-05T08:22:34.429495Z"
    }
   },
   "cell_type": "code",
   "source": [
    "class Employee:\n",
    "    def __init__(self, name, email , salary):\n",
    "        self.name = name # public\n",
    "        self._email= email  # protected\n",
    "        self.__salary= salary # private\n",
    "\n",
    "    def setSalary(self, salary):\n",
    "        if isinstance(salary, int) or isinstance(salary, float):\n",
    "            self.__salary = salary\n",
    "        else:\n",
    "            raise TypeError(\"Salary must integer or float.\")\n",
    "\n",
    "    def getSalary(self):\n",
    "        return self.__salary\n",
    "\n",
    "emp = Employee(\"Ahmed\", \"ahmed@gmail.com\", 1000)\n",
    "print(emp.getSalary())"
   ],
   "id": "7763ba5263928973",
   "outputs": [
    {
     "name": "stdout",
     "output_type": "stream",
     "text": [
      "1000\n"
     ]
    }
   ],
   "execution_count": 10
  },
  {
   "metadata": {
    "ExecuteTime": {
     "end_time": "2025-01-05T08:22:45.843397Z",
     "start_time": "2025-01-05T08:22:45.839393Z"
    }
   },
   "cell_type": "code",
   "source": "emp.setSalary(211)",
   "id": "93b5635eb88ad89f",
   "outputs": [],
   "execution_count": 11
  },
  {
   "metadata": {
    "ExecuteTime": {
     "end_time": "2025-01-05T08:22:57.350841Z",
     "start_time": "2025-01-05T08:22:57.316321Z"
    }
   },
   "cell_type": "code",
   "source": "emp.setSalary(\"eqwqe\")",
   "id": "33e99d69914a78b",
   "outputs": [
    {
     "ename": "TypeError",
     "evalue": "Salary must integer or float.",
     "output_type": "error",
     "traceback": [
      "\u001B[0;31m---------------------------------------------------------------------------\u001B[0m",
      "\u001B[0;31mTypeError\u001B[0m                                 Traceback (most recent call last)",
      "Cell \u001B[0;32mIn[12], line 1\u001B[0m\n\u001B[0;32m----> 1\u001B[0m \u001B[43memp\u001B[49m\u001B[38;5;241;43m.\u001B[39;49m\u001B[43msetSalary\u001B[49m\u001B[43m(\u001B[49m\u001B[38;5;124;43m\"\u001B[39;49m\u001B[38;5;124;43meqwqe\u001B[39;49m\u001B[38;5;124;43m\"\u001B[39;49m\u001B[43m)\u001B[49m\n",
      "Cell \u001B[0;32mIn[10], line 11\u001B[0m, in \u001B[0;36mEmployee.setSalary\u001B[0;34m(self, salary)\u001B[0m\n\u001B[1;32m      9\u001B[0m     \u001B[38;5;28mself\u001B[39m\u001B[38;5;241m.\u001B[39m__salary \u001B[38;5;241m=\u001B[39m salary\n\u001B[1;32m     10\u001B[0m \u001B[38;5;28;01melse\u001B[39;00m:\n\u001B[0;32m---> 11\u001B[0m     \u001B[38;5;28;01mraise\u001B[39;00m \u001B[38;5;167;01mTypeError\u001B[39;00m(\u001B[38;5;124m\"\u001B[39m\u001B[38;5;124mSalary must integer or float.\u001B[39m\u001B[38;5;124m\"\u001B[39m)\n",
      "\u001B[0;31mTypeError\u001B[0m: Salary must integer or float."
     ]
    }
   ],
   "execution_count": 12
  },
  {
   "metadata": {
    "ExecuteTime": {
     "end_time": "2025-01-05T08:24:40.736814Z",
     "start_time": "2025-01-05T08:24:40.695256Z"
    }
   },
   "cell_type": "code",
   "source": [
    "class Employee:\n",
    "    def __init__(self, name, email , salary):\n",
    "        self.name = name # public\n",
    "        self._email= email  # protected\n",
    "        if isinstance(salary, int) or isinstance(salary, float):\n",
    "            self.__salary = salary\n",
    "        else:\n",
    "            raise TypeError(\"Salary must integer or float.\")\n",
    "\n",
    "\n",
    "    def setSalary(self, salary):\n",
    "        if isinstance(salary, int) or isinstance(salary, float):\n",
    "            self.__salary = salary\n",
    "        else:\n",
    "            raise TypeError(\"Salary must integer or float.\")\n",
    "\n",
    "    def getSalary(self):\n",
    "        return self.__salary\n",
    "\n",
    "emp = Employee(\"Ahmed\", \"ahmed@gmail.com\", \"1000\")\n",
    "print(emp.getSalary())"
   ],
   "id": "5561dd50aedc5cac",
   "outputs": [
    {
     "ename": "TypeError",
     "evalue": "Salary must integer or float.",
     "output_type": "error",
     "traceback": [
      "\u001B[0;31m---------------------------------------------------------------------------\u001B[0m",
      "\u001B[0;31mTypeError\u001B[0m                                 Traceback (most recent call last)",
      "Cell \u001B[0;32mIn[13], line 20\u001B[0m\n\u001B[1;32m     17\u001B[0m     \u001B[38;5;28;01mdef\u001B[39;00m \u001B[38;5;21mgetSalary\u001B[39m(\u001B[38;5;28mself\u001B[39m):\n\u001B[1;32m     18\u001B[0m         \u001B[38;5;28;01mreturn\u001B[39;00m \u001B[38;5;28mself\u001B[39m\u001B[38;5;241m.\u001B[39m__salary\n\u001B[0;32m---> 20\u001B[0m emp \u001B[38;5;241m=\u001B[39m \u001B[43mEmployee\u001B[49m\u001B[43m(\u001B[49m\u001B[38;5;124;43m\"\u001B[39;49m\u001B[38;5;124;43mAhmed\u001B[39;49m\u001B[38;5;124;43m\"\u001B[39;49m\u001B[43m,\u001B[49m\u001B[43m \u001B[49m\u001B[38;5;124;43m\"\u001B[39;49m\u001B[38;5;124;43mahmed@gmail.com\u001B[39;49m\u001B[38;5;124;43m\"\u001B[39;49m\u001B[43m,\u001B[49m\u001B[43m \u001B[49m\u001B[38;5;124;43m\"\u001B[39;49m\u001B[38;5;124;43m1000\u001B[39;49m\u001B[38;5;124;43m\"\u001B[39;49m\u001B[43m)\u001B[49m\n\u001B[1;32m     21\u001B[0m \u001B[38;5;28mprint\u001B[39m(emp\u001B[38;5;241m.\u001B[39mgetSalary())\n",
      "Cell \u001B[0;32mIn[13], line 8\u001B[0m, in \u001B[0;36mEmployee.__init__\u001B[0;34m(self, name, email, salary)\u001B[0m\n\u001B[1;32m      6\u001B[0m     \u001B[38;5;28mself\u001B[39m\u001B[38;5;241m.\u001B[39m__salary \u001B[38;5;241m=\u001B[39m salary\n\u001B[1;32m      7\u001B[0m \u001B[38;5;28;01melse\u001B[39;00m:\n\u001B[0;32m----> 8\u001B[0m     \u001B[38;5;28;01mraise\u001B[39;00m \u001B[38;5;167;01mTypeError\u001B[39;00m(\u001B[38;5;124m\"\u001B[39m\u001B[38;5;124mSalary must integer or float.\u001B[39m\u001B[38;5;124m\"\u001B[39m)\n",
      "\u001B[0;31mTypeError\u001B[0m: Salary must integer or float."
     ]
    }
   ],
   "execution_count": 13
  },
  {
   "metadata": {
    "ExecuteTime": {
     "end_time": "2025-01-05T08:25:31.216370Z",
     "start_time": "2025-01-05T08:25:31.152355Z"
    }
   },
   "cell_type": "code",
   "source": [
    "class Employee:\n",
    "    def __init__(self, name, email , salary):\n",
    "        self.name = name # public\n",
    "        self._email= email  # protected\n",
    "        self.setSalary(salary)\n",
    "\n",
    "\n",
    "    def setSalary(self, salary):\n",
    "        if isinstance(salary, int) or isinstance(salary, float):\n",
    "            self.__salary = salary\n",
    "        else:\n",
    "            raise TypeError(\"Salary must integer or float.\")\n",
    "\n",
    "    def getSalary(self):\n",
    "        return self.__salary\n",
    "\n",
    "emp = Employee(\"Ahmed\", \"ahmed@gmail.com\", \"1000\")\n",
    "print(emp.getSalary())"
   ],
   "id": "92effb298f5f68f7",
   "outputs": [
    {
     "ename": "TypeError",
     "evalue": "Salary must integer or float.",
     "output_type": "error",
     "traceback": [
      "\u001B[0;31m---------------------------------------------------------------------------\u001B[0m",
      "\u001B[0;31mTypeError\u001B[0m                                 Traceback (most recent call last)",
      "Cell \u001B[0;32mIn[14], line 17\u001B[0m\n\u001B[1;32m     14\u001B[0m     \u001B[38;5;28;01mdef\u001B[39;00m \u001B[38;5;21mgetSalary\u001B[39m(\u001B[38;5;28mself\u001B[39m):\n\u001B[1;32m     15\u001B[0m         \u001B[38;5;28;01mreturn\u001B[39;00m \u001B[38;5;28mself\u001B[39m\u001B[38;5;241m.\u001B[39m__salary\n\u001B[0;32m---> 17\u001B[0m emp \u001B[38;5;241m=\u001B[39m \u001B[43mEmployee\u001B[49m\u001B[43m(\u001B[49m\u001B[38;5;124;43m\"\u001B[39;49m\u001B[38;5;124;43mAhmed\u001B[39;49m\u001B[38;5;124;43m\"\u001B[39;49m\u001B[43m,\u001B[49m\u001B[43m \u001B[49m\u001B[38;5;124;43m\"\u001B[39;49m\u001B[38;5;124;43mahmed@gmail.com\u001B[39;49m\u001B[38;5;124;43m\"\u001B[39;49m\u001B[43m,\u001B[49m\u001B[43m \u001B[49m\u001B[38;5;124;43m\"\u001B[39;49m\u001B[38;5;124;43m1000\u001B[39;49m\u001B[38;5;124;43m\"\u001B[39;49m\u001B[43m)\u001B[49m\n\u001B[1;32m     18\u001B[0m \u001B[38;5;28mprint\u001B[39m(emp\u001B[38;5;241m.\u001B[39mgetSalary())\n",
      "Cell \u001B[0;32mIn[14], line 5\u001B[0m, in \u001B[0;36mEmployee.__init__\u001B[0;34m(self, name, email, salary)\u001B[0m\n\u001B[1;32m      3\u001B[0m \u001B[38;5;28mself\u001B[39m\u001B[38;5;241m.\u001B[39mname \u001B[38;5;241m=\u001B[39m name \u001B[38;5;66;03m# public\u001B[39;00m\n\u001B[1;32m      4\u001B[0m \u001B[38;5;28mself\u001B[39m\u001B[38;5;241m.\u001B[39m_email\u001B[38;5;241m=\u001B[39m email  \u001B[38;5;66;03m# protected\u001B[39;00m\n\u001B[0;32m----> 5\u001B[0m \u001B[38;5;28;43mself\u001B[39;49m\u001B[38;5;241;43m.\u001B[39;49m\u001B[43msetSalary\u001B[49m\u001B[43m(\u001B[49m\u001B[43msalary\u001B[49m\u001B[43m)\u001B[49m\n",
      "Cell \u001B[0;32mIn[14], line 12\u001B[0m, in \u001B[0;36mEmployee.setSalary\u001B[0;34m(self, salary)\u001B[0m\n\u001B[1;32m     10\u001B[0m     \u001B[38;5;28mself\u001B[39m\u001B[38;5;241m.\u001B[39m__salary \u001B[38;5;241m=\u001B[39m salary\n\u001B[1;32m     11\u001B[0m \u001B[38;5;28;01melse\u001B[39;00m:\n\u001B[0;32m---> 12\u001B[0m     \u001B[38;5;28;01mraise\u001B[39;00m \u001B[38;5;167;01mTypeError\u001B[39;00m(\u001B[38;5;124m\"\u001B[39m\u001B[38;5;124mSalary must integer or float.\u001B[39m\u001B[38;5;124m\"\u001B[39m)\n",
      "\u001B[0;31mTypeError\u001B[0m: Salary must integer or float."
     ]
    }
   ],
   "execution_count": 14
  },
  {
   "metadata": {
    "ExecuteTime": {
     "end_time": "2025-01-05T08:27:21.417918Z",
     "start_time": "2025-01-05T08:27:21.412064Z"
    }
   },
   "cell_type": "code",
   "source": [
    "class Employee:\n",
    "    def __init__(self, name, email , salary):\n",
    "        self.name = name # public\n",
    "        self._email= email  # protected\n",
    "        self.setSalary(salary)\n",
    "\n",
    "\n",
    "    def setSalary(self, salary):\n",
    "        if isinstance(salary, int) or isinstance(salary, float):\n",
    "            self.__salary = salary\n",
    "        else:\n",
    "            raise TypeError(\"Salary must integer or float.\")\n",
    "\n",
    "    def getSalary(self):\n",
    "        return self.__salary\n",
    "\n",
    "emp = Employee(\"noha\", \"noha@gmail.com\", 12124)\n",
    "print(emp.getSalary())\n",
    "emp.setSalary(12344)\n",
    "print(emp.getSalary())\n",
    "print(emp.name)"
   ],
   "id": "bd2932415107f9c0",
   "outputs": [
    {
     "name": "stdout",
     "output_type": "stream",
     "text": [
      "12124\n",
      "12344\n"
     ]
    }
   ],
   "execution_count": 15
  },
  {
   "metadata": {},
   "cell_type": "code",
   "outputs": [],
   "execution_count": null,
   "source": "",
   "id": "a5f50ff5d10bfc96"
  },
  {
   "metadata": {},
   "cell_type": "markdown",
   "source": "<h1 style='color:orange; text-align:center'>Property Decorator </h1>",
   "id": "6ab0849a944ef48b"
  },
  {
   "metadata": {
    "ExecuteTime": {
     "end_time": "2025-01-05T08:33:25.923598Z",
     "start_time": "2025-01-05T08:33:25.917986Z"
    }
   },
   "cell_type": "code",
   "source": [
    "class Employee:\n",
    "    def __init__(self, name, email , salary):\n",
    "        self.name = name # public\n",
    "        self._email= email  # protected\n",
    "        self.setSalary(salary)\n",
    "    def setSalary(self, salary):\n",
    "        if isinstance(salary, int) or isinstance(salary, float):\n",
    "            self.__salary = salary\n",
    "        else:\n",
    "            raise TypeError(\"Salary must integer or float.\")\n",
    "    def getSalary(self):\n",
    "        return self.__salary\n",
    "    @property\n",
    "    def salary(self):  # represent property -->\n",
    "        return self.__salary*.8\n",
    "\n",
    "emp = Employee(\"Abc\", \"abc@gmail.com\", 3123)\n",
    "print(emp.salary)\n",
    "print(emp.getSalary())\n",
    "\n",
    "print(emp.__dict__)"
   ],
   "id": "2671c45302ce9102",
   "outputs": [
    {
     "name": "stdout",
     "output_type": "stream",
     "text": [
      "2498.4\n",
      "3123\n",
      "{'name': 'Abc', '_email': 'abc@gmail.com', '_Employee__salary': 3123}\n"
     ]
    }
   ],
   "execution_count": 18
  },
  {
   "metadata": {},
   "cell_type": "code",
   "outputs": [],
   "execution_count": null,
   "source": "",
   "id": "4a158ffdc9fb19ec"
  },
  {
   "metadata": {
    "ExecuteTime": {
     "end_time": "2025-01-05T08:36:55.798783Z",
     "start_time": "2025-01-05T08:36:55.793078Z"
    }
   },
   "cell_type": "code",
   "source": [
    "class Employee:\n",
    "    def __init__(self, name, email , salary):\n",
    "        self.name = name # public\n",
    "        self._email= email  # protected\n",
    "        self.setSalary(salary)\n",
    "    def setSalary(self, salary):\n",
    "        if isinstance(salary, int) or isinstance(salary, float):\n",
    "            self.__salary = salary\n",
    "        else:\n",
    "            raise TypeError(\"Salary must integer or float.\")\n",
    "\n",
    "    @property\n",
    "    def salary(self):  # represent property -->\n",
    "        return self.__salary*.8\n",
    "\n",
    "    # you can create property setter ?\n",
    "    @salary.setter\n",
    "    def salary(self, salary):\n",
    "        if isinstance(salary, int) or isinstance(salary, float):\n",
    "            self.__salary = salary\n",
    "        else:\n",
    "            raise TypeError(\"Salary must integer or float.\")\n",
    "\n",
    "emp = Employee('abc', \"abc\", 21314)\n",
    "print(emp.salary)"
   ],
   "id": "4bb813fd7a4c36f6",
   "outputs": [
    {
     "name": "stdout",
     "output_type": "stream",
     "text": [
      "17051.2\n"
     ]
    }
   ],
   "execution_count": 19
  },
  {
   "metadata": {
    "ExecuteTime": {
     "end_time": "2025-01-05T08:37:07.696947Z",
     "start_time": "2025-01-05T08:37:07.690166Z"
    }
   },
   "cell_type": "code",
   "source": [
    "emp.salary= 1244235 # calling the property setter\n",
    "print(emp.salary)"
   ],
   "id": "7033dc912670dc51",
   "outputs": [
    {
     "name": "stdout",
     "output_type": "stream",
     "text": [
      "995388.0\n"
     ]
    }
   ],
   "execution_count": 20
  },
  {
   "metadata": {},
   "cell_type": "code",
   "outputs": [],
   "execution_count": null,
   "source": [
    "class Employee:\n",
    "    def __init__(self, name, email , salary):\n",
    "        self.name = name # public\n",
    "        self._email= email  # protected\n",
    "        self.salary = salary\n",
    "\n",
    "    @property\n",
    "    def salary(self):  # represent property -->\n",
    "        return self.__salary*.8\n",
    "\n",
    "    # you can create property setter ?\n",
    "    @salary.setter\n",
    "    def salary(self, salary):\n",
    "        if isinstance(salary, int) or isinstance(salary, float):\n",
    "            self.__salary = salary\n",
    "        else:\n",
    "            raise TypeError(\"Salary must integer or float.\")\n",
    "\n",
    "emp = Employee('abc', \"abc\", 21314)\n",
    "print(emp.salary)\n",
    "emp.salary = \"3213\" # this will call salary setter"
   ],
   "id": "f5a7a7481710f3b6"
  },
  {
   "metadata": {
    "ExecuteTime": {
     "end_time": "2025-01-05T08:46:09.329119Z",
     "start_time": "2025-01-05T08:46:09.321579Z"
    }
   },
   "cell_type": "code",
   "source": [
    "class Employee:\n",
    "    def __init__(self, fname,lname, email , salary):\n",
    "        self.fname = fname # public\n",
    "        self.lname= lname\n",
    "        self._email= email  # protected\n",
    "        self.salary = salary\n",
    "\n",
    "    @property\n",
    "    def salary(self):  # represent property -->\n",
    "        return self.__salary*.8\n",
    "    # you can create property setter ?\n",
    "    @salary.setter\n",
    "    def salary(self, salary):\n",
    "        if isinstance(salary, int) or isinstance(salary, float):\n",
    "            self.__salary = salary\n",
    "        else:\n",
    "            raise TypeError(\"Salary must integer or float.\")\n",
    "\n",
    "    @property\n",
    "    def fullname(self):\n",
    "        return f\"{self.fname} {self.lname}\".title()\n",
    "\n",
    "emp = Employee(\"noha\", \"shehab\", \"n@gmail.com\", 122314)\n",
    "print(emp.fullname)"
   ],
   "id": "64b50a3602b3a0ea",
   "outputs": [
    {
     "name": "stdout",
     "output_type": "stream",
     "text": [
      "Noha Shehab\n"
     ]
    }
   ],
   "execution_count": 21
  },
  {
   "metadata": {
    "ExecuteTime": {
     "end_time": "2025-01-05T08:46:31.965733Z",
     "start_time": "2025-01-05T08:46:31.946870Z"
    }
   },
   "cell_type": "code",
   "source": "emp.fullname = \"Noha Abdelhady fwjkehfjkf\"",
   "id": "9f3389821d71695c",
   "outputs": [
    {
     "ename": "AttributeError",
     "evalue": "property 'fullname' of 'Employee' object has no setter",
     "output_type": "error",
     "traceback": [
      "\u001B[0;31m---------------------------------------------------------------------------\u001B[0m",
      "\u001B[0;31mAttributeError\u001B[0m                            Traceback (most recent call last)",
      "Cell \u001B[0;32mIn[22], line 1\u001B[0m\n\u001B[0;32m----> 1\u001B[0m \u001B[43memp\u001B[49m\u001B[38;5;241;43m.\u001B[39;49m\u001B[43mfullname\u001B[49m \u001B[38;5;241m=\u001B[39m \u001B[38;5;124m\"\u001B[39m\u001B[38;5;124mNoha Abdelhady fwjkehfjkf\u001B[39m\u001B[38;5;124m\"\u001B[39m\n",
      "\u001B[0;31mAttributeError\u001B[0m: property 'fullname' of 'Employee' object has no setter"
     ]
    }
   ],
   "execution_count": 22
  },
  {
   "metadata": {},
   "cell_type": "code",
   "outputs": [],
   "execution_count": null,
   "source": "",
   "id": "8d40c74d49c90203"
  }
 ],
 "metadata": {
  "kernelspec": {
   "display_name": "Python 3",
   "language": "python",
   "name": "python3"
  },
  "language_info": {
   "codemirror_mode": {
    "name": "ipython",
    "version": 2
   },
   "file_extension": ".py",
   "mimetype": "text/x-python",
   "name": "python",
   "nbconvert_exporter": "python",
   "pygments_lexer": "ipython2",
   "version": "2.7.6"
  }
 },
 "nbformat": 4,
 "nbformat_minor": 5
}
