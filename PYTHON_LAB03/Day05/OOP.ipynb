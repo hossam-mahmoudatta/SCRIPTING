{
 "cells": [
  {
   "cell_type": "code",
   "id": "initial_id",
   "metadata": {
    "collapsed": true,
    "ExecuteTime": {
     "end_time": "2025-01-04T07:57:20.430152Z",
     "start_time": "2025-01-04T07:57:20.411666Z"
    }
   },
   "source": "print(\"hello world\")",
   "outputs": [
    {
     "name": "stdout",
     "output_type": "stream",
     "text": [
      "hello world\n"
     ]
    }
   ],
   "execution_count": 1
  },
  {
   "metadata": {
    "ExecuteTime": {
     "end_time": "2025-01-04T08:00:49.683019Z",
     "start_time": "2025-01-04T08:00:49.663765Z"
    }
   },
   "cell_type": "code",
   "source": [
    "## describe employee data name, email, salary\n",
    "\n",
    "emp = {\n",
    "    \"name\": \"<NAME>\",\n",
    "    \"email\": \"test@gmail.com\",\n",
    "    \"salary\":344235\n",
    "}\n",
    "\n",
    "emp2 = {\n",
    "    \"empname\": \"<NAME>\",\n",
    "    \"empemail\": \"test@gmail.com\",\n",
    "    \"salary\":344235\n",
    "}\n",
    "\n",
    "def printEmp(emp):\n",
    "    print(f\"{emp[\"name\"]} {emp[\"email\"]} {emp['salary']}\")\n",
    "\n",
    "printEmp(emp)"
   ],
   "id": "b368c186ff88c3e7",
   "outputs": [
    {
     "name": "stdout",
     "output_type": "stream",
     "text": [
      "<NAME> test@gmail.com 344235\n"
     ]
    }
   ],
   "execution_count": 2
  },
  {
   "metadata": {
    "ExecuteTime": {
     "end_time": "2025-01-04T08:00:54.828338Z",
     "start_time": "2025-01-04T08:00:54.287907Z"
    }
   },
   "cell_type": "code",
   "source": "printEmp(emp2)",
   "id": "d40a0fbeb145e44d",
   "outputs": [
    {
     "ename": "KeyError",
     "evalue": "'name'",
     "output_type": "error",
     "traceback": [
      "\u001B[0;31m---------------------------------------------------------------------------\u001B[0m",
      "\u001B[0;31mKeyError\u001B[0m                                  Traceback (most recent call last)",
      "Cell \u001B[0;32mIn[3], line 1\u001B[0m\n\u001B[0;32m----> 1\u001B[0m \u001B[43mprintEmp\u001B[49m\u001B[43m(\u001B[49m\u001B[43memp2\u001B[49m\u001B[43m)\u001B[49m\n",
      "Cell \u001B[0;32mIn[2], line 16\u001B[0m, in \u001B[0;36mprintEmp\u001B[0;34m(emp)\u001B[0m\n\u001B[1;32m     15\u001B[0m \u001B[38;5;28;01mdef\u001B[39;00m \u001B[38;5;21mprintEmp\u001B[39m(emp):\n\u001B[0;32m---> 16\u001B[0m     \u001B[38;5;28mprint\u001B[39m(\u001B[38;5;124mf\u001B[39m\u001B[38;5;124m\"\u001B[39m\u001B[38;5;132;01m{\u001B[39;00m\u001B[43memp\u001B[49m\u001B[43m[\u001B[49m\u001B[38;5;124;43m\"\u001B[39;49m\u001B[38;5;124;43mname\u001B[39;49m\u001B[38;5;124;43m\"\u001B[39;49m\u001B[43m]\u001B[49m\u001B[38;5;132;01m}\u001B[39;00m\u001B[38;5;124m \u001B[39m\u001B[38;5;132;01m{\u001B[39;00memp[\u001B[38;5;124m\"\u001B[39m\u001B[38;5;124memail\u001B[39m\u001B[38;5;124m\"\u001B[39m]\u001B[38;5;132;01m}\u001B[39;00m\u001B[38;5;124m \u001B[39m\u001B[38;5;132;01m{\u001B[39;00memp[\u001B[38;5;124m'\u001B[39m\u001B[38;5;124msalary\u001B[39m\u001B[38;5;124m'\u001B[39m]\u001B[38;5;132;01m}\u001B[39;00m\u001B[38;5;124m\"\u001B[39m)\n",
      "\u001B[0;31mKeyError\u001B[0m: 'name'"
     ]
    }
   ],
   "execution_count": 3
  },
  {
   "metadata": {},
   "cell_type": "markdown",
   "source": "<h3 style=\"color:red\"> I need to define new structure --> wrap features I need , and the  functionality I need to apply on </h3>",
   "id": "6530b57392253540"
  },
  {
   "metadata": {},
   "cell_type": "code",
   "outputs": [],
   "execution_count": null,
   "source": [
    "# I need to define new type\n",
    "## class --> blueprint for required arch.. contains properties , method"
   ],
   "id": "1ddafdf69e243a66"
  },
  {
   "metadata": {
    "ExecuteTime": {
     "end_time": "2025-01-04T08:06:46.208047Z",
     "start_time": "2025-01-04T08:06:46.195115Z"
    }
   },
   "cell_type": "code",
   "source": [
    "# define a class\n",
    "class Employee:\n",
    "    pass\n",
    "\n"
   ],
   "id": "2dbbf77a094f113e",
   "outputs": [],
   "execution_count": 4
  },
  {
   "metadata": {},
   "cell_type": "markdown",
   "source": "<h4> intailization new object </h4>",
   "id": "775f11a1c8d271ef"
  },
  {
   "metadata": {
    "ExecuteTime": {
     "end_time": "2025-01-04T08:08:07.783353Z",
     "start_time": "2025-01-04T08:08:07.755813Z"
    }
   },
   "cell_type": "code",
   "source": [
    "emp = Employee()\n",
    "print(emp)"
   ],
   "id": "a8afd1e1d1be9883",
   "outputs": [
    {
     "name": "stdout",
     "output_type": "stream",
     "text": [
      "<__main__.Employee object at 0x7173d05b7860>\n"
     ]
    }
   ],
   "execution_count": 5
  },
  {
   "metadata": {
    "ExecuteTime": {
     "end_time": "2025-01-04T08:11:03.652453Z",
     "start_time": "2025-01-04T08:11:03.646469Z"
    }
   },
   "cell_type": "code",
   "source": [
    "emp.name = \"Ahmed\"\n",
    "emp.salary=1312\n",
    "emp.city = \"Cairo\"\n",
    "\n",
    "print(emp)"
   ],
   "id": "8059e730134591f3",
   "outputs": [
    {
     "name": "stdout",
     "output_type": "stream",
     "text": [
      "<__main__.Employee object at 0x7173d05b7860>\n"
     ]
    }
   ],
   "execution_count": 6
  },
  {
   "metadata": {},
   "cell_type": "markdown",
   "source": "<h3> print object properties ? </h3>",
   "id": "99119ceed9930f52"
  },
  {
   "metadata": {
    "ExecuteTime": {
     "end_time": "2025-01-04T08:12:36.208384Z",
     "start_time": "2025-01-04T08:12:36.202390Z"
    }
   },
   "cell_type": "code",
   "source": [
    "print(emp.name)\n",
    "print(emp.salary)"
   ],
   "id": "4e64ce28af5ad32d",
   "outputs": [
    {
     "name": "stdout",
     "output_type": "stream",
     "text": [
      "Ahmed\n",
      "1312\n"
     ]
    }
   ],
   "execution_count": 7
  },
  {
   "metadata": {
    "ExecuteTime": {
     "end_time": "2025-01-04T08:13:45.429462Z",
     "start_time": "2025-01-04T08:13:45.422251Z"
    }
   },
   "cell_type": "code",
   "source": [
    "emp2 = Employee()\n",
    "emp2.empname = \"abc\"\n",
    "emp2.sal = 1000\n",
    "emp2.dept=  \"A\"\n",
    "\n",
    "print(emp2, emp)\n"
   ],
   "id": "5c70c0941d991efd",
   "outputs": [
    {
     "name": "stdout",
     "output_type": "stream",
     "text": [
      "<__main__.Employee object at 0x7173d05fbef0> <__main__.Employee object at 0x7173d05b7860>\n"
     ]
    }
   ],
   "execution_count": 11
  },
  {
   "metadata": {
    "ExecuteTime": {
     "end_time": "2025-01-04T08:14:55.471688Z",
     "start_time": "2025-01-04T08:14:55.457623Z"
    }
   },
   "cell_type": "code",
   "source": [
    "# print object properties as a dict  -->\n",
    "print(emp2.__dict__)\n",
    "print(emp.__dict__)"
   ],
   "id": "8ae11a31b3b18a9f",
   "outputs": [
    {
     "name": "stdout",
     "output_type": "stream",
     "text": [
      "{'empname': 'abc', 'sal': 1000, 'dept': 'A'}\n",
      "{'name': 'Ahmed', 'salary': 1312, 'city': 'Cairo'}\n"
     ]
    }
   ],
   "execution_count": 12
  },
  {
   "metadata": {
    "ExecuteTime": {
     "end_time": "2025-01-04T08:17:28.975580Z",
     "start_time": "2025-01-04T08:17:28.961779Z"
    }
   },
   "cell_type": "code",
   "source": "print(isinstance(emp, Employee), isinstance(emp2, Employee))",
   "id": "26d89b617b397f0f",
   "outputs": [
    {
     "name": "stdout",
     "output_type": "stream",
     "text": [
      "True True\n"
     ]
    }
   ],
   "execution_count": 13
  },
  {
   "metadata": {},
   "cell_type": "markdown",
   "source": "<h1 style='color:yellow; text-align:center'> Define common architecture for all objects taken from class </h2>",
   "id": "537dde67e8ece10"
  },
  {
   "metadata": {
    "ExecuteTime": {
     "end_time": "2025-01-04T08:20:43.821295Z",
     "start_time": "2025-01-04T08:20:43.814834Z"
    }
   },
   "cell_type": "code",
   "source": [
    "# customize object creating using constructor\n",
    "class Employee:\n",
    "    # define constructor\n",
    "    \"\"\"special function calling while creating the object \"\"\"\n",
    "    def __init__(self):\n",
    "        print(f'Employee object is being created {self}')\n",
    "\n",
    "emp = Employee()\n",
    "print(emp)\n"
   ],
   "id": "6f5e4f63d9de80fc",
   "outputs": [
    {
     "name": "stdout",
     "output_type": "stream",
     "text": [
      "Employee object is being created <__main__.Employee object at 0x7173d05fc9b0>\n"
     ]
    }
   ],
   "execution_count": 14
  },
  {
   "metadata": {
    "ExecuteTime": {
     "end_time": "2025-01-04T08:21:31.364475Z",
     "start_time": "2025-01-04T08:21:31.348090Z"
    }
   },
   "cell_type": "code",
   "source": [
    "emp2= Employee()\n",
    "print(emp2)"
   ],
   "id": "4726b62e5384ac4e",
   "outputs": [
    {
     "name": "stdout",
     "output_type": "stream",
     "text": [
      "Employee object is being created <__main__.Employee object at 0x7173d05fbb00>\n",
      "<__main__.Employee object at 0x7173d05fbb00>\n"
     ]
    }
   ],
   "execution_count": 16
  },
  {
   "metadata": {
    "ExecuteTime": {
     "end_time": "2025-01-04T08:24:20.176229Z",
     "start_time": "2025-01-04T08:24:20.159468Z"
    }
   },
   "cell_type": "code",
   "source": [
    "class Employee:\n",
    "    # define constructor\n",
    "    \"\"\"special function calling while creating the object \"\"\"\n",
    "    def __init__(self): # self ---> represent object address in memory inside the class\n",
    "        print(f'Employee object is being created {self}')\n",
    "        # name, salary , email are object properties\n",
    "        self.name= \"Ahmed\"\n",
    "        self.salary=1000\n",
    "        self.email = \"test@gmail.com\"\n",
    "\n",
    "emp = Employee()\n",
    "print(emp)\n",
    "\n",
    "\n",
    "emp2=  Employee()"
   ],
   "id": "f8c395295547e05c",
   "outputs": [
    {
     "name": "stdout",
     "output_type": "stream",
     "text": [
      "Employee object is being created <__main__.Employee object at 0x7173d05fca70>\n",
      "<__main__.Employee object at 0x7173d05fca70>\n",
      "Employee object is being created <__main__.Employee object at 0x7173d05b7860>\n"
     ]
    }
   ],
   "execution_count": 18
  },
  {
   "metadata": {
    "ExecuteTime": {
     "end_time": "2025-01-04T08:25:16.218686Z",
     "start_time": "2025-01-04T08:25:16.203138Z"
    }
   },
   "cell_type": "code",
   "source": [
    "emp.name = \"noha\"\n",
    "print(emp.name, emp.__dict__)"
   ],
   "id": "76be6acbf5cfb924",
   "outputs": [
    {
     "name": "stdout",
     "output_type": "stream",
     "text": [
      "noha {'name': 'noha', 'salary': 1000, 'email': 'test@gmail.com'}\n"
     ]
    }
   ],
   "execution_count": 19
  },
  {
   "metadata": {},
   "cell_type": "markdown",
   "source": "<h3 style=\"color:yellow\">we need to customize properties during object creation  </h3>",
   "id": "22372b1255092709"
  },
  {
   "metadata": {
    "ExecuteTime": {
     "end_time": "2025-01-04T08:26:53.631927Z",
     "start_time": "2025-01-04T08:26:53.554943Z"
    }
   },
   "cell_type": "code",
   "source": [
    "class Employee:\n",
    "    def __init__(self,name, email, salary): # self ---> represent object address in memory inside the class\n",
    "        self.name= name\n",
    "        self.salary=salary\n",
    "        self.email = email\n",
    "\n",
    "emp = Employee()\n",
    "print(emp)"
   ],
   "id": "78cda041a2f389ae",
   "outputs": [
    {
     "ename": "TypeError",
     "evalue": "Employee.__init__() missing 3 required positional arguments: 'name', 'email', and 'salary'",
     "output_type": "error",
     "traceback": [
      "\u001B[0;31m---------------------------------------------------------------------------\u001B[0m",
      "\u001B[0;31mTypeError\u001B[0m                                 Traceback (most recent call last)",
      "Cell \u001B[0;32mIn[20], line 7\u001B[0m\n\u001B[1;32m      4\u001B[0m         \u001B[38;5;28mself\u001B[39m\u001B[38;5;241m.\u001B[39msalary\u001B[38;5;241m=\u001B[39msalary\n\u001B[1;32m      5\u001B[0m         \u001B[38;5;28mself\u001B[39m\u001B[38;5;241m.\u001B[39memail \u001B[38;5;241m=\u001B[39m email \n\u001B[0;32m----> 7\u001B[0m emp \u001B[38;5;241m=\u001B[39m \u001B[43mEmployee\u001B[49m\u001B[43m(\u001B[49m\u001B[43m)\u001B[49m\n\u001B[1;32m      8\u001B[0m \u001B[38;5;28mprint\u001B[39m(emp)\n",
      "\u001B[0;31mTypeError\u001B[0m: Employee.__init__() missing 3 required positional arguments: 'name', 'email', and 'salary'"
     ]
    }
   ],
   "execution_count": 20
  },
  {
   "metadata": {
    "ExecuteTime": {
     "end_time": "2025-01-04T08:27:38.974577Z",
     "start_time": "2025-01-04T08:27:38.960498Z"
    }
   },
   "cell_type": "code",
   "source": [
    "emp=  Employee(\"Omnia\", \"omnia@gmail.com\", 10000)\n",
    "print(emp.__dict__)"
   ],
   "id": "2345082ba9bb8bf9",
   "outputs": [
    {
     "name": "stdout",
     "output_type": "stream",
     "text": [
      "{'name': 'Omnia', 'salary': 10000, 'email': 'omnia@gmail.com'}\n"
     ]
    }
   ],
   "execution_count": 21
  },
  {
   "metadata": {
    "ExecuteTime": {
     "end_time": "2025-01-04T08:28:08.218748Z",
     "start_time": "2025-01-04T08:28:08.206686Z"
    }
   },
   "cell_type": "code",
   "source": [
    "emp2 = Employee(\"Noha\", \"<EMAIL>\", 100000)\n",
    "print(emp2.__dict__)"
   ],
   "id": "abe7d4b178408d0f",
   "outputs": [
    {
     "name": "stdout",
     "output_type": "stream",
     "text": [
      "{'name': 'Noha', 'salary': 100000, 'email': '<EMAIL>'}\n"
     ]
    }
   ],
   "execution_count": 22
  },
  {
   "metadata": {
    "ExecuteTime": {
     "end_time": "2025-01-04T08:29:07.459997Z",
     "start_time": "2025-01-04T08:29:07.444214Z"
    }
   },
   "cell_type": "code",
   "source": [
    "class Employee:\n",
    "    def __init__(self,name=\"\", email=\"\", salary=100): # self ---> represent object address in memory inside the class\n",
    "        self.name= name\n",
    "        self.salary=salary\n",
    "        self.email = email\n",
    "\n",
    "emp = Employee()\n",
    "print(emp.__dict__)"
   ],
   "id": "ba2791975571271c",
   "outputs": [
    {
     "name": "stdout",
     "output_type": "stream",
     "text": [
      "{'name': '', 'salary': 100, 'email': ''}\n"
     ]
    }
   ],
   "execution_count": 23
  },
  {
   "metadata": {
    "ExecuteTime": {
     "end_time": "2025-01-04T08:30:16.984569Z",
     "start_time": "2025-01-04T08:30:16.970458Z"
    }
   },
   "cell_type": "code",
   "source": [
    "emp3= Employee(salary=10000, name='sfsf', email=\"addsd\")\n",
    "print(emp3.__dict__)"
   ],
   "id": "7926443bb139f4da",
   "outputs": [
    {
     "name": "stdout",
     "output_type": "stream",
     "text": [
      "{'name': 'sfsf', 'salary': 10000, 'email': 'addsd'}\n"
     ]
    }
   ],
   "execution_count": 24
  },
  {
   "metadata": {
    "ExecuteTime": {
     "end_time": "2025-01-04T08:31:08.862521Z",
     "start_time": "2025-01-04T08:31:08.855735Z"
    }
   },
   "cell_type": "code",
   "source": [
    "class Shape:\n",
    "    def __init__(self,dim,type):\n",
    "        self.dim = dim\n",
    "        self.type = type\n",
    "\n",
    "ss = Shape(type=\"rect\", dim=10)\n",
    "\n",
    "s2=  Shape(3, 321)"
   ],
   "id": "a1a9e30a1d78571",
   "outputs": [],
   "execution_count": 25
  },
  {
   "metadata": {},
   "cell_type": "markdown",
   "source": "<h3 style=\"color:orange\"> Add functionality / behaviour to the function </h3>",
   "id": "d630e33d71541256"
  },
  {
   "metadata": {
    "ExecuteTime": {
     "end_time": "2025-01-04T08:35:07.345931Z",
     "start_time": "2025-01-04T08:35:07.326314Z"
    }
   },
   "cell_type": "code",
   "source": [
    "# instance method ??\n",
    "\n",
    "\n",
    "class Employee:\n",
    "    def __init__(self,name, email, salary):\n",
    "        self.name= name\n",
    "        self.salary=salary\n",
    "        self.email = email\n",
    "\n",
    "    # instance method ==> its behaviour depends on the caller instance // object\n",
    "    # I need the address of the object -==== self\n",
    "    def describeEmp(self):\n",
    "        print(f'{self.name}, {self.email}, {self.salary}')\n",
    "\n",
    "emp2= Employee(\"Abbass\", \"Abbass@gmail.com\", 12424)\n",
    "print(emp2.__dict__)\n",
    "emp2.describeEmp()"
   ],
   "id": "c34e5cc6d8ffc158",
   "outputs": [
    {
     "name": "stdout",
     "output_type": "stream",
     "text": [
      "{'name': 'Abbass', 'salary': 12424, 'email': 'Abbass@gmail.com'}\n",
      "Abbass, Abbass@gmail.com, 12424\n"
     ]
    }
   ],
   "execution_count": 27
  },
  {
   "metadata": {
    "ExecuteTime": {
     "end_time": "2025-01-04T08:39:18.568491Z",
     "start_time": "2025-01-04T08:39:18.558878Z"
    }
   },
   "cell_type": "code",
   "source": [
    "class Employee:\n",
    "    def __init__(self,name, email, salary): # self ---> represent object address in memory inside the class\n",
    "        self.name= name\n",
    "        self.salary=salary\n",
    "        self.email = email\n",
    "\n",
    "    # instance method --> its behaviour depends on the caller instance\n",
    "    def displayInfo(self): # self --> address of this object\n",
    "        print(f'{self.name}, {self.email}, {self.salary}')\n",
    "\n",
    "emp=Employee(\"abc\", \"abc@gmail.com\", 1242425)\n",
    "emp.displayInfo()\n",
    "\n",
    "emp2= Employee(\"Abbass\", \"Abbass@gmail.com\", 1242425)\n",
    "emp2.displayInfo()"
   ],
   "id": "d69bd8bf5f071576",
   "outputs": [
    {
     "name": "stdout",
     "output_type": "stream",
     "text": [
      "abc, abc@gmail.com, 1242425\n",
      "Abbass, Abbass@gmail.com, 1242425\n"
     ]
    }
   ],
   "execution_count": 29
  },
  {
   "metadata": {
    "ExecuteTime": {
     "end_time": "2025-01-04T08:42:26.198159Z",
     "start_time": "2025-01-04T08:42:26.176419Z"
    }
   },
   "cell_type": "code",
   "source": [
    "class Employee:\n",
    "    def __init__(self,name, email, salary):\n",
    "        self.name= name\n",
    "        self.salary=salary\n",
    "        self.email = email\n",
    "        self.count = 0\n",
    "        self.count +=1\n",
    "\n",
    "\n",
    "emp= Employee('abc', \"asdad@fff.com\", 1323)\n",
    "emp2= Employee(\"rr\", 'rrr@fff.com', 312424)\n",
    "\n",
    "print(emp2.count)\n",
    "\n",
    "emp3 = Employee(\"asff\", \"asdd\", 312)\n",
    "print(emp3.count)\n"
   ],
   "id": "32c2fe9a560d62d9",
   "outputs": [
    {
     "name": "stdout",
     "output_type": "stream",
     "text": [
      "1\n",
      "1\n"
     ]
    }
   ],
   "execution_count": 31
  },
  {
   "metadata": {},
   "cell_type": "code",
   "outputs": [],
   "execution_count": null,
   "source": "",
   "id": "7b9aa8719482de62"
  },
  {
   "metadata": {},
   "cell_type": "markdown",
   "source": "<h1 style='color:orange; text-align:center'>Class Variables </h1>",
   "id": "6d7f6ceecb84b4ac"
  },
  {
   "metadata": {
    "ExecuteTime": {
     "end_time": "2025-01-04T08:48:13.647831Z",
     "start_time": "2025-01-04T08:48:13.642629Z"
    }
   },
   "cell_type": "code",
   "source": [
    "# we need to define a property describe no. of employees  ---> represent class property\n",
    "# class variable --> class property shared with all instance of the class\n",
    "\n",
    "class Employee:\n",
    "    count =0\n",
    "    def __init__(self,name, email, salary):\n",
    "        self.name= name\n",
    "        self.salary=salary\n",
    "        self.email = email\n",
    "        # self.count +=1\n",
    "        Employee.count +=1\n",
    "        # self.__class__.count+=1\n",
    "\n",
    "\n",
    "\n",
    "emp= Employee('abc', \"asdad@fff.com\", 1323)\n",
    "emp2= Employee(\"rr\", 'rrr@fff.com', 312424)\n",
    "emp3 = Employee(\"easd\", \"Add\", 3123)\n",
    "\n",
    "print(Employee.count)"
   ],
   "id": "c1e7bfcbebf358f4",
   "outputs": [
    {
     "name": "stdout",
     "output_type": "stream",
     "text": [
      "3\n"
     ]
    }
   ],
   "execution_count": 34
  },
  {
   "metadata": {
    "ExecuteTime": {
     "end_time": "2025-01-04T08:52:19.911549Z",
     "start_time": "2025-01-04T08:52:19.906560Z"
    }
   },
   "cell_type": "code",
   "source": [
    "class Person:\n",
    "    count =0\n",
    "    def __init__(self,name):\n",
    "        self.name = name\n",
    "        Person.count +=1\n",
    "\n",
    "p1 = Person(\"John\")\n",
    "p2 = Person(\"abc\")\n",
    "p3= Person(\"test\")\n",
    "print(Person.count)"
   ],
   "id": "f7f8efc4c7568ba2",
   "outputs": [
    {
     "name": "stdout",
     "output_type": "stream",
     "text": [
      "3\n"
     ]
    }
   ],
   "execution_count": 35
  },
  {
   "metadata": {
    "ExecuteTime": {
     "end_time": "2025-01-04T08:52:34.571530Z",
     "start_time": "2025-01-04T08:52:34.567652Z"
    }
   },
   "cell_type": "code",
   "source": "print(p1.__dict__)",
   "id": "66f3e61202b04f6c",
   "outputs": [
    {
     "name": "stdout",
     "output_type": "stream",
     "text": [
      "{'name': 'John'}\n"
     ]
    }
   ],
   "execution_count": 36
  },
  {
   "metadata": {
    "ExecuteTime": {
     "end_time": "2025-01-04T08:52:59.162327Z",
     "start_time": "2025-01-04T08:52:59.158404Z"
    }
   },
   "cell_type": "code",
   "source": [
    "p1.count = 10\n",
    "print(p1.__dict__)"
   ],
   "id": "cfa6dec84f10b652",
   "outputs": [
    {
     "name": "stdout",
     "output_type": "stream",
     "text": [
      "{'name': 'John', 'count': 10}\n"
     ]
    }
   ],
   "execution_count": 37
  },
  {
   "metadata": {
    "ExecuteTime": {
     "end_time": "2025-01-04T08:53:11.203672Z",
     "start_time": "2025-01-04T08:53:11.192339Z"
    }
   },
   "cell_type": "code",
   "source": "print(Employee.count)",
   "id": "70301d5343e8305",
   "outputs": [
    {
     "name": "stdout",
     "output_type": "stream",
     "text": [
      "3\n"
     ]
    }
   ],
   "execution_count": 38
  },
  {
   "metadata": {
    "ExecuteTime": {
     "end_time": "2025-01-04T08:55:15.050747Z",
     "start_time": "2025-01-04T08:55:15.044693Z"
    }
   },
   "cell_type": "code",
   "source": [
    "print(\"p1\", p1.count)\n",
    "print(\"p3\", p3.count)\n",
    "print(p3.__dict__)\n",
    "print(p1.__class__.count)"
   ],
   "id": "a2a348f541f6db57",
   "outputs": [
    {
     "name": "stdout",
     "output_type": "stream",
     "text": [
      "p1 10\n",
      "p3 3\n",
      "{'name': 'test'}\n",
      "3\n"
     ]
    }
   ],
   "execution_count": 42
  },
  {
   "metadata": {},
   "cell_type": "code",
   "outputs": [],
   "execution_count": null,
   "source": [
    "class Employee:\n",
    "    count =0\n",
    "    commission= 10   # shared property between class instances.\n",
    "    def __init__(self,name, email, salary):\n",
    "        self.name= name\n",
    "        self.salary=salary\n",
    "        self.email = email\n",
    "        # self.count +=1\n",
    "        Employee.count +=1\n",
    "        # self.__class__.count+=1"
   ],
   "id": "548a950593c6d520"
  },
  {
   "metadata": {},
   "cell_type": "markdown",
   "source": "<h1 style='color:pink; text-align:center'>Class Method </h1>\n",
   "id": "77e013f882db0f0b"
  },
  {
   "metadata": {
    "ExecuteTime": {
     "end_time": "2025-01-04T09:00:38.291674Z",
     "start_time": "2025-01-04T09:00:38.286890Z"
    }
   },
   "cell_type": "code",
   "source": [
    "class Employee:\n",
    "    count =0\n",
    "    def __init__(self,name, email, salary):\n",
    "        self.name= name\n",
    "        self.salary=salary\n",
    "        self.email = email\n",
    "        Employee.count +=1\n",
    "\n",
    "    # define describe count --> no of employees=  n\n",
    "\n",
    "    def get_no_of_employees(self):\n",
    "        print(f'No of Employees till now = {Employee.count}')\n",
    "\n",
    "\n",
    "emp = Employee(\"eawe\", \"dasdasd\",1123)\n",
    "emp.get_no_of_employees()\n"
   ],
   "id": "24b63ac6917af23b",
   "outputs": [
    {
     "name": "stdout",
     "output_type": "stream",
     "text": [
      "No of Employees till now = 1\n"
     ]
    }
   ],
   "execution_count": 43
  },
  {
   "metadata": {
    "ExecuteTime": {
     "end_time": "2025-01-04T09:03:46.144189Z",
     "start_time": "2025-01-04T09:03:46.133651Z"
    }
   },
   "cell_type": "code",
   "source": [
    "class Employee:\n",
    "    count =0\n",
    "    def __init__(self,name, email, salary):\n",
    "        self.name= name\n",
    "        self.salary=salary\n",
    "        self.email = email\n",
    "        Employee.count +=1\n",
    "\n",
    "    # define describe count --> no of employees=  n\n",
    "    @classmethod  # this is methods depends on class\n",
    "    def get_no_of_employees(cls): # represent class itself\n",
    "        print(f\"cls={cls}\")\n",
    "        print(Employee)\n",
    "        # print(f'No of Employees till now = {Employee.count}')\n",
    "        print(f'No of Employees till now = {cls.count}')\n",
    "\n",
    "\n",
    "Employee.get_no_of_employees()"
   ],
   "id": "6b9482dfb6cbfe8c",
   "outputs": [
    {
     "name": "stdout",
     "output_type": "stream",
     "text": [
      "cls=<class '__main__.Employee'>\n",
      "<class '__main__.Employee'>\n",
      "No of Employees till now = 0\n"
     ]
    }
   ],
   "execution_count": 47
  },
  {
   "metadata": {
    "ExecuteTime": {
     "end_time": "2025-01-04T09:07:40.605708Z",
     "start_time": "2025-01-04T09:07:40.597985Z"
    }
   },
   "cell_type": "code",
   "source": [
    "# why we need class method\n",
    "# as object factory\n",
    "\n",
    "class Employee:\n",
    "    count =0\n",
    "    def __init__(self,name, email, salary):\n",
    "        self.name= name\n",
    "        self.salary=salary\n",
    "        self.email = email\n",
    "        Employee.count +=1\n",
    "\n",
    "    # function create object default object name='', email='', salary=''\n",
    "\n",
    "    # def create_Defualt_object(self):\n",
    "    #     return Employee(\"\", '', \"\")\n",
    "\n",
    "    @classmethod\n",
    "    def create_Defualt_object(cls):\n",
    "        return cls(\"\", '', \"\")\n",
    "\n",
    "emp = Employee(\"asd\", \"dasd\", 1223)\n",
    "emp2= Employee.create_Defualt_object()\n",
    "print(emp2.__dict__)\n",
    "print(emp.__dict__)\n"
   ],
   "id": "e8a773ad22e71569",
   "outputs": [
    {
     "name": "stdout",
     "output_type": "stream",
     "text": [
      "{'name': '', 'salary': '', 'email': ''}\n",
      "{'name': 'asd', 'salary': 1223, 'email': 'dasd'}\n"
     ]
    }
   ],
   "execution_count": 48
  },
  {
   "metadata": {},
   "cell_type": "code",
   "outputs": [],
   "execution_count": null,
   "source": "",
   "id": "c939ba9989039e1d"
  },
  {
   "metadata": {},
   "cell_type": "markdown",
   "source": "<h1 style='color:pink; text-align:center'>Static Method in python </h1>\n",
   "id": "fe3f8186799661b9"
  },
  {
   "metadata": {
    "ExecuteTime": {
     "end_time": "2025-01-04T09:12:31.089265Z",
     "start_time": "2025-01-04T09:12:31.084485Z"
    }
   },
   "cell_type": "code",
   "source": [
    "\n",
    "class Employee:\n",
    "    count =0\n",
    "    def __init__(self,name, email, salary):\n",
    "        self.name= name\n",
    "        self.salary=salary\n",
    "        self.email = email\n",
    "        Employee.count +=1\n",
    "\n",
    "emp = Employee(\"Abbass\", \"Abbass@gmail.com\", 12424)\n",
    "\n",
    "def cal_net_sal(salary):\n",
    "    return salary* .8\n",
    "\n",
    "print(cal_net_sal(emp.salary))\n",
    "\n",
    "print(cal_net_sal(10000))"
   ],
   "id": "e848df4ccc03c2f9",
   "outputs": [
    {
     "name": "stdout",
     "output_type": "stream",
     "text": [
      "9939.2\n",
      "8000.0\n"
     ]
    }
   ],
   "execution_count": 49
  },
  {
   "metadata": {
    "ExecuteTime": {
     "end_time": "2025-01-04T09:14:18.129672Z",
     "start_time": "2025-01-04T09:14:18.098034Z"
    }
   },
   "cell_type": "code",
   "source": [
    "\n",
    "class Employee:\n",
    "    count =0\n",
    "    def __init__(self,name, email, salary):\n",
    "        self.name= name\n",
    "        self.salary=salary\n",
    "        self.email = email\n",
    "        Employee.count +=1\n",
    "\n",
    "    # add helper method\n",
    "    # Usually first parameter of a method is named 'self'\n",
    "    def cal_net_sal(salary):\n",
    "        print(salary)\n",
    "        return salary* .8\n",
    "\n",
    "emp = Employee(\"Abbass\", \"Abbass@gmail.com\", 12424)\n",
    "print(emp.cal_net_sal())\n"
   ],
   "id": "f23554755a1c81ae",
   "outputs": [
    {
     "name": "stdout",
     "output_type": "stream",
     "text": [
      "<__main__.Employee object at 0x7173d0458c20>\n"
     ]
    },
    {
     "ename": "TypeError",
     "evalue": "unsupported operand type(s) for *: 'Employee' and 'float'",
     "output_type": "error",
     "traceback": [
      "\u001B[0;31m---------------------------------------------------------------------------\u001B[0m",
      "\u001B[0;31mTypeError\u001B[0m                                 Traceback (most recent call last)",
      "Cell \u001B[0;32mIn[52], line 15\u001B[0m\n\u001B[1;32m     12\u001B[0m         \u001B[38;5;28;01mreturn\u001B[39;00m salary\u001B[38;5;241m*\u001B[39m \u001B[38;5;241m.8\u001B[39m\n\u001B[1;32m     14\u001B[0m emp \u001B[38;5;241m=\u001B[39m Employee(\u001B[38;5;124m\"\u001B[39m\u001B[38;5;124mAbbass\u001B[39m\u001B[38;5;124m\"\u001B[39m, \u001B[38;5;124m\"\u001B[39m\u001B[38;5;124mAbbass@gmail.com\u001B[39m\u001B[38;5;124m\"\u001B[39m, \u001B[38;5;241m12424\u001B[39m)\n\u001B[0;32m---> 15\u001B[0m \u001B[38;5;28mprint\u001B[39m(\u001B[43memp\u001B[49m\u001B[38;5;241;43m.\u001B[39;49m\u001B[43mcal_net_sal\u001B[49m\u001B[43m(\u001B[49m\u001B[43m)\u001B[49m)\n",
      "Cell \u001B[0;32mIn[52], line 12\u001B[0m, in \u001B[0;36mEmployee.cal_net_sal\u001B[0;34m(salary)\u001B[0m\n\u001B[1;32m     10\u001B[0m \u001B[38;5;28;01mdef\u001B[39;00m \u001B[38;5;21mcal_net_sal\u001B[39m(salary):\n\u001B[1;32m     11\u001B[0m     \u001B[38;5;28mprint\u001B[39m(salary)\n\u001B[0;32m---> 12\u001B[0m     \u001B[38;5;28;01mreturn\u001B[39;00m \u001B[43msalary\u001B[49m\u001B[38;5;241;43m*\u001B[39;49m\u001B[43m \u001B[49m\u001B[38;5;241;43m.8\u001B[39;49m\n",
      "\u001B[0;31mTypeError\u001B[0m: unsupported operand type(s) for *: 'Employee' and 'float'"
     ]
    }
   ],
   "execution_count": 52
  },
  {
   "metadata": {
    "ExecuteTime": {
     "end_time": "2025-01-04T09:16:35.851121Z",
     "start_time": "2025-01-04T09:16:35.846392Z"
    }
   },
   "cell_type": "code",
   "source": [
    "\n",
    "class Employee:\n",
    "    count =0\n",
    "    def __init__(self,name, email, salary):\n",
    "        self.name= name\n",
    "        self.salary=salary\n",
    "        self.email = email\n",
    "        Employee.count +=1\n",
    "\n",
    "    # add helper method --> this methods doesn't depend on the class or on the intance\n",
    "    @staticmethod\n",
    "    def cal_net_sal(salary):\n",
    "        # print(salary)\n",
    "        return salary* .8\n",
    "\n",
    "emp = Employee(\"Abbass\", \"Abbass@gmail.com\", 12424)\n",
    "print(emp.cal_net_sal(emp.salary))\n",
    "print(Employee.cal_net_sal(emp.salary))\n",
    "\n",
    "print(Employee.cal_net_sal(1223331331))\n"
   ],
   "id": "ce2b7b7948bef771",
   "outputs": [
    {
     "name": "stdout",
     "output_type": "stream",
     "text": [
      "12424\n",
      "9939.2\n",
      "12424\n",
      "9939.2\n",
      "1223331331\n",
      "978665064.8000001\n"
     ]
    }
   ],
   "execution_count": 54
  },
  {
   "metadata": {},
   "cell_type": "code",
   "outputs": [],
   "execution_count": null,
   "source": "",
   "id": "6df5e538a61259b3"
  }
 ],
 "metadata": {
  "kernelspec": {
   "display_name": "Python 3",
   "language": "python",
   "name": "python3"
  },
  "language_info": {
   "codemirror_mode": {
    "name": "ipython",
    "version": 2
   },
   "file_extension": ".py",
   "mimetype": "text/x-python",
   "name": "python",
   "nbconvert_exporter": "python",
   "pygments_lexer": "ipython2",
   "version": "2.7.6"
  }
 },
 "nbformat": 4,
 "nbformat_minor": 5
}
