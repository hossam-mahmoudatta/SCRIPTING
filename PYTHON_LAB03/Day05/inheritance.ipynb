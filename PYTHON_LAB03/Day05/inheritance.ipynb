{
 "cells": [
  {
   "cell_type": "code",
   "id": "initial_id",
   "metadata": {
    "collapsed": true,
    "ExecuteTime": {
     "end_time": "2025-01-04T09:48:07.530659Z",
     "start_time": "2025-01-04T09:48:07.525672Z"
    }
   },
   "source": [
    "# all classes (built-in) or userdefine are explictlity inherits from object class\n",
    "\n",
    "\n",
    "class Person:\n",
    "    def __init__(self, name, age):\n",
    "        self.name = name\n",
    "        self.age = age\n",
    "\n",
    "    def speak(self):\n",
    "        print(f'My name is {self.name} and I am {self.age} years old.')\n",
    "\n",
    "p = Person('John', 36)\n",
    "print(isinstance(p, object))"
   ],
   "outputs": [
    {
     "name": "stdout",
     "output_type": "stream",
     "text": [
      "True\n"
     ]
    }
   ],
   "execution_count": 1
  },
  {
   "metadata": {},
   "cell_type": "code",
   "outputs": [],
   "execution_count": null,
   "source": "",
   "id": "32e88712a76c3f2f"
  },
  {
   "metadata": {},
   "cell_type": "markdown",
   "source": "<h1 style='color:yellow; text-align:center'>Inheritance </h1>",
   "id": "7cc27522ed5b6cb9"
  },
  {
   "metadata": {
    "ExecuteTime": {
     "end_time": "2025-01-04T09:51:37.703679Z",
     "start_time": "2025-01-04T09:51:37.696632Z"
    }
   },
   "cell_type": "code",
   "source": [
    "class Parent:\n",
    "    pass\n",
    "\n",
    "class Child(Parent):\n",
    "    pass\n",
    "\n",
    "c = Child()\n",
    "print(isinstance(c, Parent))"
   ],
   "id": "634c2612fb19012c",
   "outputs": [
    {
     "name": "stdout",
     "output_type": "stream",
     "text": [
      "True\n"
     ]
    }
   ],
   "execution_count": 2
  },
  {
   "metadata": {
    "ExecuteTime": {
     "end_time": "2025-01-04T09:52:12.043480Z",
     "start_time": "2025-01-04T09:52:11.728696Z"
    }
   },
   "cell_type": "code",
   "source": [
    "class Parent:\n",
    "    def __init__(self, name):\n",
    "        self.name = name\n",
    "\n",
    "class Child(Parent):\n",
    "    pass\n",
    "\n",
    "c = Child()\n",
    "\n",
    "# when you try to create an object\n",
    "# 1- check if class has constructor  ==> then call it\n",
    "# if not --> check if class parent --> if patent has constructor then it will call it."
   ],
   "id": "ae984a6032871797",
   "outputs": [
    {
     "ename": "TypeError",
     "evalue": "Parent.__init__() missing 1 required positional argument: 'name'",
     "output_type": "error",
     "traceback": [
      "\u001B[0;31m---------------------------------------------------------------------------\u001B[0m",
      "\u001B[0;31mTypeError\u001B[0m                                 Traceback (most recent call last)",
      "Cell \u001B[0;32mIn[3], line 8\u001B[0m\n\u001B[1;32m      5\u001B[0m \u001B[38;5;28;01mclass\u001B[39;00m \u001B[38;5;21;01mChild\u001B[39;00m(Parent):\n\u001B[1;32m      6\u001B[0m     \u001B[38;5;28;01mpass\u001B[39;00m\n\u001B[0;32m----> 8\u001B[0m c \u001B[38;5;241m=\u001B[39m \u001B[43mChild\u001B[49m\u001B[43m(\u001B[49m\u001B[43m)\u001B[49m\n",
      "\u001B[0;31mTypeError\u001B[0m: Parent.__init__() missing 1 required positional argument: 'name'"
     ]
    }
   ],
   "execution_count": 3
  },
  {
   "metadata": {
    "ExecuteTime": {
     "end_time": "2025-01-04T09:53:52.729422Z",
     "start_time": "2025-01-04T09:53:52.714687Z"
    }
   },
   "cell_type": "code",
   "source": [
    "c = Child(\"name\") # call parent constructor\n",
    "print(c.__dict__)"
   ],
   "id": "1be4c57d503cffd6",
   "outputs": [
    {
     "name": "stdout",
     "output_type": "stream",
     "text": [
      "{'name': 'name'}\n"
     ]
    }
   ],
   "execution_count": 4
  },
  {
   "metadata": {
    "ExecuteTime": {
     "end_time": "2025-01-04T09:54:47.141746Z",
     "start_time": "2025-01-04T09:54:47.134835Z"
    }
   },
   "cell_type": "code",
   "source": [
    "class Parent:\n",
    "    def __init__(self, name):\n",
    "        self.name = name\n",
    "\n",
    "    def speak(self):\n",
    "        print(f\"My name is {self.name}\")\n",
    "\n",
    "class Child(Parent):\n",
    "    pass\n",
    "\n",
    "c = Child(\"Ahmed\")\n",
    "c.speak()"
   ],
   "id": "89519798e2281bb1",
   "outputs": [
    {
     "name": "stdout",
     "output_type": "stream",
     "text": [
      "My name is Ahmed\n"
     ]
    }
   ],
   "execution_count": 5
  },
  {
   "metadata": {},
   "cell_type": "code",
   "outputs": [],
   "execution_count": null,
   "source": "",
   "id": "c8bcea8bd9843b7f"
  },
  {
   "metadata": {},
   "cell_type": "markdown",
   "source": "<h2> check this  </h2>",
   "id": "6954c4851d79cc93"
  },
  {
   "metadata": {
    "ExecuteTime": {
     "end_time": "2025-01-04T09:55:24.441776Z",
     "start_time": "2025-01-04T09:55:24.416164Z"
    }
   },
   "cell_type": "code",
   "source": [
    "class Parent:\n",
    "    def __init__(self, name):\n",
    "        self.name = name\n",
    "\n",
    "class Child(Parent):\n",
    "    def __init__(self, age):\n",
    "        self.age = age\n",
    "\n",
    "c = Child()"
   ],
   "id": "cb26bfb0392e448a",
   "outputs": [
    {
     "ename": "TypeError",
     "evalue": "Child.__init__() missing 1 required positional argument: 'age'",
     "output_type": "error",
     "traceback": [
      "\u001B[0;31m---------------------------------------------------------------------------\u001B[0m",
      "\u001B[0;31mTypeError\u001B[0m                                 Traceback (most recent call last)",
      "Cell \u001B[0;32mIn[6], line 9\u001B[0m\n\u001B[1;32m      6\u001B[0m     \u001B[38;5;28;01mdef\u001B[39;00m \u001B[38;5;21m__init__\u001B[39m(\u001B[38;5;28mself\u001B[39m, age):\n\u001B[1;32m      7\u001B[0m         \u001B[38;5;28mself\u001B[39m\u001B[38;5;241m.\u001B[39mage \u001B[38;5;241m=\u001B[39m age\n\u001B[0;32m----> 9\u001B[0m c \u001B[38;5;241m=\u001B[39m \u001B[43mChild\u001B[49m\u001B[43m(\u001B[49m\u001B[43m)\u001B[49m\n",
      "\u001B[0;31mTypeError\u001B[0m: Child.__init__() missing 1 required positional argument: 'age'"
     ]
    }
   ],
   "execution_count": 6
  },
  {
   "metadata": {
    "ExecuteTime": {
     "end_time": "2025-01-04T09:55:53.823231Z",
     "start_time": "2025-01-04T09:55:53.811508Z"
    }
   },
   "cell_type": "code",
   "source": [
    "class Parent:\n",
    "    def __init__(self, name):\n",
    "        self.name = name\n",
    "    def speak(self):\n",
    "        print(f\"My name is {self.name}\")\n",
    "\n",
    "class Child(Parent):\n",
    "    def __init__(self, age):\n",
    "        self.age = age\n",
    "\n",
    "c= Child(15)\n",
    "print(c.__dict__)"
   ],
   "id": "a12c2cba429b4c01",
   "outputs": [
    {
     "name": "stdout",
     "output_type": "stream",
     "text": [
      "{'age': 15}\n"
     ]
    }
   ],
   "execution_count": 7
  },
  {
   "metadata": {
    "ExecuteTime": {
     "end_time": "2025-01-04T09:56:19.467242Z",
     "start_time": "2025-01-04T09:56:19.438697Z"
    }
   },
   "cell_type": "code",
   "source": "c.speak()",
   "id": "5a59d7355a73e416",
   "outputs": [
    {
     "ename": "AttributeError",
     "evalue": "'Child' object has no attribute 'name'",
     "output_type": "error",
     "traceback": [
      "\u001B[0;31m---------------------------------------------------------------------------\u001B[0m",
      "\u001B[0;31mAttributeError\u001B[0m                            Traceback (most recent call last)",
      "Cell \u001B[0;32mIn[8], line 1\u001B[0m\n\u001B[0;32m----> 1\u001B[0m \u001B[43mc\u001B[49m\u001B[38;5;241;43m.\u001B[39;49m\u001B[43mspeak\u001B[49m\u001B[43m(\u001B[49m\u001B[43m)\u001B[49m\n",
      "Cell \u001B[0;32mIn[7], line 5\u001B[0m, in \u001B[0;36mParent.speak\u001B[0;34m(self)\u001B[0m\n\u001B[1;32m      4\u001B[0m \u001B[38;5;28;01mdef\u001B[39;00m \u001B[38;5;21mspeak\u001B[39m(\u001B[38;5;28mself\u001B[39m):\n\u001B[0;32m----> 5\u001B[0m     \u001B[38;5;28mprint\u001B[39m(\u001B[38;5;124mf\u001B[39m\u001B[38;5;124m\"\u001B[39m\u001B[38;5;124mMy name is \u001B[39m\u001B[38;5;132;01m{\u001B[39;00m\u001B[38;5;28;43mself\u001B[39;49m\u001B[38;5;241;43m.\u001B[39;49m\u001B[43mname\u001B[49m\u001B[38;5;132;01m}\u001B[39;00m\u001B[38;5;124m\"\u001B[39m)\n",
      "\u001B[0;31mAttributeError\u001B[0m: 'Child' object has no attribute 'name'"
     ]
    }
   ],
   "execution_count": 8
  },
  {
   "metadata": {
    "ExecuteTime": {
     "end_time": "2025-01-04T09:58:05.677833Z",
     "start_time": "2025-01-04T09:58:05.657699Z"
    }
   },
   "cell_type": "code",
   "source": [
    "# I need to explicitly call parent constructor\n",
    "class Parent:\n",
    "    def __init__(self, name):\n",
    "        self.name = name\n",
    "    def speak(self):\n",
    "        print(f\"My name is {self.name}\")\n",
    "\n",
    "class Child(Parent):\n",
    "    def __init__(self, name, age):\n",
    "        self.age = age\n",
    "        super().__init__(name) # this calls parent constructor\n",
    "\n",
    "c= Child(\"ahmed\", 15)\n",
    "print(c.__dict__)\n",
    "c.speak()"
   ],
   "id": "b101013ebf4c19e0",
   "outputs": [
    {
     "name": "stdout",
     "output_type": "stream",
     "text": [
      "{'age': 15, 'name': 'ahmed'}\n",
      "My name is ahmed\n"
     ]
    }
   ],
   "execution_count": 9
  },
  {
   "metadata": {
    "ExecuteTime": {
     "end_time": "2025-01-04T09:59:19.429476Z",
     "start_time": "2025-01-04T09:59:19.409611Z"
    }
   },
   "cell_type": "code",
   "source": [
    "class Parent:\n",
    "    def __init__(self, name):\n",
    "        self.name = name\n",
    "    def speak(self):\n",
    "        print(f\"My name is {self.name}\")\n",
    "\n",
    "class Child(Parent):\n",
    "    def __init__(self, name, age):\n",
    "        self.age = age\n",
    "        super().__init__(name) # this calls parent constructor\n",
    "\n",
    "    def speak(self):\n",
    "        # call parent speak method\n",
    "        print(f\"My age is {self.age}\")\n",
    "\n",
    "c= Child(\"ahmed\", 15)\n",
    "print(c.__dict__)\n",
    "c.speak()"
   ],
   "id": "cdb99a1aa26b4530",
   "outputs": [
    {
     "name": "stdout",
     "output_type": "stream",
     "text": [
      "{'age': 15, 'name': 'ahmed'}\n",
      "My age is 15\n"
     ]
    }
   ],
   "execution_count": 10
  },
  {
   "metadata": {
    "ExecuteTime": {
     "end_time": "2025-01-04T10:00:14.710432Z",
     "start_time": "2025-01-04T10:00:14.688777Z"
    }
   },
   "cell_type": "code",
   "source": [
    "class Parent:\n",
    "    def __init__(self, name):\n",
    "        self.name = name\n",
    "    def speak(self):\n",
    "        print(f\"My name is {self.name}\")\n",
    "\n",
    "class Child(Parent):\n",
    "    def __init__(self, name, age):\n",
    "        self.age = age\n",
    "        super().__init__(name) # this calls parent constructor\n",
    "\n",
    "    def speak(self):\n",
    "        # call parent speak method\n",
    "        super().speak()\n",
    "        print(f\"My age is {self.age}\")\n",
    "\n",
    "c= Child(\"ahmed\", 15)\n",
    "print(c.__dict__)\n",
    "c.speak()"
   ],
   "id": "cf570bcb3c142171",
   "outputs": [
    {
     "name": "stdout",
     "output_type": "stream",
     "text": [
      "{'age': 15, 'name': 'ahmed'}\n",
      "My name is ahmed\n",
      "My age is 15\n"
     ]
    }
   ],
   "execution_count": 11
  },
  {
   "metadata": {},
   "cell_type": "code",
   "outputs": [],
   "execution_count": null,
   "source": "",
   "id": "7d88267542fdd557"
  },
  {
   "metadata": {},
   "cell_type": "markdown",
   "source": [
    "<h4 style=\"color:yellow\">\n",
    "overriding --> 2 methods have the same name (function signtature )in the 2 classes have (inheritance relation  the method in child does something differs from the one  the in the parent\n",
    "</h4>"
   ],
   "id": "997ceac81a3b0191"
  },
  {
   "metadata": {},
   "cell_type": "code",
   "outputs": [],
   "execution_count": null,
   "source": "",
   "id": "42b8c1928d229642"
  },
  {
   "metadata": {},
   "cell_type": "markdown",
   "source": [
    "<h4 style=\"color:pink\">Overloading --> 2 functions in the same class ---> the 2 functions have the same name --> but different in no, of params and type of parms\n",
    "</h4>"
   ],
   "id": "e17ff53eff877b6"
  },
  {
   "metadata": {
    "ExecuteTime": {
     "end_time": "2025-01-04T10:06:04.507603Z",
     "start_time": "2025-01-04T10:06:04.479950Z"
    }
   },
   "cell_type": "code",
   "source": [
    "class Person:\n",
    "    def speak(self):\n",
    "        print(f\"I am a person \")\n",
    "\n",
    "    def speak(self, message):\n",
    "        print(f\"I am a person {message}\")\n",
    "\n",
    "p = Person()\n",
    "p.speak()"
   ],
   "id": "fe5f83bf4570a6df",
   "outputs": [
    {
     "ename": "TypeError",
     "evalue": "Person.speak() missing 1 required positional argument: 'message'",
     "output_type": "error",
     "traceback": [
      "\u001B[0;31m---------------------------------------------------------------------------\u001B[0m",
      "\u001B[0;31mTypeError\u001B[0m                                 Traceback (most recent call last)",
      "Cell \u001B[0;32mIn[12], line 9\u001B[0m\n\u001B[1;32m      6\u001B[0m         \u001B[38;5;28mprint\u001B[39m(\u001B[38;5;124mf\u001B[39m\u001B[38;5;124m\"\u001B[39m\u001B[38;5;124mI am a person \u001B[39m\u001B[38;5;132;01m{\u001B[39;00mmessage\u001B[38;5;132;01m}\u001B[39;00m\u001B[38;5;124m\"\u001B[39m)\n\u001B[1;32m      8\u001B[0m p \u001B[38;5;241m=\u001B[39m Person()\n\u001B[0;32m----> 9\u001B[0m \u001B[43mp\u001B[49m\u001B[38;5;241;43m.\u001B[39;49m\u001B[43mspeak\u001B[49m\u001B[43m(\u001B[49m\u001B[43m)\u001B[49m\n",
      "\u001B[0;31mTypeError\u001B[0m: Person.speak() missing 1 required positional argument: 'message'"
     ]
    }
   ],
   "execution_count": 12
  },
  {
   "metadata": {
    "ExecuteTime": {
     "end_time": "2025-01-04T10:07:00.181273Z",
     "start_time": "2025-01-04T10:07:00.176611Z"
    }
   },
   "cell_type": "code",
   "source": "p.speak(\"Hiii\")",
   "id": "3e00d4ac96b75542",
   "outputs": [
    {
     "name": "stdout",
     "output_type": "stream",
     "text": [
      "I am a person Hiii\n"
     ]
    }
   ],
   "execution_count": 13
  },
  {
   "metadata": {},
   "cell_type": "code",
   "outputs": [],
   "execution_count": null,
   "source": [
    "class Person:\n",
    "\n",
    "    def speak(self, message=\"\"):\n",
    "        print(f\"I am a person {message}\")\n",
    "\n",
    "p = Person()\n",
    "p.speak()"
   ],
   "id": "2c104e03f51db6ac"
  },
  {
   "metadata": {},
   "cell_type": "markdown",
   "source": "<h1 style='color:green; text-align:center;'> Multiple Inheritance </h1>",
   "id": "7b45bc98f9e5dacc"
  },
  {
   "metadata": {
    "ExecuteTime": {
     "end_time": "2025-01-04T10:16:47.201468Z",
     "start_time": "2025-01-04T10:16:47.194525Z"
    }
   },
   "cell_type": "code",
   "source": [
    "class A:\n",
    "    pass\n",
    "\n",
    "class B:\n",
    "    pass\n",
    "\n",
    "class C(A,B):\n",
    "    pass\n",
    "\n",
    "newobj = C()\n",
    "print(isinstance(newobj, A), isinstance(newobj, B))"
   ],
   "id": "cf0c1a5dd30006ab",
   "outputs": [
    {
     "name": "stdout",
     "output_type": "stream",
     "text": [
      "True True\n"
     ]
    }
   ],
   "execution_count": 15
  },
  {
   "metadata": {
    "ExecuteTime": {
     "end_time": "2025-01-04T10:17:28.863181Z",
     "start_time": "2025-01-04T10:17:28.858469Z"
    }
   },
   "cell_type": "code",
   "source": [
    "class A:\n",
    "    def __init__(self):\n",
    "        print(f\"A constructor called\")\n",
    "\n",
    "class B:\n",
    "    pass\n",
    "\n",
    "class C(A,B):\n",
    "    pass\n",
    "\n",
    "obj = C()"
   ],
   "id": "f410ca4ac142d331",
   "outputs": [
    {
     "name": "stdout",
     "output_type": "stream",
     "text": [
      "A constructor called\n"
     ]
    }
   ],
   "execution_count": 16
  },
  {
   "metadata": {
    "ExecuteTime": {
     "end_time": "2025-01-04T10:18:59.727720Z",
     "start_time": "2025-01-04T10:18:59.715030Z"
    }
   },
   "cell_type": "code",
   "source": [
    "class A:\n",
    "    def __init__(self):\n",
    "        print(f\"A constructor called\")\n",
    "\n",
    "class B:\n",
    "    def __init__(self):\n",
    "        print('B constructor called')\n",
    "\n",
    "class C(A,B):\n",
    "    pass\n",
    "\n",
    "obj = C()"
   ],
   "id": "fa357c0e4bddcb3b",
   "outputs": [
    {
     "name": "stdout",
     "output_type": "stream",
     "text": [
      "A constructor called\n"
     ]
    }
   ],
   "execution_count": 17
  },
  {
   "metadata": {
    "ExecuteTime": {
     "end_time": "2025-01-04T10:21:27.759526Z",
     "start_time": "2025-01-04T10:21:27.741772Z"
    }
   },
   "cell_type": "code",
   "source": [
    "class A:\n",
    "    def __init__(self):\n",
    "        print(f\"A constructor called\")\n",
    "\n",
    "    def afunciton(self):\n",
    "        print(\"a function called \")\n",
    "\n",
    "class B:\n",
    "    def __init__(self):\n",
    "        print('B constructor called')\n",
    "\n",
    "    def bfunciton(self):\n",
    "        print(\"b function called \")\n",
    "\n",
    "class C(B,A):\n",
    "    pass\n",
    "\n",
    "obj = C()\n",
    "obj.afunciton()\n",
    "obj.bfunciton()"
   ],
   "id": "8e4e1ce2e2c9e693",
   "outputs": [
    {
     "name": "stdout",
     "output_type": "stream",
     "text": [
      "B constructor called\n",
      "a function called \n",
      "b function called \n"
     ]
    }
   ],
   "execution_count": 19
  },
  {
   "metadata": {
    "ExecuteTime": {
     "end_time": "2025-01-04T10:22:29.086600Z",
     "start_time": "2025-01-04T10:22:29.079471Z"
    }
   },
   "cell_type": "code",
   "source": [
    "class A:\n",
    "    def __init__(self):\n",
    "        print(f\"A constructor called\")\n",
    "\n",
    "    def afunciton(self):\n",
    "        print(\"a function called \")\n",
    "\n",
    "class B:\n",
    "    def __init__(self):\n",
    "        print('B constructor called')\n",
    "\n",
    "    def bfunciton(self):\n",
    "        print(\"b function called \")\n",
    "\n",
    "class C(B,A):\n",
    "    def __init__(self):\n",
    "        print(\"=== c constructor called\")\n",
    "\n",
    "\n",
    "obj =C()\n"
   ],
   "id": "8e12a3978e4cad81",
   "outputs": [
    {
     "name": "stdout",
     "output_type": "stream",
     "text": [
      "=== c constructor called\n"
     ]
    }
   ],
   "execution_count": 20
  },
  {
   "metadata": {},
   "cell_type": "markdown",
   "source": "#I need to call parent constructor",
   "id": "c4033b651b76bb7d"
  },
  {
   "metadata": {
    "ExecuteTime": {
     "end_time": "2025-01-04T10:23:24.699552Z",
     "start_time": "2025-01-04T10:23:24.675861Z"
    }
   },
   "cell_type": "code",
   "source": [
    "class A:\n",
    "    def __init__(self):\n",
    "        print(f\"A constructor called\")\n",
    "\n",
    "    def afunciton(self):\n",
    "        print(\"a function called \")\n",
    "\n",
    "class B:\n",
    "    def __init__(self):\n",
    "        print('B constructor called')\n",
    "\n",
    "    def bfunciton(self):\n",
    "        print(\"b function called \")\n",
    "\n",
    "class C(B,A):\n",
    "    def __init__(self):\n",
    "        super().__init__()\n",
    "        # explicitly call the other parent constructor\n",
    "        A.__init__(self)\n",
    "        print(\"=== c constructor called\")\n",
    "\n",
    "\n",
    "obj =C()"
   ],
   "id": "8aafd78616c9c01d",
   "outputs": [
    {
     "name": "stdout",
     "output_type": "stream",
     "text": [
      "B constructor called\n",
      "A constructor called\n",
      "=== c constructor called\n"
     ]
    }
   ],
   "execution_count": 22
  },
  {
   "metadata": {},
   "cell_type": "code",
   "outputs": [],
   "execution_count": null,
   "source": "",
   "id": "8263b26ae1e9fdbf"
  }
 ],
 "metadata": {
  "kernelspec": {
   "display_name": "Python 3",
   "language": "python",
   "name": "python3"
  },
  "language_info": {
   "codemirror_mode": {
    "name": "ipython",
    "version": 2
   },
   "file_extension": ".py",
   "mimetype": "text/x-python",
   "name": "python",
   "nbconvert_exporter": "python",
   "pygments_lexer": "ipython2",
   "version": "2.7.6"
  }
 },
 "nbformat": 4,
 "nbformat_minor": 5
}
