{
 "cells": [
  {
   "metadata": {},
   "cell_type": "markdown",
   "source": "<h2 style=\"color:pink; text-align:center\"> Abstraction </h2>\n",
   "id": "981f25acdd62dfea"
  },
  {
   "metadata": {},
   "cell_type": "markdown",
   "source": [
    " <pre> to construct abstract class\n",
    " <span style='color:green'>1- inherit from class ABC [Abstract Base Class] </span>\n",
    " <span style='color:orange'>2-define at least one abstract method --> using decorator @abstractmethod </span>\n",
    "\n",
    " </pre>"
   ],
   "id": "5ae9bd04d2a9fa81"
  },
  {
   "metadata": {
    "ExecuteTime": {
     "end_time": "2025-01-05T08:58:14.241617Z",
     "start_time": "2025-01-05T08:58:13.868721Z"
    }
   },
   "cell_type": "code",
   "source": [
    "from abc import  ABC, abstractmethod\n",
    "class Person(ABC):\n",
    "    @abstractmethod\n",
    "    def speak(self):\n",
    "        pass\n",
    "\n",
    "\n",
    "p = Person()\n",
    "\"\"\"\n",
    "TypeError: Can't instantiate abstract class Person without an implementation\n",
    "for abstract method 'speak'\n",
    "\"\"\""
   ],
   "id": "879d6dec5a37e6d7",
   "outputs": [
    {
     "ename": "TypeError",
     "evalue": "Can't instantiate abstract class Person without an implementation for abstract method 'speak'",
     "output_type": "error",
     "traceback": [
      "\u001B[0;31m---------------------------------------------------------------------------\u001B[0m",
      "\u001B[0;31mTypeError\u001B[0m                                 Traceback (most recent call last)",
      "Cell \u001B[0;32mIn[1], line 8\u001B[0m\n\u001B[1;32m      3\u001B[0m     \u001B[38;5;129m@abstractmethod\u001B[39m\n\u001B[1;32m      4\u001B[0m     \u001B[38;5;28;01mdef\u001B[39;00m \u001B[38;5;21mspeak\u001B[39m(\u001B[38;5;28mself\u001B[39m):\n\u001B[1;32m      5\u001B[0m         \u001B[38;5;28;01mpass\u001B[39;00m\n\u001B[0;32m----> 8\u001B[0m p \u001B[38;5;241m=\u001B[39m \u001B[43mPerson\u001B[49m\u001B[43m(\u001B[49m\u001B[43m)\u001B[49m\n",
      "\u001B[0;31mTypeError\u001B[0m: Can't instantiate abstract class Person without an implementation for abstract method 'speak'"
     ]
    }
   ],
   "execution_count": 1
  },
  {
   "metadata": {
    "ExecuteTime": {
     "end_time": "2025-01-05T08:59:39.796199Z",
     "start_time": "2025-01-05T08:59:39.787871Z"
    }
   },
   "cell_type": "code",
   "source": [
    "class Teacher(Person):\n",
    "    def speak(self):\n",
    "        print(\"I am a Teacher\")\n",
    "\n",
    "t = Teacher()\n",
    "t.speak()\n",
    "print(isinstance(t, Person))"
   ],
   "id": "9a6ce7abded50d53",
   "outputs": [
    {
     "name": "stdout",
     "output_type": "stream",
     "text": [
      "I am a Teacher\n",
      "True\n"
     ]
    }
   ],
   "execution_count": 3
  },
  {
   "metadata": {},
   "cell_type": "code",
   "outputs": [],
   "execution_count": null,
   "source": "",
   "id": "5e9d0f3d76dfb764"
  },
  {
   "metadata": {},
   "cell_type": "markdown",
   "source": "# check this",
   "id": "157c3b55a77408ce"
  },
  {
   "metadata": {
    "ExecuteTime": {
     "end_time": "2025-01-05T09:00:44.687888Z",
     "start_time": "2025-01-05T09:00:44.674604Z"
    }
   },
   "cell_type": "code",
   "source": [
    "class Shape(ABC):\n",
    "    def info(self):\n",
    "        print(\"this is a basic shape \")\n",
    "\n",
    "ss = Shape()"
   ],
   "id": "2def7776e9b9c5eb",
   "outputs": [],
   "execution_count": 4
  },
  {
   "metadata": {},
   "cell_type": "code",
   "outputs": [],
   "execution_count": null,
   "source": "",
   "id": "b291fdded9dcc702"
  },
  {
   "metadata": {
    "ExecuteTime": {
     "end_time": "2025-01-05T09:01:46.704520Z",
     "start_time": "2025-01-05T09:01:46.692417Z"
    }
   },
   "cell_type": "code",
   "source": [
    "class Shape2:\n",
    "    @abstractmethod\n",
    "    def info(self):\n",
    "        pass\n",
    "\n",
    "ss2 = Shape2()\n",
    "\n"
   ],
   "id": "35167381f2506013",
   "outputs": [],
   "execution_count": 5
  },
  {
   "metadata": {},
   "cell_type": "code",
   "outputs": [],
   "execution_count": null,
   "source": "",
   "id": "affecad556a596e6"
  }
 ],
 "metadata": {
  "kernelspec": {
   "display_name": "Python 3",
   "language": "python",
   "name": "python3"
  },
  "language_info": {
   "codemirror_mode": {
    "name": "ipython",
    "version": 2
   },
   "file_extension": ".py",
   "mimetype": "text/x-python",
   "name": "python",
   "nbconvert_exporter": "python",
   "pygments_lexer": "ipython2",
   "version": "2.7.6"
  }
 },
 "nbformat": 4,
 "nbformat_minor": 5
}
