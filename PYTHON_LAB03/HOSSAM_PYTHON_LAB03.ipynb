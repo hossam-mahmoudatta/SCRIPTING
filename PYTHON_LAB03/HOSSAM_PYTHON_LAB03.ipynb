{
 "cells": [
  {
   "cell_type": "markdown",
   "metadata": {},
   "source": [
    "<h1 style=\"text-align: center;\">ITI - 4 Month Intensive Program - DevOps</h1>"
   ]
  },
  {
   "cell_type": "markdown",
   "metadata": {},
   "source": [
    "<h2 style=\"text-align: center;\">Python - Lab 03</h2>"
   ]
  },
  {
   "cell_type": "markdown",
   "metadata": {},
   "source": [
    "###########################################################################################"
   ]
  },
  {
   "cell_type": "markdown",
   "metadata": {},
   "source": [
    "###########################################################################################"
   ]
  },
  {
   "cell_type": "markdown",
   "metadata": {},
   "source": [
    "How are data types immutable? Hint: Hashing and Caching and Encryption"
   ]
  },
  {
   "cell_type": "markdown",
   "metadata": {},
   "source": [
    "###########################################################################################"
   ]
  },
  {
   "cell_type": "markdown",
   "metadata": {},
   "source": [
    "###########################################################################################"
   ]
  },
  {
   "cell_type": "markdown",
   "metadata": {},
   "source": [
    "<p style=\"color: Orange\">Question 01: We need to implement a python class that represents the queue data structure.</p>"
   ]
  },
  {
   "cell_type": "code",
   "execution_count": 16,
   "metadata": {},
   "outputs": [],
   "source": [
    "import tkinter as tk\n",
    "from tkinter import simpledialog, messagebox\n",
    "\n",
    "root = tk.Tk() # Create the Tkinter root window\n",
    "root.withdraw()  # Hide the root window\n",
    "\n",
    "def arrayGenerator(length=None, start=None):\n",
    "    retries = 3\n",
    "    attempts = 0\n",
    "    while attempts < retries:\n",
    "        if length is None:\n",
    "            length = simpledialog.askstring(\"Input\", f\"Enter the size of the array (attempts remaining: {retries - attempts}):\")\n",
    "        if start is None:\n",
    "            start = simpledialog.askstring(\"Input\", f\"Enter the start point of the array (attempts remaining {retries - attempts}):\")\n",
    "        \n",
    "        # Check if inputs are valid integers\n",
    "        if length.isdigit() and start.isdigit():\n",
    "            length = int(length)\n",
    "            start = int(start)\n",
    "            \n",
    "            targetArray = []\n",
    "            \n",
    "            # Generate the array\n",
    "            for i in range(start, start + length):\n",
    "                targetArray.append(i)\n",
    "            \n",
    "            # Display the final array in a messagebox\n",
    "            tk.messagebox.showinfo(\"Result\", f\"The array you entered is: {targetArray}\")\n",
    "            # Display the final array\n",
    "            print(\"The array you entered is:\", targetArray)\n",
    "            break\n",
    "        else:\n",
    "            attempts += 1\n",
    "            messagebox.showerror(\"Error\", f\"Invalid inputs. You have {retries - attempts} attempts remaining.\")\n",
    "            length, start = None, None # Reset length and start to re-prompt\n",
    "\n",
    "    if attempts == retries:\n",
    "        messagebox.showwarning(\"Warning\", \"Maximum retries reached. Exiting the program...\")\n",
    "        \n",
    "#############################################\n",
    "# Call the function to start the program\n",
    "\n",
    "# arrayLength = simpledialog.askstring(\"Input\", f\"Enter the size of the array: \")\n",
    "# arrayStart = simpledialog.askstring(\"Input\", f\"Enter the start point of the array: \")\n",
    "arrayLength = None\n",
    "arrayStart = None\n",
    "\n",
    "arrayGenerator(arrayLength, arrayStart)\n",
    "###########################################"
   ]
  },
  {
   "cell_type": "markdown",
   "metadata": {},
   "source": [
    "###########################################################################################"
   ]
  },
  {
   "cell_type": "markdown",
   "metadata": {},
   "source": [
    "###########################################################################################"
   ]
  },
  {
   "cell_type": "markdown",
   "metadata": {},
   "source": [
    "<p style=\"color: Orange\">Question 02: Write a function that takes a number as an argument and if the number divisible by 3 return \"Fizz\" and if it is divisible by 5 return \"buzz\" and if is is divisible by both return \"FizzBuzz\"</p>"
   ]
  },
  {
   "cell_type": "code",
   "execution_count": 24,
   "metadata": {},
   "outputs": [
    {
     "name": "stdout",
     "output_type": "stream",
     "text": [
      "Input 15 is divisible by 3, so FIZZ!\n"
     ]
    }
   ],
   "source": [
    "import tkinter as tk\n",
    "from tkinter import simpledialog\n",
    "\n",
    "root = tk.Tk() # Create the Tkinter root window\n",
    "root.withdraw()  # Hide the root window\n",
    "\n",
    "def arrayGenerator(input=None):\n",
    "    retries = 3\n",
    "    attempts = 0\n",
    "    while attempts < retries:\n",
    "        if input is None:\n",
    "            input = simpledialog.askstring(\"Input\", f\"Enter the value (attempts remaining: {retries - attempts}):\")\n",
    "       \n",
    "            # Check if the input is a valid integer\n",
    "            if input.isdigit():\n",
    "                input = int(input)\n",
    "\n",
    "                if input % 3 == 0 and input % 5 == 0:\n",
    "                    # Display the result in a messagebox\n",
    "                    tk.messagebox.showinfo(\"Result\", f\"Input {input} is divisible by 3 and 5, so FIZZBUZZ!\")\n",
    "                    # Display the result\n",
    "                    print(f\"Input {input} is divisible by 3 and 5, so FIZZBUZZ!\")\n",
    "                    break\n",
    "                \n",
    "                elif (input % 3) == 0:\n",
    "                    # Display the result in a messagebox\n",
    "                    tk.messagebox.showinfo(\"Result\", f\"Input {input} is divisible by 3, so FIZZ!\")\n",
    "                    # Display the result\n",
    "                    print(f\"Input {input} is divisible by 3, so FIZZ!\")\n",
    "                    break\n",
    "                \n",
    "                elif (input % 5) == 0:\n",
    "                    # Display the result in a messagebox\n",
    "                    tk.messagebox.showinfo(\"Result\", f\"Input {input} is divisible by 5, so BUZZ!\")\n",
    "                    # Display the result\n",
    "                    print(f\"Input {input} is divisible by 5, so BUZZ!\")\n",
    "                    break\n",
    "                \n",
    "                else:\n",
    "                    # Display the result in a messagebox\n",
    "                    tk.messagebox.showinfo(\"Result\", f\"Input {input} isn't divisible by 3 or 5, please try a different output.\")\n",
    "                    # Display the result\n",
    "                    print(f\"Input {input} isn't divisible by 3 or 5, please try a different output.\")\n",
    "\n",
    "        else:\n",
    "            attempts += 1\n",
    "            messagebox.showerror(\"Error\", f\"Invalid input. You have {retries - attempts} attempts remaining.\")\n",
    "            input = None # Reset length and start to re-prompt\n",
    "\n",
    "    if attempts == retries:\n",
    "        messagebox.showwarning(\"Warning\", \"Maximum retries reached. Exiting the program...\")\n",
    "        \n",
    "#############################################\n",
    "# Call the function to start the program\n",
    "\n",
    "userInput = None\n",
    "\n",
    "arrayGenerator(userInput)\n",
    "###########################################"
   ]
  },
  {
   "cell_type": "markdown",
   "metadata": {},
   "source": [
    "###########################################################################################"
   ]
  },
  {
   "cell_type": "markdown",
   "metadata": {},
   "source": [
    "###########################################################################################"
   ]
  },
  {
   "cell_type": "markdown",
   "metadata": {},
   "source": [
    "<p style=\"color: Orange\">Question 03: Write a function which has an input of a string from user then it will return the same string reversed</p>"
   ]
  },
  {
   "cell_type": "code",
   "execution_count": 34,
   "metadata": {},
   "outputs": [
    {
     "name": "stdout",
     "output_type": "stream",
     "text": [
      "Original String: Hossam\n",
      "Reversed String: massoH\n"
     ]
    }
   ],
   "source": [
    "import tkinter as tk\n",
    "from tkinter import simpledialog\n",
    "\n",
    "root = tk.Tk() # Create the Tkinter root window\n",
    "root.withdraw()  # Hide the root window\n",
    "\n",
    "def stringReverser(input=None):\n",
    "    retries = 3\n",
    "    attempts = 0\n",
    "    while attempts < retries:\n",
    "        if input is None:\n",
    "            input = simpledialog.askstring(\"Input\", f\"Enter the string (attempts remaining: {retries - attempts}):\")\n",
    "            \n",
    "            if input != \"\":\n",
    "                tk.messagebox.showinfo(\"Result\", f\"Original String: {input}\\nReversed String: {input[::-1]}\")\n",
    "                print(f\"Original String: {input}\\nReversed String: {input[::-1]}\")\n",
    "                break\n",
    "            else:\n",
    "                attempts += 1\n",
    "                messagebox.showerror(\"Error\", f\"Empty String! You have {retries - attempts} attempts remaining.\")\n",
    "                input = None # Reset length and start to re-prompt\n",
    "\n",
    "    if attempts == retries:\n",
    "        messagebox.showwarning(\"Warning\", \"Maximum retries reached. Exiting the program...\")\n",
    "        \n",
    "#############################################\n",
    "# Call the function to start the program\n",
    "\n",
    "userInput = None\n",
    "\n",
    "stringReverser(userInput)\n",
    "###########################################"
   ]
  },
  {
   "cell_type": "markdown",
   "metadata": {},
   "source": [
    "###########################################################################################"
   ]
  },
  {
   "cell_type": "markdown",
   "metadata": {},
   "source": [
    "###########################################################################################"
   ]
  },
  {
   "cell_type": "markdown",
   "metadata": {},
   "source": [
    "<p style=\"color: Orange\">Question 04: Ask the user for his name then confirm that he has entered his name(not an empty string/integers). then proceed to ask him for his email and print all this data (Bonus) check if it is a valid email or not</p>"
   ]
  },
  {
   "cell_type": "code",
   "execution_count": 1,
   "metadata": {},
   "outputs": [
    {
     "name": "stdout",
     "output_type": "stream",
     "text": [
      "Your Name: hossam\n",
      "Let's enter your Gmail hossam\n"
     ]
    },
    {
     "ename": "NameError",
     "evalue": "name 'messagebox' is not defined",
     "output_type": "error",
     "traceback": [
      "\u001b[0;31m---------------------------------------------------------------------------\u001b[0m",
      "\u001b[0;31mNameError\u001b[0m                                 Traceback (most recent call last)",
      "Cell \u001b[0;32mIn[1], line 48\u001b[0m\n\u001b[1;32m     43\u001b[0m \u001b[38;5;66;03m#############################################\u001b[39;00m\n\u001b[1;32m     44\u001b[0m \u001b[38;5;66;03m# Call the function to start the program\u001b[39;00m\n\u001b[1;32m     46\u001b[0m userInput \u001b[38;5;241m=\u001b[39m \u001b[38;5;28;01mNone\u001b[39;00m\n\u001b[0;32m---> 48\u001b[0m \u001b[43mnameChecker\u001b[49m\u001b[43m(\u001b[49m\u001b[43muserInput\u001b[49m\u001b[43m)\u001b[49m\n\u001b[1;32m     49\u001b[0m \u001b[38;5;66;03m###########################################\u001b[39;00m\n",
      "Cell \u001b[0;32mIn[1], line 31\u001b[0m, in \u001b[0;36mnameChecker\u001b[0;34m(input)\u001b[0m\n\u001b[1;32m     29\u001b[0m     \u001b[38;5;28;01melse\u001b[39;00m:\n\u001b[1;32m     30\u001b[0m         attempts \u001b[38;5;241m+\u001b[39m\u001b[38;5;241m=\u001b[39m \u001b[38;5;241m1\u001b[39m\n\u001b[0;32m---> 31\u001b[0m         \u001b[43mmessagebox\u001b[49m\u001b[38;5;241m.\u001b[39mshowerror(\u001b[38;5;124m\"\u001b[39m\u001b[38;5;124mError\u001b[39m\u001b[38;5;124m\"\u001b[39m, \u001b[38;5;124mf\u001b[39m\u001b[38;5;124m\"\u001b[39m\u001b[38;5;124mInvalid Gmail Format! You have \u001b[39m\u001b[38;5;132;01m{\u001b[39;00mretries\u001b[38;5;250m \u001b[39m\u001b[38;5;241m-\u001b[39m\u001b[38;5;250m \u001b[39mattempts\u001b[38;5;132;01m}\u001b[39;00m\u001b[38;5;124m attempts remaining.\u001b[39m\u001b[38;5;124m\"\u001b[39m)\n\u001b[1;32m     32\u001b[0m         userGmail \u001b[38;5;241m=\u001b[39m \u001b[38;5;28;01mNone\u001b[39;00m \u001b[38;5;66;03m# Reset length and start to re-prompt\u001b[39;00m\n\u001b[1;32m     34\u001b[0m \u001b[38;5;28;01mbreak\u001b[39;00m\n",
      "\u001b[0;31mNameError\u001b[0m: name 'messagebox' is not defined"
     ]
    }
   ],
   "source": [
    "import tkinter as tk\n",
    "from tkinter import simpledialog\n",
    "\n",
    "root = tk.Tk() # Create the Tkinter root window\n",
    "root.withdraw()  # Hide the root window\n",
    "\n",
    "def nameChecker(input=None):\n",
    "    retries = 3\n",
    "    attempts = 0\n",
    "    while attempts < retries:\n",
    "        if input is None:\n",
    "            input = simpledialog.askstring(\"Input\", f\"Enter your name (attempts remaining: {retries - attempts}):\")\n",
    "            \n",
    "            if input.isalpha() != False:\n",
    "                attempts = 0\n",
    "                tk.messagebox.showinfo(\"Result\", f\"Your Name: {input}\")\n",
    "                tk.messagebox.showinfo(\"Result\", f\"Let's enter your Gmail {input}\")\n",
    "                print(f\"Your Name: {input}\")\n",
    "                print(f\"Let's enter your Gmail {input}\")\n",
    "                \n",
    "                while attempts < retries:    \n",
    "                    userGmail = simpledialog.askstring(\"Input\", f\"Enter your gmail (attempts remaining: {retries - attempts}):\")\n",
    "                    if userGmail.endswith(\"@gmail.com\"):\n",
    "                        tk.messagebox.showinfo(\"Result\", f\"Your Name: {input}\\nYour Gmail: {userGmail}\")\n",
    "                        tk.messagebox.showinfo(\"Result\", f\"Have a Nice Day {input}!\")\n",
    "                        print(f\"Your Name: {input}\\nYour Gmail: {userGmail}\")\n",
    "                        print(f\"Have a Nice Day {input}!\")\n",
    "                        break\n",
    "                    else:\n",
    "                        attempts += 1\n",
    "                        messagebox.showerror(\"Error\", f\"Invalid Gmail Format! You have {retries - attempts} attempts remaining.\")\n",
    "                        userGmail = None # Reset length and start to re-prompt\n",
    "                \n",
    "                break\n",
    "            else:\n",
    "                attempts += 1\n",
    "                messagebox.showerror(\"Error\", f\"Empty String! You have {retries - attempts} attempts remaining.\")\n",
    "                input = None # Reset length and start to re-prompt\n",
    "\n",
    "    if attempts == retries:\n",
    "        messagebox.showwarning(\"Warning\", \"Maximum retries reached. Exiting the program...\")\n",
    "        \n",
    "#############################################\n",
    "# Call the function to start the program\n",
    "\n",
    "userInput = None\n",
    "\n",
    "nameChecker(userInput)\n",
    "###########################################"
   ]
  },
  {
   "cell_type": "markdown",
   "metadata": {},
   "source": [
    "###########################################################################################"
   ]
  },
  {
   "cell_type": "markdown",
   "metadata": {},
   "source": [
    "###########################################################################################"
   ]
  },
  {
   "cell_type": "markdown",
   "metadata": {},
   "source": [
    "<p style=\"color: Orange\">Question 05: Write a function that takes a string and prints the longest alphabetical ordered substring occurred For example, if the string is 'abdulrahman' then the output is: Longest substring in alphabetical order is: abdu</p>"
   ]
  },
  {
   "cell_type": "code",
   "execution_count": 2,
   "metadata": {},
   "outputs": [
    {
     "name": "stdout",
     "output_type": "stream",
     "text": [
      "String you entered: sdfsdf\n",
      "['s', 'dfs']\n",
      "dfs\n"
     ]
    }
   ],
   "source": [
    "import tkinter as tk\n",
    "from tkinter import simpledialog\n",
    "\n",
    "root = tk.Tk() # Create the Tkinter root window\n",
    "root.withdraw()  # Hide the root window\n",
    "\n",
    "def longestString(inputString=None):\n",
    "    retries = 3\n",
    "    attempts = 0\n",
    "    while attempts < retries:\n",
    "        if inputString is None:\n",
    "            inputString = simpledialog.askstring(\"Input\", f\"Enter string (attempts remaining: {retries - attempts}):\")\n",
    "            \n",
    "            if inputString.isalpha() != False:\n",
    "                attempts = 0\n",
    "                tk.messagebox.showinfo(\"Result\", f\"String you entered: {inputString}\")\n",
    "                print(f\"String you entered: {inputString}\")\n",
    "                \n",
    "                listWords = []\n",
    "                word = inputString[0]\n",
    "                for i in range(1, len(inputString)):\n",
    "                    if inputString[i] >= inputString[i - 1]:\n",
    "                        word += inputString[i]\n",
    "                    else:\n",
    "                        listWords.append(word)\n",
    "                        word = inputString[i]\n",
    "                        \n",
    "                print(listWords)\n",
    "                print(max(listWords, key=len))\n",
    "                \n",
    "                        \n",
    "                break\n",
    "            else:\n",
    "                attempts += 1\n",
    "                messagebox.showerror(\"Error\", f\"Empty String! You have {retries - attempts} attempts remaining.\")\n",
    "                input = None # Reset length and start to re-prompt\n",
    "\n",
    "    if attempts == retries:\n",
    "        messagebox.showwarning(\"Warning\", \"Maximum retries reached. Exiting the program...\")\n",
    "        \n",
    "#############################################\n",
    "# Call the function to start the program\n",
    "\n",
    "userInput = None\n",
    "\n",
    "longestString(userInput)\n",
    "###########################################"
   ]
  },
  {
   "cell_type": "markdown",
   "metadata": {},
   "source": [
    "###########################################################################################"
   ]
  },
  {
   "cell_type": "markdown",
   "metadata": {},
   "source": [
    "###########################################################################################"
   ]
  },
  {
   "cell_type": "markdown",
   "metadata": {},
   "source": [
    "<p style=\"color: Orange\">Question 06: Write a program that prints the locations of \"i\" character in any string you added</p>"
   ]
  },
  {
   "cell_type": "code",
   "execution_count": 17,
   "metadata": {},
   "outputs": [
    {
     "name": "stdout",
     "output_type": "stream",
     "text": [
      "The number of vowels I have in the given string is:  5\n",
      "And their indexes are @:\n",
      "\n",
      "Character:    i,    Index:    2\n",
      "Character:    i,    Index:    8\n",
      "Character:    i,    Index:    17\n",
      "Character:    i,    Index:    24\n",
      "Character:    i,    Index:    52\n"
     ]
    }
   ],
   "source": [
    "testString = \"This string contains a mixture of vowels, I should find them.\"\n",
    "counter = 0\n",
    "\n",
    "for char in testString:\n",
    "    if char in 'i':\n",
    "        counter += 1\n",
    "\n",
    "print(\"The number of vowels I have in the given string is: \", counter);\n",
    "print(\"And their indexes are @:\\n\");\n",
    "\n",
    "for index, char in enumerate(testString):\n",
    "    if char in 'i':\n",
    "        print(f\"Character:    {char},    Index:    {index}\")\n",
    "###########################################"
   ]
  },
  {
   "cell_type": "markdown",
   "metadata": {},
   "source": [
    "###########################################################################################"
   ]
  },
  {
   "cell_type": "markdown",
   "metadata": {},
   "source": [
    "###########################################################################################"
   ]
  },
  {
   "cell_type": "markdown",
   "metadata": {},
   "source": [
    "<p style=\"color: Orange\">Question 07: Write a program that generate a multiplication table from 1 to the number passed</p>"
   ]
  },
  {
   "cell_type": "code",
   "execution_count": 1,
   "metadata": {},
   "outputs": [
    {
     "name": "stdout",
     "output_type": "stream",
     "text": [
      "The List of Lists is:  [[1], [2, 4], [3, 6, 9]]\n"
     ]
    }
   ],
   "source": [
    "import tkinter as tk\n",
    "from tkinter import simpledialog\n",
    "\n",
    "root = tk.Tk() # Create the Tkinter root window\n",
    "root.withdraw()  # Hide the root window\n",
    "\n",
    "inputNumber = simpledialog.askstring(\"Input\", f\"Enter the number you want to create the multiplication table for: \")\n",
    "\n",
    "\n",
    "if inputNumber.isdigit():\n",
    "    inputNumber = int(inputNumber)\n",
    "    \n",
    "    listOfLists = []\n",
    "    \n",
    "    for index in range(1, inputNumber + 1):\n",
    "        newList = []\n",
    "        for j in range(1, index + 1):\n",
    "            newList.append(j*index)\n",
    "        listOfLists.append(newList)\n",
    "\n",
    "print(\"The List of Lists is: \", listOfLists);\n",
    "###########################################"
   ]
  },
  {
   "cell_type": "markdown",
   "metadata": {},
   "source": [
    "###########################################################################################"
   ]
  },
  {
   "cell_type": "markdown",
   "metadata": {},
   "source": [
    "###########################################################################################"
   ]
  },
  {
   "cell_type": "markdown",
   "metadata": {},
   "source": [
    "<p style=\"color: Orange\">Question 08: Write a program that build a Mario pyramid like below</p>"
   ]
  },
  {
   "cell_type": "code",
   "execution_count": 35,
   "metadata": {},
   "outputs": [
    {
     "name": "stdout",
     "output_type": "stream",
     "text": [
      "Here is a pyramid of size:  5 \n",
      "\n",
      "        *\n",
      "      **\n",
      "    ***\n",
      "  ****\n",
      "*****\n"
     ]
    }
   ],
   "source": [
    "import tkinter as tk\n",
    "from tkinter import simpledialog\n",
    "\n",
    "root = tk.Tk() # Create the Tkinter root window\n",
    "root.withdraw()  # Hide the root window\n",
    "\n",
    "inputNumber = simpledialog.askstring(\"Input\", f\"Enter the size of Mario Pyramid: \")\n",
    "\n",
    "variable = \"\";\n",
    "\n",
    "if inputNumber.isdigit():\n",
    "    inputNumber = int(inputNumber)\n",
    "    \n",
    "    print(\"Here is a pyramid of size: \", inputNumber, \"\\n\")\n",
    "    \n",
    "    for index in range(1, inputNumber + 1):\n",
    "        variable = (\"  \" * (inputNumber - index)) + (\"*\" * (index))\n",
    "        print(variable)\n",
    "###########################################"
   ]
  }
 ],
 "metadata": {
  "kernelspec": {
   "display_name": "Python 3",
   "language": "python",
   "name": "python3"
  },
  "language_info": {
   "codemirror_mode": {
    "name": "ipython",
    "version": 3
   },
   "file_extension": ".py",
   "mimetype": "text/x-python",
   "name": "python",
   "nbconvert_exporter": "python",
   "pygments_lexer": "ipython3",
   "version": "3.13.1"
  }
 },
 "nbformat": 4,
 "nbformat_minor": 2
}
